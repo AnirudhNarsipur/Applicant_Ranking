{
  "nbformat": 4,
  "nbformat_minor": 0,
  "metadata": {
    "accelerator": "GPU",
    "colab": {
      "name": "jobs_full.ipynb",
      "provenance": [],
      "collapsed_sections": [],
      "include_colab_link": true
    },
    "kernelspec": {
      "display_name": "Python 3",
      "name": "python3"
    }
  },
  "cells": [
    {
      "cell_type": "markdown",
      "metadata": {
        "id": "view-in-github",
        "colab_type": "text"
      },
      "source": [
        "<a href=\"https://colab.research.google.com/github/Anriod/Applicant_Ranking/blob/master/jobs_full.ipynb\" target=\"_parent\"><img src=\"https://colab.research.google.com/assets/colab-badge.svg\" alt=\"Open In Colab\"/></a>"
      ]
    },
    {
      "cell_type": "code",
      "metadata": {
        "colab_type": "code",
        "id": "yf10mTUkL0TD",
        "colab": {}
      },
      "source": [
        "import os\n",
        "from google.colab import drive\n",
        "import math\n",
        "import string\n",
        "import datetime\n",
        "import pandas as pd"
      ],
      "execution_count": 0,
      "outputs": []
    },
    {
      "cell_type": "code",
      "metadata": {
        "colab_type": "code",
        "id": "AEYYWvjyNjYX",
        "outputId": "50b12190-1077-4ab3-9376-da15a8170dd6",
        "colab": {
          "base_uri": "https://localhost:8080/",
          "height": 122
        }
      },
      "source": [
        "drive.mount('/content/drive')"
      ],
      "execution_count": 0,
      "outputs": [
        {
          "output_type": "stream",
          "text": [
            "Go to this URL in a browser: https://accounts.google.com/o/oauth2/auth?client_id=947318989803-6bn6qk8qdgf4n4g3pfee6491hc0brc4i.apps.googleusercontent.com&redirect_uri=urn%3aietf%3awg%3aoauth%3a2.0%3aoob&response_type=code&scope=email%20https%3a%2f%2fwww.googleapis.com%2fauth%2fdocs.test%20https%3a%2f%2fwww.googleapis.com%2fauth%2fdrive%20https%3a%2f%2fwww.googleapis.com%2fauth%2fdrive.photos.readonly%20https%3a%2f%2fwww.googleapis.com%2fauth%2fpeopleapi.readonly\n",
            "\n",
            "Enter your authorization code:\n",
            "··········\n",
            "Mounted at /content/drive\n"
          ],
          "name": "stdout"
        }
      ]
    },
    {
      "cell_type": "code",
      "metadata": {
        "colab_type": "code",
        "id": "mzeRgfp3L5i3",
        "colab": {}
      },
      "source": [
        "os.chdir('drive/My Drive/job_rec')"
      ],
      "execution_count": 0,
      "outputs": []
    },
    {
      "cell_type": "code",
      "metadata": {
        "colab_type": "code",
        "id": "68IvyRk9cSvV",
        "colab": {}
      },
      "source": [
        "def remove_nan(x):\n",
        "  if (isinstance(x,float) and math.isnan(x)) or x == None or x == \"\":\n",
        "    return 0\n",
        "  else:\n",
        "    return x"
      ],
      "execution_count": 0,
      "outputs": []
    },
    {
      "cell_type": "code",
      "metadata": {
        "colab_type": "code",
        "id": "EXn_9ShMhADc",
        "colab": {}
      },
      "source": [
        "from html.parser import HTMLParser"
      ],
      "execution_count": 0,
      "outputs": []
    },
    {
      "cell_type": "code",
      "metadata": {
        "colab_type": "code",
        "id": "0A23DfZShkwE",
        "colab": {}
      },
      "source": [
        "\n",
        "class MLStripper(HTMLParser):\n",
        "    def __init__(self):\n",
        "        super().__init__()\n",
        "        self.reset()\n",
        "        self.fed = []\n",
        "    def handle_data(self, d):\n",
        "        self.fed.append(d)\n",
        "    def get_data(self):\n",
        "        return ''.join(self.fed)\n",
        "\n",
        "def strip_tags(html):\n",
        "    if isinstance(html,str):\n",
        "      s = MLStripper()\n",
        "      s.feed(html)\n",
        "      return s.get_data()\n",
        "    else:\n",
        "      return html"
      ],
      "execution_count": 0,
      "outputs": []
    },
    {
      "cell_type": "code",
      "metadata": {
        "colab_type": "code",
        "id": "PiRksWAuifmu",
        "colab": {}
      },
      "source": [
        "tr =  str.maketrans(string.punctuation,\" \"*len(string.punctuation))"
      ],
      "execution_count": 0,
      "outputs": []
    },
    {
      "cell_type": "code",
      "metadata": {
        "colab_type": "code",
        "id": "rw6JWNxhtdWg",
        "colab": {}
      },
      "source": [
        "def clean(x):\n",
        "  if isinstance(x,str):\n",
        "    x=x.replace(\"\\\\r\", \" \")\n",
        "    x = x.replace(\"\\xa0\",\" \")\n",
        "    \n",
        "    return x\n",
        "  else:\n",
        "    return x\n"
      ],
      "execution_count": 0,
      "outputs": []
    },
    {
      "cell_type": "code",
      "metadata": {
        "colab_type": "code",
        "id": "DbCeUFsK2Gku",
        "outputId": "fe3bf5bd-8e69-4000-81c1-42e15b9e7f4a",
        "colab": {
          "base_uri": "https://localhost:8080/",
          "height": 306
        }
      },
      "source": [
        "os.listdir()"
      ],
      "execution_count": 0,
      "outputs": [
        {
          "output_type": "execute_result",
          "data": {
            "text/plain": [
              "['test_users.tsv',\n",
              " 'popular_jobs.py',\n",
              " 'window_dates.tsv',\n",
              " 'splitjobs',\n",
              " 'users.tsv',\n",
              " 'user_history.tsv',\n",
              " 'popular_jobs.csv',\n",
              " 'apps.tsv',\n",
              " 'jobs.tsv',\n",
              " 'final_userdata.csv',\n",
              " 'jobs_current.csv',\n",
              " 'GoogleNews-vectors-negative300.bin',\n",
              " 'applicants.csv',\n",
              " 'final_jobs.csv',\n",
              " 'users_final.csv',\n",
              " 'regression_training.npy',\n",
              " 'regression_training_output.npy']"
            ]
          },
          "metadata": {
            "tags": []
          },
          "execution_count": 9
        }
      ]
    },
    {
      "cell_type": "code",
      "metadata": {
        "colab_type": "code",
        "id": "1qlLFx6Fpq_I",
        "outputId": "defc9ded-fd8a-4579-cf4b-363dca184edb",
        "colab": {
          "base_uri": "https://localhost:8080/",
          "height": 71
        }
      },
      "source": [
        "os.chdir(\"splitjobs\")\n",
        "datasets = {}\n",
        "datasets[\"splits\"] = pd.read_csv(\"jobs1.tsv\",delimiter=\"\\t\",error_bad_lines=False)\n",
        "os.chdir('..')\n",
        "files = os.listdir()"
      ],
      "execution_count": 0,
      "outputs": [
        {
          "output_type": "stream",
          "text": [
            "/usr/local/lib/python3.6/dist-packages/IPython/core/interactiveshell.py:2718: DtypeWarning: Columns (8) have mixed types.Specify dtype option on import or set low_memory=False.\n",
            "  interactivity=interactivity, compiler=compiler, result=result)\n"
          ],
          "name": "stderr"
        }
      ]
    },
    {
      "cell_type": "code",
      "metadata": {
        "colab_type": "code",
        "id": "8gxP5_TklEtA",
        "colab": {}
      },
      "source": [
        "files = os.listdir()\n",
        "datasets= {}"
      ],
      "execution_count": 0,
      "outputs": []
    },
    {
      "cell_type": "code",
      "metadata": {
        "colab_type": "code",
        "id": "htW2XSiRp_BN",
        "outputId": "ffd0b561-d42c-46db-93e8-42dc5de9a2e1",
        "colab": {
          "base_uri": "https://localhost:8080/",
          "height": 122
        }
      },
      "source": [
        "for i in files:\n",
        "  if \".tsv\" in i:\n",
        "    datasets[i.strip('.tsv')] = pd.read_csv(i,delimiter=\"\\t\",error_bad_lines=False)"
      ],
      "execution_count": 0,
      "outputs": [
        {
          "output_type": "stream",
          "text": [
            "b'Skipping line 122433: expected 11 fields, saw 12\\n'\n",
            "b'Skipping line 602576: expected 11 fields, saw 12\\n'\n",
            "b'Skipping line 990950: expected 11 fields, saw 12\\n'\n",
            "/usr/local/lib/python3.6/dist-packages/IPython/core/interactiveshell.py:2718: DtypeWarning: Columns (8) have mixed types.Specify dtype option on import or set low_memory=False.\n",
            "  interactivity=interactivity, compiler=compiler, result=result)\n"
          ],
          "name": "stderr"
        }
      ]
    },
    {
      "cell_type": "code",
      "metadata": {
        "colab_type": "code",
        "id": "QphmSAPsrw3I",
        "outputId": "46c75b10-c09a-45ac-9b60-4e0f61421109",
        "colab": {
          "base_uri": "https://localhost:8080/",
          "height": 204
        }
      },
      "source": [
        "datasets[\"est_user\"].head()"
      ],
      "execution_count": 0,
      "outputs": [
        {
          "output_type": "execute_result",
          "data": {
            "text/html": [
              "<div>\n",
              "<style scoped>\n",
              "    .dataframe tbody tr th:only-of-type {\n",
              "        vertical-align: middle;\n",
              "    }\n",
              "\n",
              "    .dataframe tbody tr th {\n",
              "        vertical-align: top;\n",
              "    }\n",
              "\n",
              "    .dataframe thead th {\n",
              "        text-align: right;\n",
              "    }\n",
              "</style>\n",
              "<table border=\"1\" class=\"dataframe\">\n",
              "  <thead>\n",
              "    <tr style=\"text-align: right;\">\n",
              "      <th></th>\n",
              "      <th>UserID</th>\n",
              "      <th>WindowID</th>\n",
              "    </tr>\n",
              "  </thead>\n",
              "  <tbody>\n",
              "    <tr>\n",
              "      <th>0</th>\n",
              "      <td>767</td>\n",
              "      <td>1</td>\n",
              "    </tr>\n",
              "    <tr>\n",
              "      <th>1</th>\n",
              "      <td>769</td>\n",
              "      <td>1</td>\n",
              "    </tr>\n",
              "    <tr>\n",
              "      <th>2</th>\n",
              "      <td>861</td>\n",
              "      <td>1</td>\n",
              "    </tr>\n",
              "    <tr>\n",
              "      <th>3</th>\n",
              "      <td>1006</td>\n",
              "      <td>1</td>\n",
              "    </tr>\n",
              "    <tr>\n",
              "      <th>4</th>\n",
              "      <td>1192</td>\n",
              "      <td>1</td>\n",
              "    </tr>\n",
              "  </tbody>\n",
              "</table>\n",
              "</div>"
            ],
            "text/plain": [
              "   UserID  WindowID\n",
              "0     767         1\n",
              "1     769         1\n",
              "2     861         1\n",
              "3    1006         1\n",
              "4    1192         1"
            ]
          },
          "metadata": {
            "tags": []
          },
          "execution_count": 15
        }
      ]
    },
    {
      "cell_type": "code",
      "metadata": {
        "colab_type": "code",
        "id": "-tJq4DpVr4vZ",
        "outputId": "2cd7da7d-1180-4b3c-d059-0545d5ea2cee",
        "colab": {
          "base_uri": "https://localhost:8080/",
          "height": 204
        }
      },
      "source": [
        "datasets[\"window_date\"].head()"
      ],
      "execution_count": 0,
      "outputs": [
        {
          "output_type": "execute_result",
          "data": {
            "text/html": [
              "<div>\n",
              "<style scoped>\n",
              "    .dataframe tbody tr th:only-of-type {\n",
              "        vertical-align: middle;\n",
              "    }\n",
              "\n",
              "    .dataframe tbody tr th {\n",
              "        vertical-align: top;\n",
              "    }\n",
              "\n",
              "    .dataframe thead th {\n",
              "        text-align: right;\n",
              "    }\n",
              "</style>\n",
              "<table border=\"1\" class=\"dataframe\">\n",
              "  <thead>\n",
              "    <tr style=\"text-align: right;\">\n",
              "      <th></th>\n",
              "      <th>Window</th>\n",
              "      <th>Train Start</th>\n",
              "      <th>Train End / Test Start</th>\n",
              "      <th>Test End</th>\n",
              "    </tr>\n",
              "  </thead>\n",
              "  <tbody>\n",
              "    <tr>\n",
              "      <th>0</th>\n",
              "      <td>1</td>\n",
              "      <td>2012-04-01 00:00:00</td>\n",
              "      <td>2012-04-10 00:00:00</td>\n",
              "      <td>2012-04-14 00:00:00</td>\n",
              "    </tr>\n",
              "    <tr>\n",
              "      <th>1</th>\n",
              "      <td>2</td>\n",
              "      <td>2012-04-14 00:00:00</td>\n",
              "      <td>2012-04-23 00:00:00</td>\n",
              "      <td>2012-04-27 00:00:00</td>\n",
              "    </tr>\n",
              "    <tr>\n",
              "      <th>2</th>\n",
              "      <td>3</td>\n",
              "      <td>2012-04-27 00:00:00</td>\n",
              "      <td>2012-05-06 00:00:00</td>\n",
              "      <td>2012-05-10 00:00:00</td>\n",
              "    </tr>\n",
              "    <tr>\n",
              "      <th>3</th>\n",
              "      <td>4</td>\n",
              "      <td>2012-05-10 00:00:00</td>\n",
              "      <td>2012-05-19 00:00:00</td>\n",
              "      <td>2012-05-23 00:00:00</td>\n",
              "    </tr>\n",
              "    <tr>\n",
              "      <th>4</th>\n",
              "      <td>5</td>\n",
              "      <td>2012-05-23 00:00:00</td>\n",
              "      <td>2012-06-01 00:00:00</td>\n",
              "      <td>2012-06-05 00:00:00</td>\n",
              "    </tr>\n",
              "  </tbody>\n",
              "</table>\n",
              "</div>"
            ],
            "text/plain": [
              "   Window          Train Start Train End / Test Start             Test End\n",
              "0       1  2012-04-01 00:00:00    2012-04-10 00:00:00  2012-04-14 00:00:00\n",
              "1       2  2012-04-14 00:00:00    2012-04-23 00:00:00  2012-04-27 00:00:00\n",
              "2       3  2012-04-27 00:00:00    2012-05-06 00:00:00  2012-05-10 00:00:00\n",
              "3       4  2012-05-10 00:00:00    2012-05-19 00:00:00  2012-05-23 00:00:00\n",
              "4       5  2012-05-23 00:00:00    2012-06-01 00:00:00  2012-06-05 00:00:00"
            ]
          },
          "metadata": {
            "tags": []
          },
          "execution_count": 16
        }
      ]
    },
    {
      "cell_type": "code",
      "metadata": {
        "colab_type": "code",
        "id": "ADPn90Udr_la",
        "outputId": "60d9c106-da75-44fb-d59b-a4e9f795bc20",
        "colab": {
          "base_uri": "https://localhost:8080/",
          "height": 309
        }
      },
      "source": [
        "datasets[\"user\"].head(\n",
        ")"
      ],
      "execution_count": 0,
      "outputs": [
        {
          "output_type": "execute_result",
          "data": {
            "text/html": [
              "<div>\n",
              "<style scoped>\n",
              "    .dataframe tbody tr th:only-of-type {\n",
              "        vertical-align: middle;\n",
              "    }\n",
              "\n",
              "    .dataframe tbody tr th {\n",
              "        vertical-align: top;\n",
              "    }\n",
              "\n",
              "    .dataframe thead th {\n",
              "        text-align: right;\n",
              "    }\n",
              "</style>\n",
              "<table border=\"1\" class=\"dataframe\">\n",
              "  <thead>\n",
              "    <tr style=\"text-align: right;\">\n",
              "      <th></th>\n",
              "      <th>UserID</th>\n",
              "      <th>WindowID</th>\n",
              "      <th>Split</th>\n",
              "      <th>City</th>\n",
              "      <th>State</th>\n",
              "      <th>Country</th>\n",
              "      <th>ZipCode</th>\n",
              "      <th>DegreeType</th>\n",
              "      <th>Major</th>\n",
              "      <th>GraduationDate</th>\n",
              "      <th>WorkHistoryCount</th>\n",
              "      <th>TotalYearsExperience</th>\n",
              "      <th>CurrentlyEmployed</th>\n",
              "      <th>ManagedOthers</th>\n",
              "      <th>ManagedHowMany</th>\n",
              "    </tr>\n",
              "  </thead>\n",
              "  <tbody>\n",
              "    <tr>\n",
              "      <th>0</th>\n",
              "      <td>47</td>\n",
              "      <td>1</td>\n",
              "      <td>Train</td>\n",
              "      <td>Paramount</td>\n",
              "      <td>CA</td>\n",
              "      <td>US</td>\n",
              "      <td>90723</td>\n",
              "      <td>High School</td>\n",
              "      <td>NaN</td>\n",
              "      <td>1999-06-01 00:00:00</td>\n",
              "      <td>3</td>\n",
              "      <td>10.0</td>\n",
              "      <td>Yes</td>\n",
              "      <td>No</td>\n",
              "      <td>0</td>\n",
              "    </tr>\n",
              "    <tr>\n",
              "      <th>1</th>\n",
              "      <td>72</td>\n",
              "      <td>1</td>\n",
              "      <td>Train</td>\n",
              "      <td>La Mesa</td>\n",
              "      <td>CA</td>\n",
              "      <td>US</td>\n",
              "      <td>91941</td>\n",
              "      <td>Master's</td>\n",
              "      <td>Anthropology</td>\n",
              "      <td>2011-01-01 00:00:00</td>\n",
              "      <td>10</td>\n",
              "      <td>8.0</td>\n",
              "      <td>Yes</td>\n",
              "      <td>No</td>\n",
              "      <td>0</td>\n",
              "    </tr>\n",
              "    <tr>\n",
              "      <th>2</th>\n",
              "      <td>80</td>\n",
              "      <td>1</td>\n",
              "      <td>Train</td>\n",
              "      <td>Williamstown</td>\n",
              "      <td>NJ</td>\n",
              "      <td>US</td>\n",
              "      <td>08094</td>\n",
              "      <td>High School</td>\n",
              "      <td>Not Applicable</td>\n",
              "      <td>1985-06-01 00:00:00</td>\n",
              "      <td>5</td>\n",
              "      <td>11.0</td>\n",
              "      <td>Yes</td>\n",
              "      <td>Yes</td>\n",
              "      <td>5</td>\n",
              "    </tr>\n",
              "    <tr>\n",
              "      <th>3</th>\n",
              "      <td>98</td>\n",
              "      <td>1</td>\n",
              "      <td>Train</td>\n",
              "      <td>Astoria</td>\n",
              "      <td>NY</td>\n",
              "      <td>US</td>\n",
              "      <td>11105</td>\n",
              "      <td>Master's</td>\n",
              "      <td>Journalism</td>\n",
              "      <td>2007-05-01 00:00:00</td>\n",
              "      <td>3</td>\n",
              "      <td>3.0</td>\n",
              "      <td>Yes</td>\n",
              "      <td>No</td>\n",
              "      <td>0</td>\n",
              "    </tr>\n",
              "    <tr>\n",
              "      <th>4</th>\n",
              "      <td>123</td>\n",
              "      <td>1</td>\n",
              "      <td>Train</td>\n",
              "      <td>Baton Rouge</td>\n",
              "      <td>LA</td>\n",
              "      <td>US</td>\n",
              "      <td>70808</td>\n",
              "      <td>Bachelor's</td>\n",
              "      <td>Agricultural Business</td>\n",
              "      <td>2011-05-01 00:00:00</td>\n",
              "      <td>1</td>\n",
              "      <td>9.0</td>\n",
              "      <td>Yes</td>\n",
              "      <td>No</td>\n",
              "      <td>0</td>\n",
              "    </tr>\n",
              "  </tbody>\n",
              "</table>\n",
              "</div>"
            ],
            "text/plain": [
              "   UserID  WindowID  Split  ... CurrentlyEmployed ManagedOthers ManagedHowMany\n",
              "0      47         1  Train  ...               Yes            No              0\n",
              "1      72         1  Train  ...               Yes            No              0\n",
              "2      80         1  Train  ...               Yes           Yes              5\n",
              "3      98         1  Train  ...               Yes            No              0\n",
              "4     123         1  Train  ...               Yes            No              0\n",
              "\n",
              "[5 rows x 15 columns]"
            ]
          },
          "metadata": {
            "tags": []
          },
          "execution_count": 17
        }
      ]
    },
    {
      "cell_type": "code",
      "metadata": {
        "colab_type": "code",
        "id": "Z_VhlV3wsCRC",
        "outputId": "f55370dd-fdd8-46e2-803b-afcf20c7655e",
        "colab": {
          "base_uri": "https://localhost:8080/",
          "height": 204
        }
      },
      "source": [
        "datasets[\"user_history\"].head()"
      ],
      "execution_count": 0,
      "outputs": [
        {
          "output_type": "execute_result",
          "data": {
            "text/html": [
              "<div>\n",
              "<style scoped>\n",
              "    .dataframe tbody tr th:only-of-type {\n",
              "        vertical-align: middle;\n",
              "    }\n",
              "\n",
              "    .dataframe tbody tr th {\n",
              "        vertical-align: top;\n",
              "    }\n",
              "\n",
              "    .dataframe thead th {\n",
              "        text-align: right;\n",
              "    }\n",
              "</style>\n",
              "<table border=\"1\" class=\"dataframe\">\n",
              "  <thead>\n",
              "    <tr style=\"text-align: right;\">\n",
              "      <th></th>\n",
              "      <th>UserID</th>\n",
              "      <th>WindowID</th>\n",
              "      <th>Split</th>\n",
              "      <th>Sequence</th>\n",
              "      <th>JobTitle</th>\n",
              "    </tr>\n",
              "  </thead>\n",
              "  <tbody>\n",
              "    <tr>\n",
              "      <th>0</th>\n",
              "      <td>47</td>\n",
              "      <td>1</td>\n",
              "      <td>Train</td>\n",
              "      <td>1</td>\n",
              "      <td>National Space Communication Programs-Special ...</td>\n",
              "    </tr>\n",
              "    <tr>\n",
              "      <th>1</th>\n",
              "      <td>47</td>\n",
              "      <td>1</td>\n",
              "      <td>Train</td>\n",
              "      <td>2</td>\n",
              "      <td>Detention Officer</td>\n",
              "    </tr>\n",
              "    <tr>\n",
              "      <th>2</th>\n",
              "      <td>47</td>\n",
              "      <td>1</td>\n",
              "      <td>Train</td>\n",
              "      <td>3</td>\n",
              "      <td>Passenger Screener, TSA</td>\n",
              "    </tr>\n",
              "    <tr>\n",
              "      <th>3</th>\n",
              "      <td>72</td>\n",
              "      <td>1</td>\n",
              "      <td>Train</td>\n",
              "      <td>1</td>\n",
              "      <td>Lecturer, Department of Anthropology</td>\n",
              "    </tr>\n",
              "    <tr>\n",
              "      <th>4</th>\n",
              "      <td>72</td>\n",
              "      <td>1</td>\n",
              "      <td>Train</td>\n",
              "      <td>2</td>\n",
              "      <td>Student Assistant</td>\n",
              "    </tr>\n",
              "  </tbody>\n",
              "</table>\n",
              "</div>"
            ],
            "text/plain": [
              "   UserID  ...                                           JobTitle\n",
              "0      47  ...  National Space Communication Programs-Special ...\n",
              "1      47  ...                                  Detention Officer\n",
              "2      47  ...                            Passenger Screener, TSA\n",
              "3      72  ...               Lecturer, Department of Anthropology\n",
              "4      72  ...                                  Student Assistant\n",
              "\n",
              "[5 rows x 5 columns]"
            ]
          },
          "metadata": {
            "tags": []
          },
          "execution_count": 18
        }
      ]
    },
    {
      "cell_type": "code",
      "metadata": {
        "colab_type": "code",
        "id": "w1LeAkL8sJnW",
        "outputId": "c9c9a660-0f4b-477c-c3f9-8452de243144",
        "colab": {
          "base_uri": "https://localhost:8080/",
          "height": 204
        }
      },
      "source": [
        "datasets[\"app\"].head()"
      ],
      "execution_count": 0,
      "outputs": [
        {
          "output_type": "execute_result",
          "data": {
            "text/html": [
              "<div>\n",
              "<style scoped>\n",
              "    .dataframe tbody tr th:only-of-type {\n",
              "        vertical-align: middle;\n",
              "    }\n",
              "\n",
              "    .dataframe tbody tr th {\n",
              "        vertical-align: top;\n",
              "    }\n",
              "\n",
              "    .dataframe thead th {\n",
              "        text-align: right;\n",
              "    }\n",
              "</style>\n",
              "<table border=\"1\" class=\"dataframe\">\n",
              "  <thead>\n",
              "    <tr style=\"text-align: right;\">\n",
              "      <th></th>\n",
              "      <th>UserID</th>\n",
              "      <th>WindowID</th>\n",
              "      <th>Split</th>\n",
              "      <th>ApplicationDate</th>\n",
              "      <th>JobID</th>\n",
              "    </tr>\n",
              "  </thead>\n",
              "  <tbody>\n",
              "    <tr>\n",
              "      <th>0</th>\n",
              "      <td>47</td>\n",
              "      <td>1</td>\n",
              "      <td>Train</td>\n",
              "      <td>2012-04-04 15:56:23.537</td>\n",
              "      <td>169528</td>\n",
              "    </tr>\n",
              "    <tr>\n",
              "      <th>1</th>\n",
              "      <td>47</td>\n",
              "      <td>1</td>\n",
              "      <td>Train</td>\n",
              "      <td>2012-04-06 01:03:00.003</td>\n",
              "      <td>284009</td>\n",
              "    </tr>\n",
              "    <tr>\n",
              "      <th>2</th>\n",
              "      <td>47</td>\n",
              "      <td>1</td>\n",
              "      <td>Train</td>\n",
              "      <td>2012-04-05 02:40:27.753</td>\n",
              "      <td>2121</td>\n",
              "    </tr>\n",
              "    <tr>\n",
              "      <th>3</th>\n",
              "      <td>47</td>\n",
              "      <td>1</td>\n",
              "      <td>Train</td>\n",
              "      <td>2012-04-05 02:37:02.673</td>\n",
              "      <td>848187</td>\n",
              "    </tr>\n",
              "    <tr>\n",
              "      <th>4</th>\n",
              "      <td>47</td>\n",
              "      <td>1</td>\n",
              "      <td>Train</td>\n",
              "      <td>2012-04-05 22:44:06.653</td>\n",
              "      <td>733748</td>\n",
              "    </tr>\n",
              "  </tbody>\n",
              "</table>\n",
              "</div>"
            ],
            "text/plain": [
              "   UserID  WindowID  Split          ApplicationDate   JobID\n",
              "0      47         1  Train  2012-04-04 15:56:23.537  169528\n",
              "1      47         1  Train  2012-04-06 01:03:00.003  284009\n",
              "2      47         1  Train  2012-04-05 02:40:27.753    2121\n",
              "3      47         1  Train  2012-04-05 02:37:02.673  848187\n",
              "4      47         1  Train  2012-04-05 22:44:06.653  733748"
            ]
          },
          "metadata": {
            "tags": []
          },
          "execution_count": 19
        }
      ]
    },
    {
      "cell_type": "code",
      "metadata": {
        "colab_type": "code",
        "id": "R6ZUt_wqsLF-",
        "outputId": "8c99ea47-f1e4-4c74-d7ce-3054ce4cf94a",
        "colab": {
          "base_uri": "https://localhost:8080/",
          "height": 374
        }
      },
      "source": [
        "datasets[\"job\"].head()"
      ],
      "execution_count": 0,
      "outputs": [
        {
          "output_type": "execute_result",
          "data": {
            "text/html": [
              "<div>\n",
              "<style scoped>\n",
              "    .dataframe tbody tr th:only-of-type {\n",
              "        vertical-align: middle;\n",
              "    }\n",
              "\n",
              "    .dataframe tbody tr th {\n",
              "        vertical-align: top;\n",
              "    }\n",
              "\n",
              "    .dataframe thead th {\n",
              "        text-align: right;\n",
              "    }\n",
              "</style>\n",
              "<table border=\"1\" class=\"dataframe\">\n",
              "  <thead>\n",
              "    <tr style=\"text-align: right;\">\n",
              "      <th></th>\n",
              "      <th>JobID</th>\n",
              "      <th>WindowID</th>\n",
              "      <th>Title</th>\n",
              "      <th>Description</th>\n",
              "      <th>Requirements</th>\n",
              "      <th>City</th>\n",
              "      <th>State</th>\n",
              "      <th>Country</th>\n",
              "      <th>Zip5</th>\n",
              "      <th>StartDate</th>\n",
              "      <th>EndDate</th>\n",
              "    </tr>\n",
              "  </thead>\n",
              "  <tbody>\n",
              "    <tr>\n",
              "      <th>0</th>\n",
              "      <td>1</td>\n",
              "      <td>1</td>\n",
              "      <td>Security Engineer/Technical Lead</td>\n",
              "      <td>&lt;p&gt;Security Clearance Required:&amp;nbsp; Top Secr...</td>\n",
              "      <td>&lt;p&gt;SKILL SET&lt;/p&gt;\\r&lt;p&gt;&amp;nbsp;&lt;/p&gt;\\r&lt;p&gt;Network Se...</td>\n",
              "      <td>Washington</td>\n",
              "      <td>DC</td>\n",
              "      <td>US</td>\n",
              "      <td>20531</td>\n",
              "      <td>2012-03-07 13:17:01.643</td>\n",
              "      <td>2012-04-06 23:59:59</td>\n",
              "    </tr>\n",
              "    <tr>\n",
              "      <th>1</th>\n",
              "      <td>4</td>\n",
              "      <td>1</td>\n",
              "      <td>SAP Business Analyst / WM</td>\n",
              "      <td>&lt;strong&gt;NO Corp. to Corp resumes&amp;nbsp;are bein...</td>\n",
              "      <td>&lt;p&gt;&lt;b&gt;WHAT YOU NEED: &lt;/b&gt;&lt;/p&gt;\\r&lt;p&gt;Four year co...</td>\n",
              "      <td>Charlotte</td>\n",
              "      <td>NC</td>\n",
              "      <td>US</td>\n",
              "      <td>28217</td>\n",
              "      <td>2012-03-21 02:03:44.137</td>\n",
              "      <td>2012-04-20 23:59:59</td>\n",
              "    </tr>\n",
              "    <tr>\n",
              "      <th>2</th>\n",
              "      <td>7</td>\n",
              "      <td>1</td>\n",
              "      <td>P/T HUMAN RESOURCES ASSISTANT</td>\n",
              "      <td>&lt;b&gt;    &lt;b&gt; P/T HUMAN RESOURCES ASSISTANT&lt;/b&gt; &lt;...</td>\n",
              "      <td>Please refer to the Job Description to view th...</td>\n",
              "      <td>Winter Park</td>\n",
              "      <td>FL</td>\n",
              "      <td>US</td>\n",
              "      <td>32792</td>\n",
              "      <td>2012-03-02 16:36:55.447</td>\n",
              "      <td>2012-04-01 23:59:59</td>\n",
              "    </tr>\n",
              "    <tr>\n",
              "      <th>3</th>\n",
              "      <td>8</td>\n",
              "      <td>1</td>\n",
              "      <td>Route Delivery Drivers</td>\n",
              "      <td>CITY BEVERAGES Come to work for the best in th...</td>\n",
              "      <td>Please refer to the Job Description to view th...</td>\n",
              "      <td>Orlando</td>\n",
              "      <td>FL</td>\n",
              "      <td>US</td>\n",
              "      <td>NaN</td>\n",
              "      <td>2012-03-03 09:01:10.077</td>\n",
              "      <td>2012-04-02 23:59:59</td>\n",
              "    </tr>\n",
              "    <tr>\n",
              "      <th>4</th>\n",
              "      <td>9</td>\n",
              "      <td>1</td>\n",
              "      <td>Housekeeping</td>\n",
              "      <td>I make  sure every part of their day is magica...</td>\n",
              "      <td>Please refer to the Job Description to view th...</td>\n",
              "      <td>Orlando</td>\n",
              "      <td>FL</td>\n",
              "      <td>US</td>\n",
              "      <td>NaN</td>\n",
              "      <td>2012-03-03 09:01:11.88</td>\n",
              "      <td>2012-04-02 23:59:59</td>\n",
              "    </tr>\n",
              "  </tbody>\n",
              "</table>\n",
              "</div>"
            ],
            "text/plain": [
              "   JobID  WindowID  ...                StartDate              EndDate\n",
              "0      1         1  ...  2012-03-07 13:17:01.643  2012-04-06 23:59:59\n",
              "1      4         1  ...  2012-03-21 02:03:44.137  2012-04-20 23:59:59\n",
              "2      7         1  ...  2012-03-02 16:36:55.447  2012-04-01 23:59:59\n",
              "3      8         1  ...  2012-03-03 09:01:10.077  2012-04-02 23:59:59\n",
              "4      9         1  ...   2012-03-03 09:01:11.88  2012-04-02 23:59:59\n",
              "\n",
              "[5 rows x 11 columns]"
            ]
          },
          "metadata": {
            "tags": []
          },
          "execution_count": 20
        }
      ]
    },
    {
      "cell_type": "code",
      "metadata": {
        "colab_type": "code",
        "id": "EvmgXqCCsXEW",
        "colab": {}
      },
      "source": [
        "datasets[\"jobs\"] = datasets[\"job\"]"
      ],
      "execution_count": 0,
      "outputs": []
    },
    {
      "cell_type": "code",
      "metadata": {
        "colab_type": "code",
        "id": "epZTzBlsSN4d",
        "colab": {}
      },
      "source": [
        "job_vals = datasets[\"app\"].JobID.values"
      ],
      "execution_count": 0,
      "outputs": []
    },
    {
      "cell_type": "code",
      "metadata": {
        "colab_type": "code",
        "id": "-qSO-eB3TKPL",
        "colab": {}
      },
      "source": [
        "from collections import Counter\n"
      ],
      "execution_count": 0,
      "outputs": []
    },
    {
      "cell_type": "code",
      "metadata": {
        "colab_type": "code",
        "id": "Fg2cfBRKVevU",
        "colab": {}
      },
      "source": [
        "count = Counter(job_vals)"
      ],
      "execution_count": 0,
      "outputs": []
    },
    {
      "cell_type": "code",
      "metadata": {
        "colab_type": "code",
        "id": "QHPgIvQ1WHou",
        "outputId": "bd76b7bf-e629-4812-f8ee-9114aea43e23",
        "colab": {
          "base_uri": "https://localhost:8080/",
          "height": 34
        }
      },
      "source": [
        "big_jobs = [k for k,v in count.items() if v >100]\n",
        "print(len(big_jobs))"
      ],
      "execution_count": 0,
      "outputs": [
        {
          "output_type": "stream",
          "text": [
            "256\n"
          ],
          "name": "stdout"
        }
      ]
    },
    {
      "cell_type": "code",
      "metadata": {
        "colab_type": "code",
        "id": "9zReOR_OWSQv",
        "colab": {}
      },
      "source": [
        "datasets[\"jobs\"] = datasets[\"jobs\"][datasets[\"jobs\"][\"JobID\"].isin(big_jobs)]"
      ],
      "execution_count": 0,
      "outputs": []
    },
    {
      "cell_type": "code",
      "metadata": {
        "colab_type": "code",
        "id": "HC17KS57W3Zx",
        "colab": {}
      },
      "source": [
        "datasets[\"app\"] = datasets[\"app\"][datasets[\"app\"][\"JobID\"].isin(big_jobs)]"
      ],
      "execution_count": 0,
      "outputs": []
    },
    {
      "cell_type": "code",
      "metadata": {
        "colab_type": "code",
        "id": "XMKx8cVkXgrt",
        "colab": {}
      },
      "source": [
        "appliers = datasets[\"app\"][\"UserID\"].values"
      ],
      "execution_count": 0,
      "outputs": []
    },
    {
      "cell_type": "code",
      "metadata": {
        "colab_type": "code",
        "id": "swjUYeljXqWR",
        "colab": {}
      },
      "source": [
        "appliers = list(set(appliers))"
      ],
      "execution_count": 0,
      "outputs": []
    },
    {
      "cell_type": "code",
      "metadata": {
        "colab_type": "code",
        "id": "2ctPfRDslrNv",
        "outputId": "e79c4eed-a4b3-493b-fca8-417ada4f9552",
        "colab": {
          "base_uri": "https://localhost:8080/",
          "height": 34
        }
      },
      "source": [
        "len(appliers)"
      ],
      "execution_count": 0,
      "outputs": [
        {
          "output_type": "execute_result",
          "data": {
            "text/plain": [
              "15932"
            ]
          },
          "metadata": {
            "tags": []
          },
          "execution_count": 30
        }
      ]
    },
    {
      "cell_type": "code",
      "metadata": {
        "colab_type": "code",
        "id": "5BjleoooYHKO",
        "colab": {}
      },
      "source": [
        "datasets[\"user\"] = datasets[\"user\"][datasets[\"user\"][\"UserID\"].isin(appliers)]"
      ],
      "execution_count": 0,
      "outputs": []
    },
    {
      "cell_type": "code",
      "metadata": {
        "colab_type": "code",
        "id": "BZhKUhRWiXJB",
        "outputId": "9101c64e-7c1d-43e5-9038-359b08e9ab2a",
        "colab": {
          "base_uri": "https://localhost:8080/",
          "height": 34
        }
      },
      "source": [
        "len(datasets[\"user\"])"
      ],
      "execution_count": 0,
      "outputs": [
        {
          "output_type": "execute_result",
          "data": {
            "text/plain": [
              "15932"
            ]
          },
          "metadata": {
            "tags": []
          },
          "execution_count": 32
        }
      ]
    },
    {
      "cell_type": "code",
      "metadata": {
        "colab_type": "code",
        "id": "yeUHse_Giwc6",
        "colab": {}
      },
      "source": [
        "datasets[\"user_history\"] = datasets[\"user_history\"][datasets[\"user_history\"][\"UserID\"].isin(appliers)]"
      ],
      "execution_count": 0,
      "outputs": []
    },
    {
      "cell_type": "code",
      "metadata": {
        "colab_type": "code",
        "id": "7aXmoFKgjAjv",
        "colab": {}
      },
      "source": [
        "uh= datasets[\"user_history\"]"
      ],
      "execution_count": 0,
      "outputs": []
    },
    {
      "cell_type": "code",
      "metadata": {
        "colab_type": "code",
        "id": "S2_gU6zImqw2",
        "colab": {}
      },
      "source": [
        "uh = uh[uh[\"Sequence\"]<=7]"
      ],
      "execution_count": 0,
      "outputs": []
    },
    {
      "cell_type": "code",
      "metadata": {
        "colab_type": "code",
        "id": "fFc0iMwGoG3R",
        "outputId": "c6f773c5-a2a9-4b22-d822-b6daf4f04d70",
        "colab": {
          "base_uri": "https://localhost:8080/",
          "height": 419
        }
      },
      "source": [
        "uh[uh[\"JobTitle\"].isnull()]"
      ],
      "execution_count": 0,
      "outputs": [
        {
          "output_type": "execute_result",
          "data": {
            "text/html": [
              "<div>\n",
              "<style scoped>\n",
              "    .dataframe tbody tr th:only-of-type {\n",
              "        vertical-align: middle;\n",
              "    }\n",
              "\n",
              "    .dataframe tbody tr th {\n",
              "        vertical-align: top;\n",
              "    }\n",
              "\n",
              "    .dataframe thead th {\n",
              "        text-align: right;\n",
              "    }\n",
              "</style>\n",
              "<table border=\"1\" class=\"dataframe\">\n",
              "  <thead>\n",
              "    <tr style=\"text-align: right;\">\n",
              "      <th></th>\n",
              "      <th>UserID</th>\n",
              "      <th>WindowID</th>\n",
              "      <th>Split</th>\n",
              "      <th>Sequence</th>\n",
              "      <th>JobTitle</th>\n",
              "    </tr>\n",
              "  </thead>\n",
              "  <tbody>\n",
              "    <tr>\n",
              "      <th>108</th>\n",
              "      <td>554</td>\n",
              "      <td>1</td>\n",
              "      <td>Train</td>\n",
              "      <td>1</td>\n",
              "      <td>NaN</td>\n",
              "    </tr>\n",
              "    <tr>\n",
              "      <th>264</th>\n",
              "      <td>1697</td>\n",
              "      <td>1</td>\n",
              "      <td>Train</td>\n",
              "      <td>1</td>\n",
              "      <td>NaN</td>\n",
              "    </tr>\n",
              "    <tr>\n",
              "      <th>266</th>\n",
              "      <td>1697</td>\n",
              "      <td>1</td>\n",
              "      <td>Train</td>\n",
              "      <td>3</td>\n",
              "      <td>NaN</td>\n",
              "    </tr>\n",
              "    <tr>\n",
              "      <th>267</th>\n",
              "      <td>1697</td>\n",
              "      <td>1</td>\n",
              "      <td>Train</td>\n",
              "      <td>4</td>\n",
              "      <td>NaN</td>\n",
              "    </tr>\n",
              "    <tr>\n",
              "      <th>711</th>\n",
              "      <td>4368</td>\n",
              "      <td>1</td>\n",
              "      <td>Test</td>\n",
              "      <td>5</td>\n",
              "      <td>NaN</td>\n",
              "    </tr>\n",
              "    <tr>\n",
              "      <th>...</th>\n",
              "      <td>...</td>\n",
              "      <td>...</td>\n",
              "      <td>...</td>\n",
              "      <td>...</td>\n",
              "      <td>...</td>\n",
              "    </tr>\n",
              "    <tr>\n",
              "      <th>1750095</th>\n",
              "      <td>1449181</td>\n",
              "      <td>7</td>\n",
              "      <td>Train</td>\n",
              "      <td>3</td>\n",
              "      <td>NaN</td>\n",
              "    </tr>\n",
              "    <tr>\n",
              "      <th>1751422</th>\n",
              "      <td>1457271</td>\n",
              "      <td>7</td>\n",
              "      <td>Train</td>\n",
              "      <td>4</td>\n",
              "      <td>NaN</td>\n",
              "    </tr>\n",
              "    <tr>\n",
              "      <th>1751969</th>\n",
              "      <td>1460492</td>\n",
              "      <td>7</td>\n",
              "      <td>Train</td>\n",
              "      <td>2</td>\n",
              "      <td>NaN</td>\n",
              "    </tr>\n",
              "    <tr>\n",
              "      <th>1753620</th>\n",
              "      <td>1470416</td>\n",
              "      <td>7</td>\n",
              "      <td>Train</td>\n",
              "      <td>1</td>\n",
              "      <td>NaN</td>\n",
              "    </tr>\n",
              "    <tr>\n",
              "      <th>1753832</th>\n",
              "      <td>1471656</td>\n",
              "      <td>7</td>\n",
              "      <td>Train</td>\n",
              "      <td>4</td>\n",
              "      <td>NaN</td>\n",
              "    </tr>\n",
              "  </tbody>\n",
              "</table>\n",
              "<p>3470 rows × 5 columns</p>\n",
              "</div>"
            ],
            "text/plain": [
              "          UserID  WindowID  Split  Sequence JobTitle\n",
              "108          554         1  Train         1      NaN\n",
              "264         1697         1  Train         1      NaN\n",
              "266         1697         1  Train         3      NaN\n",
              "267         1697         1  Train         4      NaN\n",
              "711         4368         1   Test         5      NaN\n",
              "...          ...       ...    ...       ...      ...\n",
              "1750095  1449181         7  Train         3      NaN\n",
              "1751422  1457271         7  Train         4      NaN\n",
              "1751969  1460492         7  Train         2      NaN\n",
              "1753620  1470416         7  Train         1      NaN\n",
              "1753832  1471656         7  Train         4      NaN\n",
              "\n",
              "[3470 rows x 5 columns]"
            ]
          },
          "metadata": {
            "tags": []
          },
          "execution_count": 36
        }
      ]
    },
    {
      "cell_type": "code",
      "metadata": {
        "colab_type": "code",
        "id": "hEU1q2Y5pfan",
        "colab": {}
      },
      "source": [
        "usr = datasets[\"user\"]"
      ],
      "execution_count": 0,
      "outputs": []
    },
    {
      "cell_type": "code",
      "metadata": {
        "colab_type": "code",
        "id": "iRFNjj7ypnQq",
        "outputId": "ef4b5d09-0ebd-45a4-efb4-ca1d46b0b19c",
        "colab": {
          "base_uri": "https://localhost:8080/",
          "height": 592
        }
      },
      "source": [
        "usr.head(100)"
      ],
      "execution_count": 0,
      "outputs": [
        {
          "output_type": "execute_result",
          "data": {
            "text/html": [
              "<div>\n",
              "<style scoped>\n",
              "    .dataframe tbody tr th:only-of-type {\n",
              "        vertical-align: middle;\n",
              "    }\n",
              "\n",
              "    .dataframe tbody tr th {\n",
              "        vertical-align: top;\n",
              "    }\n",
              "\n",
              "    .dataframe thead th {\n",
              "        text-align: right;\n",
              "    }\n",
              "</style>\n",
              "<table border=\"1\" class=\"dataframe\">\n",
              "  <thead>\n",
              "    <tr style=\"text-align: right;\">\n",
              "      <th></th>\n",
              "      <th>UserID</th>\n",
              "      <th>WindowID</th>\n",
              "      <th>Split</th>\n",
              "      <th>City</th>\n",
              "      <th>State</th>\n",
              "      <th>Country</th>\n",
              "      <th>ZipCode</th>\n",
              "      <th>DegreeType</th>\n",
              "      <th>Major</th>\n",
              "      <th>GraduationDate</th>\n",
              "      <th>WorkHistoryCount</th>\n",
              "      <th>TotalYearsExperience</th>\n",
              "      <th>CurrentlyEmployed</th>\n",
              "      <th>ManagedOthers</th>\n",
              "      <th>ManagedHowMany</th>\n",
              "    </tr>\n",
              "  </thead>\n",
              "  <tbody>\n",
              "    <tr>\n",
              "      <th>21</th>\n",
              "      <td>554</td>\n",
              "      <td>1</td>\n",
              "      <td>Train</td>\n",
              "      <td>Altamonte Springs</td>\n",
              "      <td>FL</td>\n",
              "      <td>US</td>\n",
              "      <td>32701</td>\n",
              "      <td>Bachelor's</td>\n",
              "      <td>Legal Studies</td>\n",
              "      <td>2006-12-01 00:00:00</td>\n",
              "      <td>2</td>\n",
              "      <td>4.0</td>\n",
              "      <td>No</td>\n",
              "      <td>No</td>\n",
              "      <td>0</td>\n",
              "    </tr>\n",
              "    <tr>\n",
              "      <th>32</th>\n",
              "      <td>769</td>\n",
              "      <td>1</td>\n",
              "      <td>Test</td>\n",
              "      <td>Roselle</td>\n",
              "      <td>IL</td>\n",
              "      <td>US</td>\n",
              "      <td>60172</td>\n",
              "      <td>Bachelor's</td>\n",
              "      <td>Radio-Television</td>\n",
              "      <td>2011-05-01 00:00:00</td>\n",
              "      <td>5</td>\n",
              "      <td>5.0</td>\n",
              "      <td>Yes</td>\n",
              "      <td>No</td>\n",
              "      <td>0</td>\n",
              "    </tr>\n",
              "    <tr>\n",
              "      <th>61</th>\n",
              "      <td>1697</td>\n",
              "      <td>1</td>\n",
              "      <td>Train</td>\n",
              "      <td>Justice</td>\n",
              "      <td>IL</td>\n",
              "      <td>US</td>\n",
              "      <td>60458</td>\n",
              "      <td>High School</td>\n",
              "      <td>Not Applicable</td>\n",
              "      <td>2007-01-01 00:00:00</td>\n",
              "      <td>4</td>\n",
              "      <td>6.0</td>\n",
              "      <td>NaN</td>\n",
              "      <td>No</td>\n",
              "      <td>0</td>\n",
              "    </tr>\n",
              "    <tr>\n",
              "      <th>182</th>\n",
              "      <td>4366</td>\n",
              "      <td>1</td>\n",
              "      <td>Train</td>\n",
              "      <td>Cooper City</td>\n",
              "      <td>FL</td>\n",
              "      <td>US</td>\n",
              "      <td>33328</td>\n",
              "      <td>None</td>\n",
              "      <td>NaN</td>\n",
              "      <td>NaN</td>\n",
              "      <td>3</td>\n",
              "      <td>9.0</td>\n",
              "      <td>NaN</td>\n",
              "      <td>No</td>\n",
              "      <td>0</td>\n",
              "    </tr>\n",
              "    <tr>\n",
              "      <th>183</th>\n",
              "      <td>4368</td>\n",
              "      <td>1</td>\n",
              "      <td>Test</td>\n",
              "      <td>College Park</td>\n",
              "      <td>GA</td>\n",
              "      <td>US</td>\n",
              "      <td>30349</td>\n",
              "      <td>High School</td>\n",
              "      <td>Not Applicable</td>\n",
              "      <td>NaN</td>\n",
              "      <td>5</td>\n",
              "      <td>45.0</td>\n",
              "      <td>No</td>\n",
              "      <td>No</td>\n",
              "      <td>0</td>\n",
              "    </tr>\n",
              "    <tr>\n",
              "      <th>...</th>\n",
              "      <td>...</td>\n",
              "      <td>...</td>\n",
              "      <td>...</td>\n",
              "      <td>...</td>\n",
              "      <td>...</td>\n",
              "      <td>...</td>\n",
              "      <td>...</td>\n",
              "      <td>...</td>\n",
              "      <td>...</td>\n",
              "      <td>...</td>\n",
              "      <td>...</td>\n",
              "      <td>...</td>\n",
              "      <td>...</td>\n",
              "      <td>...</td>\n",
              "      <td>...</td>\n",
              "    </tr>\n",
              "    <tr>\n",
              "      <th>2542</th>\n",
              "      <td>59813</td>\n",
              "      <td>1</td>\n",
              "      <td>Train</td>\n",
              "      <td>Riverdale</td>\n",
              "      <td>GA</td>\n",
              "      <td>US</td>\n",
              "      <td>30296</td>\n",
              "      <td>Bachelor's</td>\n",
              "      <td>Communications and Media Studies</td>\n",
              "      <td>2012-05-01 00:00:00</td>\n",
              "      <td>5</td>\n",
              "      <td>4.0</td>\n",
              "      <td>Yes</td>\n",
              "      <td>No</td>\n",
              "      <td>0</td>\n",
              "    </tr>\n",
              "    <tr>\n",
              "      <th>2543</th>\n",
              "      <td>59830</td>\n",
              "      <td>1</td>\n",
              "      <td>Train</td>\n",
              "      <td>Bronx</td>\n",
              "      <td>NY</td>\n",
              "      <td>US</td>\n",
              "      <td>10465</td>\n",
              "      <td>Bachelor's</td>\n",
              "      <td>Business Administration</td>\n",
              "      <td>NaN</td>\n",
              "      <td>4</td>\n",
              "      <td>10.0</td>\n",
              "      <td>No</td>\n",
              "      <td>No</td>\n",
              "      <td>0</td>\n",
              "    </tr>\n",
              "    <tr>\n",
              "      <th>2563</th>\n",
              "      <td>60160</td>\n",
              "      <td>1</td>\n",
              "      <td>Train</td>\n",
              "      <td>Irvington</td>\n",
              "      <td>NJ</td>\n",
              "      <td>US</td>\n",
              "      <td>07111</td>\n",
              "      <td>None</td>\n",
              "      <td>Customer Service</td>\n",
              "      <td>NaN</td>\n",
              "      <td>2</td>\n",
              "      <td>5.0</td>\n",
              "      <td>Yes</td>\n",
              "      <td>No</td>\n",
              "      <td>0</td>\n",
              "    </tr>\n",
              "    <tr>\n",
              "      <th>2576</th>\n",
              "      <td>60339</td>\n",
              "      <td>1</td>\n",
              "      <td>Test</td>\n",
              "      <td>Fort Worth</td>\n",
              "      <td>TX</td>\n",
              "      <td>US</td>\n",
              "      <td>76116</td>\n",
              "      <td>Associate's</td>\n",
              "      <td>Accounting/Business</td>\n",
              "      <td>2014-05-01 00:00:00</td>\n",
              "      <td>8</td>\n",
              "      <td>13.0</td>\n",
              "      <td>NaN</td>\n",
              "      <td>No</td>\n",
              "      <td>0</td>\n",
              "    </tr>\n",
              "    <tr>\n",
              "      <th>2602</th>\n",
              "      <td>60891</td>\n",
              "      <td>1</td>\n",
              "      <td>Train</td>\n",
              "      <td>Locust Grove</td>\n",
              "      <td>GA</td>\n",
              "      <td>US</td>\n",
              "      <td>30248</td>\n",
              "      <td>High School</td>\n",
              "      <td>Not Applicable</td>\n",
              "      <td>2001-01-01 00:00:00</td>\n",
              "      <td>2</td>\n",
              "      <td>11.0</td>\n",
              "      <td>Yes</td>\n",
              "      <td>Yes</td>\n",
              "      <td>10</td>\n",
              "    </tr>\n",
              "  </tbody>\n",
              "</table>\n",
              "<p>100 rows × 15 columns</p>\n",
              "</div>"
            ],
            "text/plain": [
              "      UserID  WindowID  Split  ... CurrentlyEmployed ManagedOthers ManagedHowMany\n",
              "21       554         1  Train  ...                No            No              0\n",
              "32       769         1   Test  ...               Yes            No              0\n",
              "61      1697         1  Train  ...               NaN            No              0\n",
              "182     4366         1  Train  ...               NaN            No              0\n",
              "183     4368         1   Test  ...                No            No              0\n",
              "...      ...       ...    ...  ...               ...           ...            ...\n",
              "2542   59813         1  Train  ...               Yes            No              0\n",
              "2543   59830         1  Train  ...                No            No              0\n",
              "2563   60160         1  Train  ...               Yes            No              0\n",
              "2576   60339         1   Test  ...               NaN            No              0\n",
              "2602   60891         1  Train  ...               Yes           Yes             10\n",
              "\n",
              "[100 rows x 15 columns]"
            ]
          },
          "metadata": {
            "tags": []
          },
          "execution_count": 38
        }
      ]
    },
    {
      "cell_type": "code",
      "metadata": {
        "colab_type": "code",
        "id": "FlFEz0LFwjy5",
        "outputId": "d38964df-c8ed-4535-e252-c21f1c090c85",
        "colab": {
          "base_uri": "https://localhost:8080/",
          "height": 657
        }
      },
      "source": [
        "usr.set_index('UserID').join(uh.set_index('UserID'),rsuffix=\"_history\")"
      ],
      "execution_count": 0,
      "outputs": [
        {
          "output_type": "execute_result",
          "data": {
            "text/html": [
              "<div>\n",
              "<style scoped>\n",
              "    .dataframe tbody tr th:only-of-type {\n",
              "        vertical-align: middle;\n",
              "    }\n",
              "\n",
              "    .dataframe tbody tr th {\n",
              "        vertical-align: top;\n",
              "    }\n",
              "\n",
              "    .dataframe thead th {\n",
              "        text-align: right;\n",
              "    }\n",
              "</style>\n",
              "<table border=\"1\" class=\"dataframe\">\n",
              "  <thead>\n",
              "    <tr style=\"text-align: right;\">\n",
              "      <th></th>\n",
              "      <th>WindowID</th>\n",
              "      <th>Split</th>\n",
              "      <th>City</th>\n",
              "      <th>State</th>\n",
              "      <th>Country</th>\n",
              "      <th>ZipCode</th>\n",
              "      <th>DegreeType</th>\n",
              "      <th>Major</th>\n",
              "      <th>GraduationDate</th>\n",
              "      <th>WorkHistoryCount</th>\n",
              "      <th>TotalYearsExperience</th>\n",
              "      <th>CurrentlyEmployed</th>\n",
              "      <th>ManagedOthers</th>\n",
              "      <th>ManagedHowMany</th>\n",
              "      <th>WindowID_history</th>\n",
              "      <th>Split_history</th>\n",
              "      <th>Sequence</th>\n",
              "      <th>JobTitle</th>\n",
              "    </tr>\n",
              "    <tr>\n",
              "      <th>UserID</th>\n",
              "      <th></th>\n",
              "      <th></th>\n",
              "      <th></th>\n",
              "      <th></th>\n",
              "      <th></th>\n",
              "      <th></th>\n",
              "      <th></th>\n",
              "      <th></th>\n",
              "      <th></th>\n",
              "      <th></th>\n",
              "      <th></th>\n",
              "      <th></th>\n",
              "      <th></th>\n",
              "      <th></th>\n",
              "      <th></th>\n",
              "      <th></th>\n",
              "      <th></th>\n",
              "      <th></th>\n",
              "    </tr>\n",
              "  </thead>\n",
              "  <tbody>\n",
              "    <tr>\n",
              "      <th>83</th>\n",
              "      <td>7</td>\n",
              "      <td>Train</td>\n",
              "      <td>Covington</td>\n",
              "      <td>GA</td>\n",
              "      <td>US</td>\n",
              "      <td>30016</td>\n",
              "      <td>High School</td>\n",
              "      <td>NaN</td>\n",
              "      <td>NaN</td>\n",
              "      <td>3</td>\n",
              "      <td>10.0</td>\n",
              "      <td>No</td>\n",
              "      <td>No</td>\n",
              "      <td>0</td>\n",
              "      <td>7.0</td>\n",
              "      <td>Train</td>\n",
              "      <td>1.0</td>\n",
              "      <td>Receptionist/Dental Assistant</td>\n",
              "    </tr>\n",
              "    <tr>\n",
              "      <th>83</th>\n",
              "      <td>7</td>\n",
              "      <td>Train</td>\n",
              "      <td>Covington</td>\n",
              "      <td>GA</td>\n",
              "      <td>US</td>\n",
              "      <td>30016</td>\n",
              "      <td>High School</td>\n",
              "      <td>NaN</td>\n",
              "      <td>NaN</td>\n",
              "      <td>3</td>\n",
              "      <td>10.0</td>\n",
              "      <td>No</td>\n",
              "      <td>No</td>\n",
              "      <td>0</td>\n",
              "      <td>7.0</td>\n",
              "      <td>Train</td>\n",
              "      <td>2.0</td>\n",
              "      <td>Dental Hygienist Assistant</td>\n",
              "    </tr>\n",
              "    <tr>\n",
              "      <th>83</th>\n",
              "      <td>7</td>\n",
              "      <td>Train</td>\n",
              "      <td>Covington</td>\n",
              "      <td>GA</td>\n",
              "      <td>US</td>\n",
              "      <td>30016</td>\n",
              "      <td>High School</td>\n",
              "      <td>NaN</td>\n",
              "      <td>NaN</td>\n",
              "      <td>3</td>\n",
              "      <td>10.0</td>\n",
              "      <td>No</td>\n",
              "      <td>No</td>\n",
              "      <td>0</td>\n",
              "      <td>7.0</td>\n",
              "      <td>Train</td>\n",
              "      <td>3.0</td>\n",
              "      <td>Collections Clerk</td>\n",
              "    </tr>\n",
              "    <tr>\n",
              "      <th>286</th>\n",
              "      <td>5</td>\n",
              "      <td>Train</td>\n",
              "      <td>Miami</td>\n",
              "      <td>FL</td>\n",
              "      <td>US</td>\n",
              "      <td>33125</td>\n",
              "      <td>Associate's</td>\n",
              "      <td>Translation &amp; Interpretation</td>\n",
              "      <td>2010-01-01 00:00:00</td>\n",
              "      <td>2</td>\n",
              "      <td>12.0</td>\n",
              "      <td>No</td>\n",
              "      <td>Yes</td>\n",
              "      <td>10</td>\n",
              "      <td>5.0</td>\n",
              "      <td>Train</td>\n",
              "      <td>1.0</td>\n",
              "      <td>Customer Service Representative</td>\n",
              "    </tr>\n",
              "    <tr>\n",
              "      <th>286</th>\n",
              "      <td>5</td>\n",
              "      <td>Train</td>\n",
              "      <td>Miami</td>\n",
              "      <td>FL</td>\n",
              "      <td>US</td>\n",
              "      <td>33125</td>\n",
              "      <td>Associate's</td>\n",
              "      <td>Translation &amp; Interpretation</td>\n",
              "      <td>2010-01-01 00:00:00</td>\n",
              "      <td>2</td>\n",
              "      <td>12.0</td>\n",
              "      <td>No</td>\n",
              "      <td>Yes</td>\n",
              "      <td>10</td>\n",
              "      <td>5.0</td>\n",
              "      <td>Train</td>\n",
              "      <td>2.0</td>\n",
              "      <td>Store Manager / Customer Service</td>\n",
              "    </tr>\n",
              "    <tr>\n",
              "      <th>...</th>\n",
              "      <td>...</td>\n",
              "      <td>...</td>\n",
              "      <td>...</td>\n",
              "      <td>...</td>\n",
              "      <td>...</td>\n",
              "      <td>...</td>\n",
              "      <td>...</td>\n",
              "      <td>...</td>\n",
              "      <td>...</td>\n",
              "      <td>...</td>\n",
              "      <td>...</td>\n",
              "      <td>...</td>\n",
              "      <td>...</td>\n",
              "      <td>...</td>\n",
              "      <td>...</td>\n",
              "      <td>...</td>\n",
              "      <td>...</td>\n",
              "      <td>...</td>\n",
              "    </tr>\n",
              "    <tr>\n",
              "      <th>1471772</th>\n",
              "      <td>5</td>\n",
              "      <td>Train</td>\n",
              "      <td>Madison</td>\n",
              "      <td>SD</td>\n",
              "      <td>US</td>\n",
              "      <td>57042</td>\n",
              "      <td>Bachelor's</td>\n",
              "      <td>English</td>\n",
              "      <td>1989-01-01 00:00:00</td>\n",
              "      <td>6</td>\n",
              "      <td>13.0</td>\n",
              "      <td>No</td>\n",
              "      <td>No</td>\n",
              "      <td>0</td>\n",
              "      <td>5.0</td>\n",
              "      <td>Train</td>\n",
              "      <td>4.0</td>\n",
              "      <td>Afternoon Cook</td>\n",
              "    </tr>\n",
              "    <tr>\n",
              "      <th>1471772</th>\n",
              "      <td>5</td>\n",
              "      <td>Train</td>\n",
              "      <td>Madison</td>\n",
              "      <td>SD</td>\n",
              "      <td>US</td>\n",
              "      <td>57042</td>\n",
              "      <td>Bachelor's</td>\n",
              "      <td>English</td>\n",
              "      <td>1989-01-01 00:00:00</td>\n",
              "      <td>6</td>\n",
              "      <td>13.0</td>\n",
              "      <td>No</td>\n",
              "      <td>No</td>\n",
              "      <td>0</td>\n",
              "      <td>5.0</td>\n",
              "      <td>Train</td>\n",
              "      <td>5.0</td>\n",
              "      <td>Headstart Cook</td>\n",
              "    </tr>\n",
              "    <tr>\n",
              "      <th>1471772</th>\n",
              "      <td>5</td>\n",
              "      <td>Train</td>\n",
              "      <td>Madison</td>\n",
              "      <td>SD</td>\n",
              "      <td>US</td>\n",
              "      <td>57042</td>\n",
              "      <td>Bachelor's</td>\n",
              "      <td>English</td>\n",
              "      <td>1989-01-01 00:00:00</td>\n",
              "      <td>6</td>\n",
              "      <td>13.0</td>\n",
              "      <td>No</td>\n",
              "      <td>No</td>\n",
              "      <td>0</td>\n",
              "      <td>5.0</td>\n",
              "      <td>Train</td>\n",
              "      <td>6.0</td>\n",
              "      <td>Afternoon Cook</td>\n",
              "    </tr>\n",
              "    <tr>\n",
              "      <th>1471864</th>\n",
              "      <td>3</td>\n",
              "      <td>Train</td>\n",
              "      <td>Albany</td>\n",
              "      <td>GA</td>\n",
              "      <td>US</td>\n",
              "      <td>31705</td>\n",
              "      <td>None</td>\n",
              "      <td>Industrial Systems Technology</td>\n",
              "      <td>NaN</td>\n",
              "      <td>2</td>\n",
              "      <td>8.0</td>\n",
              "      <td>Yes</td>\n",
              "      <td>No</td>\n",
              "      <td>0</td>\n",
              "      <td>3.0</td>\n",
              "      <td>Train</td>\n",
              "      <td>1.0</td>\n",
              "      <td>Retail Sales Specialist</td>\n",
              "    </tr>\n",
              "    <tr>\n",
              "      <th>1471864</th>\n",
              "      <td>3</td>\n",
              "      <td>Train</td>\n",
              "      <td>Albany</td>\n",
              "      <td>GA</td>\n",
              "      <td>US</td>\n",
              "      <td>31705</td>\n",
              "      <td>None</td>\n",
              "      <td>Industrial Systems Technology</td>\n",
              "      <td>NaN</td>\n",
              "      <td>2</td>\n",
              "      <td>8.0</td>\n",
              "      <td>Yes</td>\n",
              "      <td>No</td>\n",
              "      <td>0</td>\n",
              "      <td>3.0</td>\n",
              "      <td>Train</td>\n",
              "      <td>2.0</td>\n",
              "      <td>Customer Service Lead/ Cashier</td>\n",
              "    </tr>\n",
              "  </tbody>\n",
              "</table>\n",
              "<p>65308 rows × 18 columns</p>\n",
              "</div>"
            ],
            "text/plain": [
              "         WindowID  Split  ... Sequence                          JobTitle\n",
              "UserID                    ...                                           \n",
              "83              7  Train  ...      1.0     Receptionist/Dental Assistant\n",
              "83              7  Train  ...      2.0        Dental Hygienist Assistant\n",
              "83              7  Train  ...      3.0                 Collections Clerk\n",
              "286             5  Train  ...      1.0   Customer Service Representative\n",
              "286             5  Train  ...      2.0  Store Manager / Customer Service\n",
              "...           ...    ...  ...      ...                               ...\n",
              "1471772         5  Train  ...      4.0                    Afternoon Cook\n",
              "1471772         5  Train  ...      5.0                    Headstart Cook\n",
              "1471772         5  Train  ...      6.0                    Afternoon Cook\n",
              "1471864         3  Train  ...      1.0           Retail Sales Specialist\n",
              "1471864         3  Train  ...      2.0    Customer Service Lead/ Cashier\n",
              "\n",
              "[65308 rows x 18 columns]"
            ]
          },
          "metadata": {
            "tags": []
          },
          "execution_count": 80
        }
      ]
    },
    {
      "cell_type": "code",
      "metadata": {
        "colab_type": "code",
        "id": "t0_frE8syM9l",
        "outputId": "88fe9801-41fb-4c77-f460-ab05cd9b26e0",
        "colab": {
          "base_uri": "https://localhost:8080/",
          "height": 309
        }
      },
      "source": [
        "def employed(x):\n",
        "  if x is \"No\" or (isinstance(x,float)):\n",
        "    return False\n",
        "  else:\n",
        "    return True\n",
        "usr[\"CurrentlyEmployed\"] = usr[\"CurrentlyEmployed\"].apply(employed)\n",
        "usr.head()\n",
        "\n"
      ],
      "execution_count": 0,
      "outputs": [
        {
          "output_type": "execute_result",
          "data": {
            "text/html": [
              "<div>\n",
              "<style scoped>\n",
              "    .dataframe tbody tr th:only-of-type {\n",
              "        vertical-align: middle;\n",
              "    }\n",
              "\n",
              "    .dataframe tbody tr th {\n",
              "        vertical-align: top;\n",
              "    }\n",
              "\n",
              "    .dataframe thead th {\n",
              "        text-align: right;\n",
              "    }\n",
              "</style>\n",
              "<table border=\"1\" class=\"dataframe\">\n",
              "  <thead>\n",
              "    <tr style=\"text-align: right;\">\n",
              "      <th></th>\n",
              "      <th>UserID</th>\n",
              "      <th>WindowID</th>\n",
              "      <th>Split</th>\n",
              "      <th>City</th>\n",
              "      <th>State</th>\n",
              "      <th>Country</th>\n",
              "      <th>ZipCode</th>\n",
              "      <th>DegreeType</th>\n",
              "      <th>Major</th>\n",
              "      <th>GraduationDate</th>\n",
              "      <th>WorkHistoryCount</th>\n",
              "      <th>TotalYearsExperience</th>\n",
              "      <th>CurrentlyEmployed</th>\n",
              "      <th>ManagedOthers</th>\n",
              "      <th>ManagedHowMany</th>\n",
              "    </tr>\n",
              "  </thead>\n",
              "  <tbody>\n",
              "    <tr>\n",
              "      <th>21</th>\n",
              "      <td>554</td>\n",
              "      <td>1</td>\n",
              "      <td>Train</td>\n",
              "      <td>Altamonte Springs</td>\n",
              "      <td>FL</td>\n",
              "      <td>US</td>\n",
              "      <td>32701</td>\n",
              "      <td>Bachelor's</td>\n",
              "      <td>Legal Studies</td>\n",
              "      <td>2006-12-01 00:00:00</td>\n",
              "      <td>2</td>\n",
              "      <td>4.0</td>\n",
              "      <td>True</td>\n",
              "      <td>No</td>\n",
              "      <td>0</td>\n",
              "    </tr>\n",
              "    <tr>\n",
              "      <th>32</th>\n",
              "      <td>769</td>\n",
              "      <td>1</td>\n",
              "      <td>Test</td>\n",
              "      <td>Roselle</td>\n",
              "      <td>IL</td>\n",
              "      <td>US</td>\n",
              "      <td>60172</td>\n",
              "      <td>Bachelor's</td>\n",
              "      <td>Radio-Television</td>\n",
              "      <td>2011-05-01 00:00:00</td>\n",
              "      <td>5</td>\n",
              "      <td>5.0</td>\n",
              "      <td>True</td>\n",
              "      <td>No</td>\n",
              "      <td>0</td>\n",
              "    </tr>\n",
              "    <tr>\n",
              "      <th>61</th>\n",
              "      <td>1697</td>\n",
              "      <td>1</td>\n",
              "      <td>Train</td>\n",
              "      <td>Justice</td>\n",
              "      <td>IL</td>\n",
              "      <td>US</td>\n",
              "      <td>60458</td>\n",
              "      <td>High School</td>\n",
              "      <td>Not Applicable</td>\n",
              "      <td>2007-01-01 00:00:00</td>\n",
              "      <td>4</td>\n",
              "      <td>6.0</td>\n",
              "      <td>False</td>\n",
              "      <td>No</td>\n",
              "      <td>0</td>\n",
              "    </tr>\n",
              "    <tr>\n",
              "      <th>182</th>\n",
              "      <td>4366</td>\n",
              "      <td>1</td>\n",
              "      <td>Train</td>\n",
              "      <td>Cooper City</td>\n",
              "      <td>FL</td>\n",
              "      <td>US</td>\n",
              "      <td>33328</td>\n",
              "      <td>None</td>\n",
              "      <td>NaN</td>\n",
              "      <td>NaN</td>\n",
              "      <td>3</td>\n",
              "      <td>9.0</td>\n",
              "      <td>False</td>\n",
              "      <td>No</td>\n",
              "      <td>0</td>\n",
              "    </tr>\n",
              "    <tr>\n",
              "      <th>183</th>\n",
              "      <td>4368</td>\n",
              "      <td>1</td>\n",
              "      <td>Test</td>\n",
              "      <td>College Park</td>\n",
              "      <td>GA</td>\n",
              "      <td>US</td>\n",
              "      <td>30349</td>\n",
              "      <td>High School</td>\n",
              "      <td>Not Applicable</td>\n",
              "      <td>NaN</td>\n",
              "      <td>5</td>\n",
              "      <td>45.0</td>\n",
              "      <td>True</td>\n",
              "      <td>No</td>\n",
              "      <td>0</td>\n",
              "    </tr>\n",
              "  </tbody>\n",
              "</table>\n",
              "</div>"
            ],
            "text/plain": [
              "     UserID  WindowID  Split  ... CurrentlyEmployed ManagedOthers ManagedHowMany\n",
              "21      554         1  Train  ...              True            No              0\n",
              "32      769         1   Test  ...              True            No              0\n",
              "61     1697         1  Train  ...             False            No              0\n",
              "182    4366         1  Train  ...             False            No              0\n",
              "183    4368         1   Test  ...              True            No              0\n",
              "\n",
              "[5 rows x 15 columns]"
            ]
          },
          "metadata": {
            "tags": []
          },
          "execution_count": 82
        }
      ]
    },
    {
      "cell_type": "code",
      "metadata": {
        "colab_type": "code",
        "id": "w4FmTq1kz7oD",
        "outputId": "e0b0f53a-6df4-4c6c-ca31-7ab123fea4e3",
        "colab": {
          "base_uri": "https://localhost:8080/",
          "height": 309
        }
      },
      "source": [
        "usr[\"ManagedOthers\"] = usr[\"ManagedOthers\"].apply(employed)\n",
        "usr.head()"
      ],
      "execution_count": 0,
      "outputs": [
        {
          "output_type": "execute_result",
          "data": {
            "text/html": [
              "<div>\n",
              "<style scoped>\n",
              "    .dataframe tbody tr th:only-of-type {\n",
              "        vertical-align: middle;\n",
              "    }\n",
              "\n",
              "    .dataframe tbody tr th {\n",
              "        vertical-align: top;\n",
              "    }\n",
              "\n",
              "    .dataframe thead th {\n",
              "        text-align: right;\n",
              "    }\n",
              "</style>\n",
              "<table border=\"1\" class=\"dataframe\">\n",
              "  <thead>\n",
              "    <tr style=\"text-align: right;\">\n",
              "      <th></th>\n",
              "      <th>UserID</th>\n",
              "      <th>WindowID</th>\n",
              "      <th>Split</th>\n",
              "      <th>City</th>\n",
              "      <th>State</th>\n",
              "      <th>Country</th>\n",
              "      <th>ZipCode</th>\n",
              "      <th>DegreeType</th>\n",
              "      <th>Major</th>\n",
              "      <th>GraduationDate</th>\n",
              "      <th>WorkHistoryCount</th>\n",
              "      <th>TotalYearsExperience</th>\n",
              "      <th>CurrentlyEmployed</th>\n",
              "      <th>ManagedOthers</th>\n",
              "      <th>ManagedHowMany</th>\n",
              "    </tr>\n",
              "  </thead>\n",
              "  <tbody>\n",
              "    <tr>\n",
              "      <th>21</th>\n",
              "      <td>554</td>\n",
              "      <td>1</td>\n",
              "      <td>Train</td>\n",
              "      <td>Altamonte Springs</td>\n",
              "      <td>FL</td>\n",
              "      <td>US</td>\n",
              "      <td>32701</td>\n",
              "      <td>Bachelor's</td>\n",
              "      <td>Legal Studies</td>\n",
              "      <td>2006-12-01 00:00:00</td>\n",
              "      <td>2</td>\n",
              "      <td>4.0</td>\n",
              "      <td>True</td>\n",
              "      <td>True</td>\n",
              "      <td>0</td>\n",
              "    </tr>\n",
              "    <tr>\n",
              "      <th>32</th>\n",
              "      <td>769</td>\n",
              "      <td>1</td>\n",
              "      <td>Test</td>\n",
              "      <td>Roselle</td>\n",
              "      <td>IL</td>\n",
              "      <td>US</td>\n",
              "      <td>60172</td>\n",
              "      <td>Bachelor's</td>\n",
              "      <td>Radio-Television</td>\n",
              "      <td>2011-05-01 00:00:00</td>\n",
              "      <td>5</td>\n",
              "      <td>5.0</td>\n",
              "      <td>True</td>\n",
              "      <td>True</td>\n",
              "      <td>0</td>\n",
              "    </tr>\n",
              "    <tr>\n",
              "      <th>61</th>\n",
              "      <td>1697</td>\n",
              "      <td>1</td>\n",
              "      <td>Train</td>\n",
              "      <td>Justice</td>\n",
              "      <td>IL</td>\n",
              "      <td>US</td>\n",
              "      <td>60458</td>\n",
              "      <td>High School</td>\n",
              "      <td>Not Applicable</td>\n",
              "      <td>2007-01-01 00:00:00</td>\n",
              "      <td>4</td>\n",
              "      <td>6.0</td>\n",
              "      <td>False</td>\n",
              "      <td>True</td>\n",
              "      <td>0</td>\n",
              "    </tr>\n",
              "    <tr>\n",
              "      <th>182</th>\n",
              "      <td>4366</td>\n",
              "      <td>1</td>\n",
              "      <td>Train</td>\n",
              "      <td>Cooper City</td>\n",
              "      <td>FL</td>\n",
              "      <td>US</td>\n",
              "      <td>33328</td>\n",
              "      <td>None</td>\n",
              "      <td>NaN</td>\n",
              "      <td>NaN</td>\n",
              "      <td>3</td>\n",
              "      <td>9.0</td>\n",
              "      <td>False</td>\n",
              "      <td>True</td>\n",
              "      <td>0</td>\n",
              "    </tr>\n",
              "    <tr>\n",
              "      <th>183</th>\n",
              "      <td>4368</td>\n",
              "      <td>1</td>\n",
              "      <td>Test</td>\n",
              "      <td>College Park</td>\n",
              "      <td>GA</td>\n",
              "      <td>US</td>\n",
              "      <td>30349</td>\n",
              "      <td>High School</td>\n",
              "      <td>Not Applicable</td>\n",
              "      <td>NaN</td>\n",
              "      <td>5</td>\n",
              "      <td>45.0</td>\n",
              "      <td>True</td>\n",
              "      <td>True</td>\n",
              "      <td>0</td>\n",
              "    </tr>\n",
              "  </tbody>\n",
              "</table>\n",
              "</div>"
            ],
            "text/plain": [
              "     UserID  WindowID  Split  ... CurrentlyEmployed ManagedOthers ManagedHowMany\n",
              "21      554         1  Train  ...              True          True              0\n",
              "32      769         1   Test  ...              True          True              0\n",
              "61     1697         1  Train  ...             False          True              0\n",
              "182    4366         1  Train  ...             False          True              0\n",
              "183    4368         1   Test  ...              True          True              0\n",
              "\n",
              "[5 rows x 15 columns]"
            ]
          },
          "metadata": {
            "tags": []
          },
          "execution_count": 83
        }
      ]
    },
    {
      "cell_type": "code",
      "metadata": {
        "colab_type": "code",
        "id": "HeHP21qD08HZ",
        "colab": {}
      },
      "source": [
        "usr[\"GraduationDate\"] = pd.to_datetime(usr[\"GraduationDate\"])"
      ],
      "execution_count": 0,
      "outputs": []
    },
    {
      "cell_type": "code",
      "metadata": {
        "colab_type": "code",
        "id": "MWxJ3-a70YxX",
        "colab": {}
      },
      "source": [
        "# 1- Studying, 0- Graduated not studying, -1 -> N/A\n",
        "def grad_date(x):\n",
        "  if x>pd.Timestamp(2012,8,4):\n",
        "    return 1\n",
        "  elif isinstance(x,pd._libs.tslibs.nattype.NaTType):\n",
        "    return -1\n",
        "  else:\n",
        "    return 0\n",
        "usr[\"Studying\"] = usr[\"GraduationDate\"].apply(grad_date)"
      ],
      "execution_count": 0,
      "outputs": []
    },
    {
      "cell_type": "code",
      "metadata": {
        "colab_type": "code",
        "id": "HvQTH5n12GjA",
        "colab": {}
      },
      "source": [
        "qual_types = {'None':0, 'High School':1,'Vocational':2,\"Associate's\":3,\"Bachelor's\":4,\"Master's\":5,\"PhD\":6}\n",
        "    "
      ],
      "execution_count": 0,
      "outputs": []
    },
    {
      "cell_type": "code",
      "metadata": {
        "colab_type": "code",
        "id": "t32mhfze2OAs",
        "outputId": "1aa10b15-477a-4721-9765-5473bf95542f",
        "colab": {
          "base_uri": "https://localhost:8080/",
          "height": 309
        }
      },
      "source": [
        "''' 0 - None\n",
        "1 - High School \n",
        "2 - Vocational\n",
        "3- Associate's\n",
        "4- Bachelor's\n",
        "5 - Master's\n",
        "6- Phd '''\n",
        "def qual(x):\n",
        "  for i in qual_types.keys():\n",
        "    if x == i:\n",
        "      return qual_types[x]\n",
        "usr[\"Qualification\"] = usr[\"DegreeType\"].apply(qual)\n",
        "usr.head()\n"
      ],
      "execution_count": 0,
      "outputs": [
        {
          "output_type": "execute_result",
          "data": {
            "text/html": [
              "<div>\n",
              "<style scoped>\n",
              "    .dataframe tbody tr th:only-of-type {\n",
              "        vertical-align: middle;\n",
              "    }\n",
              "\n",
              "    .dataframe tbody tr th {\n",
              "        vertical-align: top;\n",
              "    }\n",
              "\n",
              "    .dataframe thead th {\n",
              "        text-align: right;\n",
              "    }\n",
              "</style>\n",
              "<table border=\"1\" class=\"dataframe\">\n",
              "  <thead>\n",
              "    <tr style=\"text-align: right;\">\n",
              "      <th></th>\n",
              "      <th>UserID</th>\n",
              "      <th>WindowID</th>\n",
              "      <th>Split</th>\n",
              "      <th>City</th>\n",
              "      <th>State</th>\n",
              "      <th>Country</th>\n",
              "      <th>ZipCode</th>\n",
              "      <th>DegreeType</th>\n",
              "      <th>Major</th>\n",
              "      <th>GraduationDate</th>\n",
              "      <th>WorkHistoryCount</th>\n",
              "      <th>TotalYearsExperience</th>\n",
              "      <th>CurrentlyEmployed</th>\n",
              "      <th>ManagedOthers</th>\n",
              "      <th>ManagedHowMany</th>\n",
              "      <th>Studying</th>\n",
              "      <th>Qualification</th>\n",
              "    </tr>\n",
              "  </thead>\n",
              "  <tbody>\n",
              "    <tr>\n",
              "      <th>21</th>\n",
              "      <td>554</td>\n",
              "      <td>1</td>\n",
              "      <td>Train</td>\n",
              "      <td>Altamonte Springs</td>\n",
              "      <td>FL</td>\n",
              "      <td>US</td>\n",
              "      <td>32701</td>\n",
              "      <td>Bachelor's</td>\n",
              "      <td>Legal Studies</td>\n",
              "      <td>2006-12-01</td>\n",
              "      <td>2</td>\n",
              "      <td>4.0</td>\n",
              "      <td>True</td>\n",
              "      <td>True</td>\n",
              "      <td>0</td>\n",
              "      <td>0</td>\n",
              "      <td>4</td>\n",
              "    </tr>\n",
              "    <tr>\n",
              "      <th>32</th>\n",
              "      <td>769</td>\n",
              "      <td>1</td>\n",
              "      <td>Test</td>\n",
              "      <td>Roselle</td>\n",
              "      <td>IL</td>\n",
              "      <td>US</td>\n",
              "      <td>60172</td>\n",
              "      <td>Bachelor's</td>\n",
              "      <td>Radio-Television</td>\n",
              "      <td>2011-05-01</td>\n",
              "      <td>5</td>\n",
              "      <td>5.0</td>\n",
              "      <td>True</td>\n",
              "      <td>True</td>\n",
              "      <td>0</td>\n",
              "      <td>0</td>\n",
              "      <td>4</td>\n",
              "    </tr>\n",
              "    <tr>\n",
              "      <th>61</th>\n",
              "      <td>1697</td>\n",
              "      <td>1</td>\n",
              "      <td>Train</td>\n",
              "      <td>Justice</td>\n",
              "      <td>IL</td>\n",
              "      <td>US</td>\n",
              "      <td>60458</td>\n",
              "      <td>High School</td>\n",
              "      <td>Not Applicable</td>\n",
              "      <td>2007-01-01</td>\n",
              "      <td>4</td>\n",
              "      <td>6.0</td>\n",
              "      <td>False</td>\n",
              "      <td>True</td>\n",
              "      <td>0</td>\n",
              "      <td>0</td>\n",
              "      <td>1</td>\n",
              "    </tr>\n",
              "    <tr>\n",
              "      <th>182</th>\n",
              "      <td>4366</td>\n",
              "      <td>1</td>\n",
              "      <td>Train</td>\n",
              "      <td>Cooper City</td>\n",
              "      <td>FL</td>\n",
              "      <td>US</td>\n",
              "      <td>33328</td>\n",
              "      <td>None</td>\n",
              "      <td>NaN</td>\n",
              "      <td>NaT</td>\n",
              "      <td>3</td>\n",
              "      <td>9.0</td>\n",
              "      <td>False</td>\n",
              "      <td>True</td>\n",
              "      <td>0</td>\n",
              "      <td>-1</td>\n",
              "      <td>0</td>\n",
              "    </tr>\n",
              "    <tr>\n",
              "      <th>183</th>\n",
              "      <td>4368</td>\n",
              "      <td>1</td>\n",
              "      <td>Test</td>\n",
              "      <td>College Park</td>\n",
              "      <td>GA</td>\n",
              "      <td>US</td>\n",
              "      <td>30349</td>\n",
              "      <td>High School</td>\n",
              "      <td>Not Applicable</td>\n",
              "      <td>NaT</td>\n",
              "      <td>5</td>\n",
              "      <td>45.0</td>\n",
              "      <td>True</td>\n",
              "      <td>True</td>\n",
              "      <td>0</td>\n",
              "      <td>-1</td>\n",
              "      <td>1</td>\n",
              "    </tr>\n",
              "  </tbody>\n",
              "</table>\n",
              "</div>"
            ],
            "text/plain": [
              "     UserID  WindowID  Split  ... ManagedHowMany Studying Qualification\n",
              "21      554         1  Train  ...              0        0             4\n",
              "32      769         1   Test  ...              0        0             4\n",
              "61     1697         1  Train  ...              0        0             1\n",
              "182    4366         1  Train  ...              0       -1             0\n",
              "183    4368         1   Test  ...              0       -1             1\n",
              "\n",
              "[5 rows x 17 columns]"
            ]
          },
          "metadata": {
            "tags": []
          },
          "execution_count": 108
        }
      ]
    },
    {
      "cell_type": "code",
      "metadata": {
        "colab_type": "code",
        "id": "1xMLrVfN4OuE",
        "outputId": "20b121ba-b2a5-4b75-d290-27084f183bc8",
        "colab": {
          "base_uri": "https://localhost:8080/",
          "height": 309
        }
      },
      "source": [
        "def major(x):\n",
        "  if isinstance(x,float) or x == \"Not Applicable\":\n",
        "    return 0 \n",
        "  else:\n",
        "    return x\n",
        "usr[\"Majorx\"] = usr[\"Major\"].apply(major)\n",
        "usr.head()"
      ],
      "execution_count": 0,
      "outputs": [
        {
          "output_type": "execute_result",
          "data": {
            "text/html": [
              "<div>\n",
              "<style scoped>\n",
              "    .dataframe tbody tr th:only-of-type {\n",
              "        vertical-align: middle;\n",
              "    }\n",
              "\n",
              "    .dataframe tbody tr th {\n",
              "        vertical-align: top;\n",
              "    }\n",
              "\n",
              "    .dataframe thead th {\n",
              "        text-align: right;\n",
              "    }\n",
              "</style>\n",
              "<table border=\"1\" class=\"dataframe\">\n",
              "  <thead>\n",
              "    <tr style=\"text-align: right;\">\n",
              "      <th></th>\n",
              "      <th>UserID</th>\n",
              "      <th>WindowID</th>\n",
              "      <th>Split</th>\n",
              "      <th>City</th>\n",
              "      <th>State</th>\n",
              "      <th>Country</th>\n",
              "      <th>ZipCode</th>\n",
              "      <th>DegreeType</th>\n",
              "      <th>Major</th>\n",
              "      <th>GraduationDate</th>\n",
              "      <th>WorkHistoryCount</th>\n",
              "      <th>TotalYearsExperience</th>\n",
              "      <th>CurrentlyEmployed</th>\n",
              "      <th>ManagedOthers</th>\n",
              "      <th>ManagedHowMany</th>\n",
              "      <th>Studying</th>\n",
              "      <th>Qualification</th>\n",
              "      <th>Majorx</th>\n",
              "    </tr>\n",
              "  </thead>\n",
              "  <tbody>\n",
              "    <tr>\n",
              "      <th>21</th>\n",
              "      <td>554</td>\n",
              "      <td>1</td>\n",
              "      <td>Train</td>\n",
              "      <td>Altamonte Springs</td>\n",
              "      <td>FL</td>\n",
              "      <td>US</td>\n",
              "      <td>32701</td>\n",
              "      <td>Bachelor's</td>\n",
              "      <td>Legal Studies</td>\n",
              "      <td>2006-12-01</td>\n",
              "      <td>2</td>\n",
              "      <td>4.0</td>\n",
              "      <td>True</td>\n",
              "      <td>True</td>\n",
              "      <td>0</td>\n",
              "      <td>0</td>\n",
              "      <td>4</td>\n",
              "      <td>Legal Studies</td>\n",
              "    </tr>\n",
              "    <tr>\n",
              "      <th>32</th>\n",
              "      <td>769</td>\n",
              "      <td>1</td>\n",
              "      <td>Test</td>\n",
              "      <td>Roselle</td>\n",
              "      <td>IL</td>\n",
              "      <td>US</td>\n",
              "      <td>60172</td>\n",
              "      <td>Bachelor's</td>\n",
              "      <td>Radio-Television</td>\n",
              "      <td>2011-05-01</td>\n",
              "      <td>5</td>\n",
              "      <td>5.0</td>\n",
              "      <td>True</td>\n",
              "      <td>True</td>\n",
              "      <td>0</td>\n",
              "      <td>0</td>\n",
              "      <td>4</td>\n",
              "      <td>Radio-Television</td>\n",
              "    </tr>\n",
              "    <tr>\n",
              "      <th>61</th>\n",
              "      <td>1697</td>\n",
              "      <td>1</td>\n",
              "      <td>Train</td>\n",
              "      <td>Justice</td>\n",
              "      <td>IL</td>\n",
              "      <td>US</td>\n",
              "      <td>60458</td>\n",
              "      <td>High School</td>\n",
              "      <td>Not Applicable</td>\n",
              "      <td>2007-01-01</td>\n",
              "      <td>4</td>\n",
              "      <td>6.0</td>\n",
              "      <td>False</td>\n",
              "      <td>True</td>\n",
              "      <td>0</td>\n",
              "      <td>0</td>\n",
              "      <td>1</td>\n",
              "      <td>0</td>\n",
              "    </tr>\n",
              "    <tr>\n",
              "      <th>182</th>\n",
              "      <td>4366</td>\n",
              "      <td>1</td>\n",
              "      <td>Train</td>\n",
              "      <td>Cooper City</td>\n",
              "      <td>FL</td>\n",
              "      <td>US</td>\n",
              "      <td>33328</td>\n",
              "      <td>None</td>\n",
              "      <td>NaN</td>\n",
              "      <td>NaT</td>\n",
              "      <td>3</td>\n",
              "      <td>9.0</td>\n",
              "      <td>False</td>\n",
              "      <td>True</td>\n",
              "      <td>0</td>\n",
              "      <td>-1</td>\n",
              "      <td>0</td>\n",
              "      <td>0</td>\n",
              "    </tr>\n",
              "    <tr>\n",
              "      <th>183</th>\n",
              "      <td>4368</td>\n",
              "      <td>1</td>\n",
              "      <td>Test</td>\n",
              "      <td>College Park</td>\n",
              "      <td>GA</td>\n",
              "      <td>US</td>\n",
              "      <td>30349</td>\n",
              "      <td>High School</td>\n",
              "      <td>Not Applicable</td>\n",
              "      <td>NaT</td>\n",
              "      <td>5</td>\n",
              "      <td>45.0</td>\n",
              "      <td>True</td>\n",
              "      <td>True</td>\n",
              "      <td>0</td>\n",
              "      <td>-1</td>\n",
              "      <td>1</td>\n",
              "      <td>0</td>\n",
              "    </tr>\n",
              "  </tbody>\n",
              "</table>\n",
              "</div>"
            ],
            "text/plain": [
              "     UserID  WindowID  Split  ... Studying Qualification            Majorx\n",
              "21      554         1  Train  ...        0             4     Legal Studies\n",
              "32      769         1   Test  ...        0             4  Radio-Television\n",
              "61     1697         1  Train  ...        0             1                 0\n",
              "182    4366         1  Train  ...       -1             0                 0\n",
              "183    4368         1   Test  ...       -1             1                 0\n",
              "\n",
              "[5 rows x 18 columns]"
            ]
          },
          "metadata": {
            "tags": []
          },
          "execution_count": 109
        }
      ]
    },
    {
      "cell_type": "code",
      "metadata": {
        "colab_type": "code",
        "id": "pI8hk4G258Kj",
        "colab": {}
      },
      "source": [
        "grps = dict(list(uh.groupby('UserID')[\"JobTitle\"]))"
      ],
      "execution_count": 0,
      "outputs": []
    },
    {
      "cell_type": "code",
      "metadata": {
        "colab_type": "code",
        "id": "uy3HmNmN7w9-",
        "colab": {}
      },
      "source": [
        "keys = uh[\"UserID\"].values"
      ],
      "execution_count": 0,
      "outputs": []
    },
    {
      "cell_type": "code",
      "metadata": {
        "colab_type": "code",
        "id": "vJyXyRFF7y3g",
        "colab": {}
      },
      "source": [
        "prev_jobs = {key:[None]*7 for key in keys}"
      ],
      "execution_count": 0,
      "outputs": []
    },
    {
      "cell_type": "code",
      "metadata": {
        "colab_type": "code",
        "id": "EEIgpBWv-AbO",
        "outputId": "3106fac7-6b1e-469c-9ce3-28d625545dbd",
        "colab": {
          "base_uri": "https://localhost:8080/",
          "height": 221
        }
      },
      "source": [
        "def prevs(x):\n",
        "  prev_jobs[x.UserID][x.Sequence-1] = x.JobTitle\n",
        "uh.apply(prevs,axis=1)"
      ],
      "execution_count": 0,
      "outputs": [
        {
          "output_type": "execute_result",
          "data": {
            "text/plain": [
              "108        None\n",
              "109        None\n",
              "149        None\n",
              "150        None\n",
              "151        None\n",
              "           ... \n",
              "1753622    None\n",
              "1753829    None\n",
              "1753830    None\n",
              "1753831    None\n",
              "1753832    None\n",
              "Length: 64746, dtype: object"
            ]
          },
          "metadata": {
            "tags": []
          },
          "execution_count": 125
        }
      ]
    },
    {
      "cell_type": "code",
      "metadata": {
        "colab_type": "code",
        "id": "diPyg4SR-Zhz",
        "colab": {}
      },
      "source": [
        "previous_jobs = pd.DataFrame(prev_jobs).T"
      ],
      "execution_count": 0,
      "outputs": []
    },
    {
      "cell_type": "code",
      "metadata": {
        "colab_type": "code",
        "id": "GdujJuHu-aP-",
        "colab": {}
      },
      "source": [
        "previous_jobs[\"UserID\"] = previous_jobs.index"
      ],
      "execution_count": 0,
      "outputs": []
    },
    {
      "cell_type": "code",
      "metadata": {
        "colab_type": "code",
        "id": "wmGuRdg-_NOi",
        "colab": {}
      },
      "source": [
        "all_users = usr.set_index(\"UserID\").join(previous_jobs.set_index(\"UserID\"))"
      ],
      "execution_count": 0,
      "outputs": []
    },
    {
      "cell_type": "code",
      "metadata": {
        "colab_type": "code",
        "id": "TfFT1LEn_Tyc",
        "colab": {}
      },
      "source": [
        "all_users.drop(all_users.iloc[:,0:9],inplace=True,axis=1)"
      ],
      "execution_count": 0,
      "outputs": []
    },
    {
      "cell_type": "code",
      "metadata": {
        "colab_type": "code",
        "id": "9845y9G9Al-z",
        "colab": {}
      },
      "source": [
        "for i in range(0,7):\n",
        "  all_users[i] = all_users[i].apply(remove_nan)"
      ],
      "execution_count": 0,
      "outputs": []
    },
    {
      "cell_type": "code",
      "metadata": {
        "colab_type": "code",
        "id": "iEURaCcvA9MD",
        "colab": {}
      },
      "source": [
        "for i in range(0,7):\n",
        "  all_users[i] = all_users[i].apply(clean)\n",
        "all_users[\"Majorx\"] = all_users[\"Majorx\"].apply(clean)"
      ],
      "execution_count": 0,
      "outputs": []
    },
    {
      "cell_type": "code",
      "metadata": {
        "colab_type": "code",
        "id": "jbHHKruhDDF_",
        "outputId": "90cc3612-0210-4816-cf22-a8c5f8bb4c6c",
        "colab": {
          "base_uri": "https://localhost:8080/",
          "height": 391
        }
      },
      "source": [
        "all_users.head()"
      ],
      "execution_count": 0,
      "outputs": [
        {
          "output_type": "execute_result",
          "data": {
            "text/html": [
              "<div>\n",
              "<style scoped>\n",
              "    .dataframe tbody tr th:only-of-type {\n",
              "        vertical-align: middle;\n",
              "    }\n",
              "\n",
              "    .dataframe tbody tr th {\n",
              "        vertical-align: top;\n",
              "    }\n",
              "\n",
              "    .dataframe thead th {\n",
              "        text-align: right;\n",
              "    }\n",
              "</style>\n",
              "<table border=\"1\" class=\"dataframe\">\n",
              "  <thead>\n",
              "    <tr style=\"text-align: right;\">\n",
              "      <th></th>\n",
              "      <th>WorkHistoryCount</th>\n",
              "      <th>TotalYearsExperience</th>\n",
              "      <th>CurrentlyEmployed</th>\n",
              "      <th>ManagedOthers</th>\n",
              "      <th>ManagedHowMany</th>\n",
              "      <th>Studying</th>\n",
              "      <th>Qualification</th>\n",
              "      <th>Majorx</th>\n",
              "      <th>0</th>\n",
              "      <th>1</th>\n",
              "      <th>2</th>\n",
              "      <th>3</th>\n",
              "      <th>4</th>\n",
              "      <th>5</th>\n",
              "      <th>6</th>\n",
              "    </tr>\n",
              "    <tr>\n",
              "      <th>UserID</th>\n",
              "      <th></th>\n",
              "      <th></th>\n",
              "      <th></th>\n",
              "      <th></th>\n",
              "      <th></th>\n",
              "      <th></th>\n",
              "      <th></th>\n",
              "      <th></th>\n",
              "      <th></th>\n",
              "      <th></th>\n",
              "      <th></th>\n",
              "      <th></th>\n",
              "      <th></th>\n",
              "      <th></th>\n",
              "      <th></th>\n",
              "    </tr>\n",
              "  </thead>\n",
              "  <tbody>\n",
              "    <tr>\n",
              "      <th>554</th>\n",
              "      <td>2</td>\n",
              "      <td>4.0</td>\n",
              "      <td>True</td>\n",
              "      <td>True</td>\n",
              "      <td>0</td>\n",
              "      <td>0</td>\n",
              "      <td>4</td>\n",
              "      <td>legal studies</td>\n",
              "      <td>0</td>\n",
              "      <td>auditor</td>\n",
              "      <td>0</td>\n",
              "      <td>0</td>\n",
              "      <td>0</td>\n",
              "      <td>0</td>\n",
              "      <td>0</td>\n",
              "    </tr>\n",
              "    <tr>\n",
              "      <th>769</th>\n",
              "      <td>5</td>\n",
              "      <td>5.0</td>\n",
              "      <td>True</td>\n",
              "      <td>True</td>\n",
              "      <td>0</td>\n",
              "      <td>0</td>\n",
              "      <td>4</td>\n",
              "      <td>radio television</td>\n",
              "      <td>shoe fit specialist</td>\n",
              "      <td>wgci  programming intern</td>\n",
              "      <td>hip hop director dj</td>\n",
              "      <td>teller</td>\n",
              "      <td>head cashier</td>\n",
              "      <td>0</td>\n",
              "      <td>0</td>\n",
              "    </tr>\n",
              "    <tr>\n",
              "      <th>1697</th>\n",
              "      <td>4</td>\n",
              "      <td>6.0</td>\n",
              "      <td>False</td>\n",
              "      <td>True</td>\n",
              "      <td>0</td>\n",
              "      <td>0</td>\n",
              "      <td>1</td>\n",
              "      <td>0</td>\n",
              "      <td>0</td>\n",
              "      <td>cocktail waitress</td>\n",
              "      <td>0</td>\n",
              "      <td>0</td>\n",
              "      <td>0</td>\n",
              "      <td>0</td>\n",
              "      <td>0</td>\n",
              "    </tr>\n",
              "    <tr>\n",
              "      <th>4366</th>\n",
              "      <td>3</td>\n",
              "      <td>9.0</td>\n",
              "      <td>False</td>\n",
              "      <td>True</td>\n",
              "      <td>0</td>\n",
              "      <td>-1</td>\n",
              "      <td>0</td>\n",
              "      <td>0</td>\n",
              "      <td>office manager</td>\n",
              "      <td>account manager</td>\n",
              "      <td>promotional manager</td>\n",
              "      <td>0</td>\n",
              "      <td>0</td>\n",
              "      <td>0</td>\n",
              "      <td>0</td>\n",
              "    </tr>\n",
              "    <tr>\n",
              "      <th>4368</th>\n",
              "      <td>5</td>\n",
              "      <td>45.0</td>\n",
              "      <td>True</td>\n",
              "      <td>True</td>\n",
              "      <td>0</td>\n",
              "      <td>-1</td>\n",
              "      <td>1</td>\n",
              "      <td>0</td>\n",
              "      <td>administrative wage garnishment specialist</td>\n",
              "      <td>cashier</td>\n",
              "      <td>sales associate</td>\n",
              "      <td>sales associate</td>\n",
              "      <td>0</td>\n",
              "      <td>0</td>\n",
              "      <td>0</td>\n",
              "    </tr>\n",
              "  </tbody>\n",
              "</table>\n",
              "</div>"
            ],
            "text/plain": [
              "        WorkHistoryCount  TotalYearsExperience  ...  5  6\n",
              "UserID                                          ...      \n",
              "554                    2                   4.0  ...  0  0\n",
              "769                    5                   5.0  ...  0  0\n",
              "1697                   4                   6.0  ...  0  0\n",
              "4366                   3                   9.0  ...  0  0\n",
              "4368                   5                  45.0  ...  0  0\n",
              "\n",
              "[5 rows x 15 columns]"
            ]
          },
          "metadata": {
            "tags": []
          },
          "execution_count": 190
        }
      ]
    },
    {
      "cell_type": "code",
      "metadata": {
        "colab_type": "code",
        "id": "sgV4gxl-D70y",
        "colab": {}
      },
      "source": [
        "all_users.to_csv(\"final_userdata.csv\")"
      ],
      "execution_count": 0,
      "outputs": []
    },
    {
      "cell_type": "code",
      "metadata": {
        "colab_type": "code",
        "id": "Xmx3EkMOEF3Q",
        "outputId": "13e88cf7-7a65-44b1-ca8d-cdf63840ebb0",
        "colab": {
          "base_uri": "https://localhost:8080/",
          "height": 187
        }
      },
      "source": [
        "os.listdir()"
      ],
      "execution_count": 0,
      "outputs": [
        {
          "output_type": "execute_result",
          "data": {
            "text/plain": [
              "['test_users.tsv',\n",
              " 'popular_jobs.py',\n",
              " 'window_dates.tsv',\n",
              " 'splitjobs',\n",
              " 'users.tsv',\n",
              " 'user_history.tsv',\n",
              " 'popular_jobs.csv',\n",
              " 'apps.tsv',\n",
              " 'jobs.tsv',\n",
              " 'final_userdata.csv']"
            ]
          },
          "metadata": {
            "tags": []
          },
          "execution_count": 10
        }
      ]
    },
    {
      "cell_type": "code",
      "metadata": {
        "colab_type": "code",
        "id": "SwHCtz4_nHEp",
        "outputId": "f345f15c-e95e-43f6-e5a8-adace628ff30",
        "colab": {
          "base_uri": "https://localhost:8080/",
          "height": 122
        }
      },
      "source": [
        "datasets[\"jobs\"] = pd.read_csv(\"jobs.tsv\",delimiter=\"\\t\",error_bad_lines=False)"
      ],
      "execution_count": 0,
      "outputs": [
        {
          "output_type": "stream",
          "text": [
            "b'Skipping line 122433: expected 11 fields, saw 12\\n'\n",
            "b'Skipping line 602576: expected 11 fields, saw 12\\n'\n",
            "b'Skipping line 990950: expected 11 fields, saw 12\\n'\n",
            "/usr/local/lib/python3.6/dist-packages/IPython/core/interactiveshell.py:2718: DtypeWarning: Columns (8) have mixed types.Specify dtype option on import or set low_memory=False.\n",
            "  interactivity=interactivity, compiler=compiler, result=result)\n"
          ],
          "name": "stderr"
        }
      ]
    },
    {
      "cell_type": "code",
      "metadata": {
        "colab_type": "code",
        "id": "J4kXuV8rEH7Y",
        "colab": {}
      },
      "source": [
        "jobs = datasets[\"jobs\"][datasets[\"jobs\"][\"JobID\"].isin(big_jobs)].copy()"
      ],
      "execution_count": 0,
      "outputs": []
    },
    {
      "cell_type": "code",
      "metadata": {
        "colab_type": "code",
        "id": "mL48Q3MZk7KY",
        "colab": {}
      },
      "source": [
        "jobs[\"Description\"] = jobs[\"Description\"].apply(strip_tags)\n",
        "jobs[\"Requirements\"] = jobs[\"Requirements\"].apply(strip_tags)"
      ],
      "execution_count": 0,
      "outputs": []
    },
    {
      "cell_type": "code",
      "metadata": {
        "colab_type": "code",
        "id": "DAZZrSjvmSy5",
        "outputId": "a9b702b2-efca-4c51-881e-c198062aad23",
        "colab": {
          "base_uri": "https://localhost:8080/",
          "height": 374
        }
      },
      "source": [
        "jobs.head()"
      ],
      "execution_count": 0,
      "outputs": [
        {
          "output_type": "execute_result",
          "data": {
            "text/html": [
              "<div>\n",
              "<style scoped>\n",
              "    .dataframe tbody tr th:only-of-type {\n",
              "        vertical-align: middle;\n",
              "    }\n",
              "\n",
              "    .dataframe tbody tr th {\n",
              "        vertical-align: top;\n",
              "    }\n",
              "\n",
              "    .dataframe thead th {\n",
              "        text-align: right;\n",
              "    }\n",
              "</style>\n",
              "<table border=\"1\" class=\"dataframe\">\n",
              "  <thead>\n",
              "    <tr style=\"text-align: right;\">\n",
              "      <th></th>\n",
              "      <th>JobID</th>\n",
              "      <th>WindowID</th>\n",
              "      <th>Title</th>\n",
              "      <th>Description</th>\n",
              "      <th>Requirements</th>\n",
              "      <th>City</th>\n",
              "      <th>State</th>\n",
              "      <th>Country</th>\n",
              "      <th>Zip5</th>\n",
              "      <th>StartDate</th>\n",
              "      <th>EndDate</th>\n",
              "    </tr>\n",
              "  </thead>\n",
              "  <tbody>\n",
              "    <tr>\n",
              "      <th>2504</th>\n",
              "      <td>10312</td>\n",
              "      <td>1</td>\n",
              "      <td>Receptionist</td>\n",
              "      <td>To assist all departments in the dealership in...</td>\n",
              "      <td>Applicant must have a cheerful personality and...</td>\n",
              "      <td>Arlington</td>\n",
              "      <td>TX</td>\n",
              "      <td>US</td>\n",
              "      <td>NaN</td>\n",
              "      <td>2012-04-02 15:18:02.96</td>\n",
              "      <td>2012-05-01 23:59:59</td>\n",
              "    </tr>\n",
              "    <tr>\n",
              "      <th>9436</th>\n",
              "      <td>34975</td>\n",
              "      <td>1</td>\n",
              "      <td>Data Entry Clerk/Warehouse Associate</td>\n",
              "      <td>Seeking Data Entry Clerk/Warehouse Associate f...</td>\n",
              "      <td>\\r\\r    Must have previous experience in indus...</td>\n",
              "      <td>Marietta</td>\n",
              "      <td>GA</td>\n",
              "      <td>US</td>\n",
              "      <td>NaN</td>\n",
              "      <td>2012-03-28 08:45:46.29</td>\n",
              "      <td>2012-04-27 23:59:59</td>\n",
              "    </tr>\n",
              "    <tr>\n",
              "      <th>10598</th>\n",
              "      <td>39361</td>\n",
              "      <td>1</td>\n",
              "      <td>Customer Service Representative</td>\n",
              "      <td>\\r \\r \\rCUSTOMER SERVICE REPRESENTATIVE\\r \\rNa...</td>\n",
              "      <td>JOB REQUIREMENTS: \\r\\r    Must be over 18 year...</td>\n",
              "      <td>Charlotte</td>\n",
              "      <td>NC</td>\n",
              "      <td>US</td>\n",
              "      <td>NaN</td>\n",
              "      <td>2012-03-19 14:28:49.463</td>\n",
              "      <td>2012-04-18 23:59:59</td>\n",
              "    </tr>\n",
              "    <tr>\n",
              "      <th>16967</th>\n",
              "      <td>65413</td>\n",
              "      <td>1</td>\n",
              "      <td>Medical Customer Service Representative (CSR)</td>\n",
              "      <td>Are you looking for a stable, full-time opport...</td>\n",
              "      <td>Minimum Requirements:\\r\\r    Must have at leas...</td>\n",
              "      <td>Irving</td>\n",
              "      <td>TX</td>\n",
              "      <td>US</td>\n",
              "      <td>75063</td>\n",
              "      <td>2012-03-29 11:07:31.23</td>\n",
              "      <td>2012-04-28 23:59:59</td>\n",
              "    </tr>\n",
              "    <tr>\n",
              "      <th>25535</th>\n",
              "      <td>98665</td>\n",
              "      <td>1</td>\n",
              "      <td>Customer Service Representative / Data Entry P...</td>\n",
              "      <td>\\rCustomer Service Representative  &amp;  Data Ent...</td>\n",
              "      <td>Candidate Requirements: \\r\\r    Excellent phon...</td>\n",
              "      <td>Dallas</td>\n",
              "      <td>TX</td>\n",
              "      <td>US</td>\n",
              "      <td>75247</td>\n",
              "      <td>2012-03-22 17:58:16.327</td>\n",
              "      <td>2012-04-21 23:59:59</td>\n",
              "    </tr>\n",
              "  </tbody>\n",
              "</table>\n",
              "</div>"
            ],
            "text/plain": [
              "       JobID  WindowID  ...                StartDate              EndDate\n",
              "2504   10312         1  ...   2012-04-02 15:18:02.96  2012-05-01 23:59:59\n",
              "9436   34975         1  ...   2012-03-28 08:45:46.29  2012-04-27 23:59:59\n",
              "10598  39361         1  ...  2012-03-19 14:28:49.463  2012-04-18 23:59:59\n",
              "16967  65413         1  ...   2012-03-29 11:07:31.23  2012-04-28 23:59:59\n",
              "25535  98665         1  ...  2012-03-22 17:58:16.327  2012-04-21 23:59:59\n",
              "\n",
              "[5 rows x 11 columns]"
            ]
          },
          "metadata": {
            "tags": []
          },
          "execution_count": 64
        }
      ]
    },
    {
      "cell_type": "code",
      "metadata": {
        "colab_type": "code",
        "id": "gFx_zkJ9myge",
        "colab": {}
      },
      "source": [
        "jobs[\"Requirements\"] = jobs[\"Requirements\"].apply(clean)\n",
        "jobs[\"Description\"] = jobs[\"Description\"].apply(clean)"
      ],
      "execution_count": 0,
      "outputs": []
    },
    {
      "cell_type": "code",
      "metadata": {
        "colab_type": "code",
        "id": "2ZcWIR4sojo_",
        "outputId": "96f8b361-8cf7-4bca-c901-ba421f130817",
        "colab": {
          "base_uri": "https://localhost:8080/",
          "height": 374
        }
      },
      "source": [
        "jobs.head()"
      ],
      "execution_count": 0,
      "outputs": [
        {
          "output_type": "execute_result",
          "data": {
            "text/html": [
              "<div>\n",
              "<style scoped>\n",
              "    .dataframe tbody tr th:only-of-type {\n",
              "        vertical-align: middle;\n",
              "    }\n",
              "\n",
              "    .dataframe tbody tr th {\n",
              "        vertical-align: top;\n",
              "    }\n",
              "\n",
              "    .dataframe thead th {\n",
              "        text-align: right;\n",
              "    }\n",
              "</style>\n",
              "<table border=\"1\" class=\"dataframe\">\n",
              "  <thead>\n",
              "    <tr style=\"text-align: right;\">\n",
              "      <th></th>\n",
              "      <th>JobID</th>\n",
              "      <th>WindowID</th>\n",
              "      <th>Title</th>\n",
              "      <th>Description</th>\n",
              "      <th>Requirements</th>\n",
              "      <th>City</th>\n",
              "      <th>State</th>\n",
              "      <th>Country</th>\n",
              "      <th>Zip5</th>\n",
              "      <th>StartDate</th>\n",
              "      <th>EndDate</th>\n",
              "    </tr>\n",
              "  </thead>\n",
              "  <tbody>\n",
              "    <tr>\n",
              "      <th>2504</th>\n",
              "      <td>10312</td>\n",
              "      <td>1</td>\n",
              "      <td>Receptionist</td>\n",
              "      <td>to assist all departments in the dealership in...</td>\n",
              "      <td>applicant must have a cheerful personality and...</td>\n",
              "      <td>Arlington</td>\n",
              "      <td>TX</td>\n",
              "      <td>US</td>\n",
              "      <td>NaN</td>\n",
              "      <td>2012-04-02 15:18:02.96</td>\n",
              "      <td>2012-05-01 23:59:59</td>\n",
              "    </tr>\n",
              "    <tr>\n",
              "      <th>9436</th>\n",
              "      <td>34975</td>\n",
              "      <td>1</td>\n",
              "      <td>Data Entry Clerk/Warehouse Associate</td>\n",
              "      <td>seeking data entry clerkwarehouse associate fo...</td>\n",
              "      <td>must have previous experience in industr...</td>\n",
              "      <td>Marietta</td>\n",
              "      <td>GA</td>\n",
              "      <td>US</td>\n",
              "      <td>NaN</td>\n",
              "      <td>2012-03-28 08:45:46.29</td>\n",
              "      <td>2012-04-27 23:59:59</td>\n",
              "    </tr>\n",
              "    <tr>\n",
              "      <th>10598</th>\n",
              "      <td>39361</td>\n",
              "      <td>1</td>\n",
              "      <td>Customer Service Representative</td>\n",
              "      <td>customer service representative   nationa...</td>\n",
              "      <td>job requirements       must be over 18 years o...</td>\n",
              "      <td>Charlotte</td>\n",
              "      <td>NC</td>\n",
              "      <td>US</td>\n",
              "      <td>NaN</td>\n",
              "      <td>2012-03-19 14:28:49.463</td>\n",
              "      <td>2012-04-18 23:59:59</td>\n",
              "    </tr>\n",
              "    <tr>\n",
              "      <th>16967</th>\n",
              "      <td>65413</td>\n",
              "      <td>1</td>\n",
              "      <td>Medical Customer Service Representative (CSR)</td>\n",
              "      <td>are you looking for a stable fulltime opportun...</td>\n",
              "      <td>minimum requirements      must have at least 1...</td>\n",
              "      <td>Irving</td>\n",
              "      <td>TX</td>\n",
              "      <td>US</td>\n",
              "      <td>75063</td>\n",
              "      <td>2012-03-29 11:07:31.23</td>\n",
              "      <td>2012-04-28 23:59:59</td>\n",
              "    </tr>\n",
              "    <tr>\n",
              "      <th>25535</th>\n",
              "      <td>98665</td>\n",
              "      <td>1</td>\n",
              "      <td>Customer Service Representative / Data Entry P...</td>\n",
              "      <td>customer service representative    data entry...</td>\n",
              "      <td>candidate requirements       excellent phone e...</td>\n",
              "      <td>Dallas</td>\n",
              "      <td>TX</td>\n",
              "      <td>US</td>\n",
              "      <td>75247</td>\n",
              "      <td>2012-03-22 17:58:16.327</td>\n",
              "      <td>2012-04-21 23:59:59</td>\n",
              "    </tr>\n",
              "  </tbody>\n",
              "</table>\n",
              "</div>"
            ],
            "text/plain": [
              "       JobID  WindowID  ...                StartDate              EndDate\n",
              "2504   10312         1  ...   2012-04-02 15:18:02.96  2012-05-01 23:59:59\n",
              "9436   34975         1  ...   2012-03-28 08:45:46.29  2012-04-27 23:59:59\n",
              "10598  39361         1  ...  2012-03-19 14:28:49.463  2012-04-18 23:59:59\n",
              "16967  65413         1  ...   2012-03-29 11:07:31.23  2012-04-28 23:59:59\n",
              "25535  98665         1  ...  2012-03-22 17:58:16.327  2012-04-21 23:59:59\n",
              "\n",
              "[5 rows x 11 columns]"
            ]
          },
          "metadata": {
            "tags": []
          },
          "execution_count": 75
        }
      ]
    },
    {
      "cell_type": "code",
      "metadata": {
        "colab_type": "code",
        "id": "HqWdLk7Tpmv-",
        "colab": {}
      },
      "source": [
        "jobs [\"Requirements\"] = jobs[\"Requirements\"].apply(lambda x : ' '.join(x.split()))\n",
        "jobs[\"Description\"]= jobs[\"Description\"].apply(lambda x : ' '.join(x.split()))"
      ],
      "execution_count": 0,
      "outputs": []
    },
    {
      "cell_type": "code",
      "metadata": {
        "colab_type": "code",
        "id": "60WKYrQP67bO",
        "colab": {}
      },
      "source": [
        "jobs[\"Total\"] = jobs[\"Description\"]+\" \" + jobs[\"Requirements\"]"
      ],
      "execution_count": 0,
      "outputs": []
    },
    {
      "cell_type": "code",
      "metadata": {
        "colab_type": "code",
        "id": "MKp7e06X7A0I",
        "outputId": "3f3bdfaa-e872-4b68-ccef-5ce731a8bb98",
        "colab": {
          "base_uri": "https://localhost:8080/",
          "height": 459
        }
      },
      "source": [
        "jobs.head()"
      ],
      "execution_count": 0,
      "outputs": [
        {
          "output_type": "execute_result",
          "data": {
            "text/html": [
              "<div>\n",
              "<style scoped>\n",
              "    .dataframe tbody tr th:only-of-type {\n",
              "        vertical-align: middle;\n",
              "    }\n",
              "\n",
              "    .dataframe tbody tr th {\n",
              "        vertical-align: top;\n",
              "    }\n",
              "\n",
              "    .dataframe thead th {\n",
              "        text-align: right;\n",
              "    }\n",
              "</style>\n",
              "<table border=\"1\" class=\"dataframe\">\n",
              "  <thead>\n",
              "    <tr style=\"text-align: right;\">\n",
              "      <th></th>\n",
              "      <th>JobID</th>\n",
              "      <th>WindowID</th>\n",
              "      <th>Title</th>\n",
              "      <th>Description</th>\n",
              "      <th>Requirements</th>\n",
              "      <th>City</th>\n",
              "      <th>State</th>\n",
              "      <th>Country</th>\n",
              "      <th>Zip5</th>\n",
              "      <th>StartDate</th>\n",
              "      <th>EndDate</th>\n",
              "      <th>Total</th>\n",
              "    </tr>\n",
              "  </thead>\n",
              "  <tbody>\n",
              "    <tr>\n",
              "      <th>2504</th>\n",
              "      <td>10312</td>\n",
              "      <td>1</td>\n",
              "      <td>Receptionist</td>\n",
              "      <td>to assist all departments in the dealership in...</td>\n",
              "      <td>applicant must have a cheerful personality and...</td>\n",
              "      <td>Arlington</td>\n",
              "      <td>TX</td>\n",
              "      <td>US</td>\n",
              "      <td>NaN</td>\n",
              "      <td>2012-04-02 15:18:02.96</td>\n",
              "      <td>2012-05-01 23:59:59</td>\n",
              "      <td>to assist all departments in the dealership in...</td>\n",
              "    </tr>\n",
              "    <tr>\n",
              "      <th>9436</th>\n",
              "      <td>34975</td>\n",
              "      <td>1</td>\n",
              "      <td>Data Entry Clerk/Warehouse Associate</td>\n",
              "      <td>seeking data entry clerkwarehouse associate fo...</td>\n",
              "      <td>must have previous experience in industrialman...</td>\n",
              "      <td>Marietta</td>\n",
              "      <td>GA</td>\n",
              "      <td>US</td>\n",
              "      <td>NaN</td>\n",
              "      <td>2012-03-28 08:45:46.29</td>\n",
              "      <td>2012-04-27 23:59:59</td>\n",
              "      <td>seeking data entry clerkwarehouse associate fo...</td>\n",
              "    </tr>\n",
              "    <tr>\n",
              "      <th>10598</th>\n",
              "      <td>39361</td>\n",
              "      <td>1</td>\n",
              "      <td>Customer Service Representative</td>\n",
              "      <td>customer service representative national corpo...</td>\n",
              "      <td>job requirements must be over 18 years of age ...</td>\n",
              "      <td>Charlotte</td>\n",
              "      <td>NC</td>\n",
              "      <td>US</td>\n",
              "      <td>NaN</td>\n",
              "      <td>2012-03-19 14:28:49.463</td>\n",
              "      <td>2012-04-18 23:59:59</td>\n",
              "      <td>customer service representative national corpo...</td>\n",
              "    </tr>\n",
              "    <tr>\n",
              "      <th>16967</th>\n",
              "      <td>65413</td>\n",
              "      <td>1</td>\n",
              "      <td>Medical Customer Service Representative (CSR)</td>\n",
              "      <td>are you looking for a stable fulltime opportun...</td>\n",
              "      <td>minimum requirements must have at least 1 year...</td>\n",
              "      <td>Irving</td>\n",
              "      <td>TX</td>\n",
              "      <td>US</td>\n",
              "      <td>75063</td>\n",
              "      <td>2012-03-29 11:07:31.23</td>\n",
              "      <td>2012-04-28 23:59:59</td>\n",
              "      <td>are you looking for a stable fulltime opportun...</td>\n",
              "    </tr>\n",
              "    <tr>\n",
              "      <th>25535</th>\n",
              "      <td>98665</td>\n",
              "      <td>1</td>\n",
              "      <td>Customer Service Representative / Data Entry P...</td>\n",
              "      <td>customer service representative data entry pos...</td>\n",
              "      <td>candidate requirements excellent phone etiquet...</td>\n",
              "      <td>Dallas</td>\n",
              "      <td>TX</td>\n",
              "      <td>US</td>\n",
              "      <td>75247</td>\n",
              "      <td>2012-03-22 17:58:16.327</td>\n",
              "      <td>2012-04-21 23:59:59</td>\n",
              "      <td>customer service representative data entry pos...</td>\n",
              "    </tr>\n",
              "  </tbody>\n",
              "</table>\n",
              "</div>"
            ],
            "text/plain": [
              "       JobID  ...                                              Total\n",
              "2504   10312  ...  to assist all departments in the dealership in...\n",
              "9436   34975  ...  seeking data entry clerkwarehouse associate fo...\n",
              "10598  39361  ...  customer service representative national corpo...\n",
              "16967  65413  ...  are you looking for a stable fulltime opportun...\n",
              "25535  98665  ...  customer service representative data entry pos...\n",
              "\n",
              "[5 rows x 12 columns]"
            ]
          },
          "metadata": {
            "tags": []
          },
          "execution_count": 86
        }
      ]
    },
    {
      "cell_type": "code",
      "metadata": {
        "colab_type": "code",
        "id": "MCHCY1AEq_8J",
        "colab": {}
      },
      "source": [
        "\n",
        "import re \n",
        "import nltk \n",
        "import spacy \n",
        "import numpy as np \n",
        "import pandas as pd\n",
        "import math \n",
        "from tqdm import tqdm \n",
        "from spacy.matcher import Matcher \n",
        "from spacy.tokens import Span \n",
        "from spacy import displacy \n"
      ],
      "execution_count": 0,
      "outputs": []
    },
    {
      "cell_type": "code",
      "metadata": {
        "colab_type": "code",
        "id": "UIyi6FyC7Kzo",
        "colab": {}
      },
      "source": [
        "nlp = spacy.load(\"en_core_web_sm\")"
      ],
      "execution_count": 0,
      "outputs": []
    },
    {
      "cell_type": "code",
      "metadata": {
        "colab_type": "code",
        "id": "PaPRq9Ip_16t",
        "colab": {}
      },
      "source": [
        "jobs = pd.read_csv(\"jobs_current.csv\")"
      ],
      "execution_count": 0,
      "outputs": []
    },
    {
      "cell_type": "code",
      "metadata": {
        "colab_type": "code",
        "id": "iFftOSBGAQ-4",
        "colab": {}
      },
      "source": [
        "jobs[\"Requirements\"] = jobs[\"Requirements\"].apply(lambda x: \"\" if isinstance(x,float) else x)"
      ],
      "execution_count": 0,
      "outputs": []
    },
    {
      "cell_type": "code",
      "metadata": {
        "colab_type": "code",
        "id": "nfRMPWGKB0IW",
        "colab": {}
      },
      "source": [
        "docs = [nlp(jobs[\"Requirements\"].iloc[i]) for i in range(0,len(jobs))]"
      ],
      "execution_count": 0,
      "outputs": []
    },
    {
      "cell_type": "code",
      "metadata": {
        "colab_type": "code",
        "id": "8fhlUDfRGPfL",
        "outputId": "3508cac2-636f-4856-fde2-44727177a856",
        "colab": {
          "base_uri": "https://localhost:8080/",
          "height": 1000
        }
      },
      "source": [
        "for tok in docs[200]: \n",
        "  print(tok.text, \"-->\",tok.dep_,\"-->\", tok.pos_)"
      ],
      "execution_count": 0,
      "outputs": [
        {
          "output_type": "stream",
          "text": [
            "requirements --> nsubj --> NOUN\n",
            "for --> prep --> ADP\n",
            "employment --> pobj --> NOUN\n",
            "include --> ROOT --> VERB\n",
            "at --> advmod --> ADV\n",
            "least --> advmod --> ADV\n",
            "18 --> nummod --> NUM\n",
            "years --> npadvmod --> NOUN\n",
            "old --> acomp --> ADJ\n",
            "with --> prep --> ADP\n",
            "a --> det --> DET\n",
            "high --> amod --> ADJ\n",
            "school --> compound --> NOUN\n",
            "diploma --> pobj --> NOUN\n",
            "or --> cc --> CCONJ\n",
            "ged --> conj --> NOUN\n",
            "must --> aux --> VERB\n",
            "be --> ccomp --> AUX\n",
            "reliable --> acomp --> ADJ\n",
            "with --> prep --> ADP\n",
            "the --> det --> DET\n",
            "ability --> pobj --> NOUN\n",
            "to --> aux --> PART\n",
            "work --> acl --> VERB\n",
            "a --> det --> DET\n",
            "flexible --> amod --> ADJ\n",
            "retail --> amod --> ADJ\n",
            "schedule --> dobj --> NOUN\n",
            "including --> prep --> VERB\n",
            "evenings --> pobj --> NOUN\n",
            "and --> cc --> CCONJ\n",
            "weekends --> conj --> NOUN\n",
            "with --> prep --> ADP\n",
            "availability --> pobj --> NOUN\n",
            "between --> prep --> ADP\n",
            "6am11pm --> pobj --> PROPN\n",
            "may --> aux --> VERB\n",
            "be --> auxpass --> AUX\n",
            "required --> conj --> VERB\n",
            "to --> aux --> PART\n",
            "handle --> xcomp --> VERB\n",
            "and --> cc --> CCONJ\n",
            "sell --> conj --> VERB\n",
            "alcoholic --> amod --> ADJ\n",
            "beverages --> dobj --> NOUN\n",
            "and --> cc --> CCONJ\n",
            "meet --> conj --> VERB\n",
            "state --> nmod --> NOUN\n",
            "and --> cc --> CCONJ\n",
            "local --> conj --> ADJ\n",
            "requirements --> dobj --> NOUN\n",
            "for --> prep --> ADP\n",
            "handling --> pcomp --> VERB\n",
            "and --> cc --> CCONJ\n",
            "selling --> conj --> VERB\n",
            "alcoholic --> amod --> ADJ\n",
            "beverages --> compound --> NOUN\n",
            "ability --> dobj --> NOUN\n",
            "to --> aux --> PART\n",
            "stock --> acl --> VERB\n",
            "merchandise --> dobj --> NOUN\n",
            "weighing --> acl --> VERB\n",
            "up --> quantmod --> ADP\n",
            "to --> quantmod --> PART\n",
            "45 --> nummod --> NUM\n",
            "lbs --> npadvmod --> NOUN\n",
            "successful --> amod --> ADJ\n",
            "completion --> dobj --> NOUN\n",
            "of --> prep --> ADP\n",
            "drug --> compound --> NOUN\n",
            "screening --> pobj --> NOUN\n",
            "and --> cc --> CCONJ\n",
            "background --> conj --> NOUN\n",
            "checks --> ROOT --> VERB\n",
            "retail --> amod --> ADJ\n",
            "experience --> nsubj --> NOUN\n",
            "preferred --> ccomp --> VERB\n",
            "as --> prep --> SCONJ\n",
            "an --> det --> DET\n",
            "integral --> amod --> ADJ\n",
            "part --> pobj --> NOUN\n",
            "of --> prep --> ADP\n",
            "our --> poss --> DET\n",
            "success --> pobj --> NOUN\n",
            "as --> prep --> SCONJ\n",
            "a --> det --> DET\n",
            "company --> pobj --> NOUN\n",
            "you --> nsubj --> PRON\n",
            "ll --> aux --> VERB\n",
            "earn --> relcl --> VERB\n",
            "a --> det --> DET\n",
            "level --> dobj --> NOUN\n",
            "of --> prep --> ADP\n",
            "rewards --> pobj --> NOUN\n",
            "that --> nsubj --> DET\n",
            "leads --> relcl --> VERB\n",
            "the --> det --> DET\n",
            "industry --> dobj --> NOUN\n",
            "and --> cc --> CCONJ\n",
            "demonstrates --> conj --> VERB\n",
            "our --> poss --> DET\n",
            "commitment --> dobj --> NOUN\n",
            "to --> prep --> ADP\n",
            "you --> pobj --> PRON\n",
            "and --> cc --> CCONJ\n",
            "your --> poss --> DET\n",
            "future --> conj --> NOUN\n",
            "we --> nsubj --> PRON\n",
            "offer --> ROOT --> VERB\n",
            "higher --> amod --> ADJ\n",
            "wages --> dobj --> NOUN\n",
            "major --> amod --> ADJ\n",
            "medical --> amod --> ADJ\n",
            "and --> cc --> CCONJ\n",
            "dental --> conj --> ADJ\n",
            "insurance --> nmod --> NOUN\n",
            "generous --> amod --> ADJ\n",
            "vacation --> compound --> NOUN\n",
            "time --> npadvmod --> NOUN\n",
            "paid --> acl --> VERB\n",
            "holidays --> dobj --> NOUN\n",
            "401 --> nummod --> NUM\n",
            "k --> dobj --> X\n"
          ],
          "name": "stdout"
        }
      ]
    },
    {
      "cell_type": "code",
      "metadata": {
        "colab_type": "code",
        "id": "h2HtqG_zLpEa",
        "colab": {}
      },
      "source": [
        "import gensim\n",
        "from gensim.models import Word2Vec as wvec\n",
        "from gensim.models import KeyedVectors"
      ],
      "execution_count": 0,
      "outputs": []
    },
    {
      "cell_type": "code",
      "metadata": {
        "colab_type": "code",
        "id": "yEfvfjX6Lr_z",
        "outputId": "9d63339f-b3da-47bd-c14b-ed0be4126b7a",
        "colab": {
          "base_uri": "https://localhost:8080/",
          "height": 221
        }
      },
      "source": [
        "os.listdir()"
      ],
      "execution_count": 0,
      "outputs": [
        {
          "output_type": "execute_result",
          "data": {
            "text/plain": [
              "['test_users.tsv',\n",
              " 'popular_jobs.py',\n",
              " 'window_dates.tsv',\n",
              " 'splitjobs',\n",
              " 'users.tsv',\n",
              " 'user_history.tsv',\n",
              " 'popular_jobs.csv',\n",
              " 'apps.tsv',\n",
              " 'jobs.tsv',\n",
              " 'final_userdata.csv',\n",
              " 'jobs_current.csv',\n",
              " 'GoogleNews-vectors-negative300.bin']"
            ]
          },
          "metadata": {
            "tags": []
          },
          "execution_count": 7
        }
      ]
    },
    {
      "cell_type": "code",
      "metadata": {
        "colab_type": "code",
        "id": "05Sjxp5OypfY",
        "colab": {}
      },
      "source": [
        "jobs = pd.read_csv('jobs_current.csv')"
      ],
      "execution_count": 0,
      "outputs": []
    },
    {
      "cell_type": "code",
      "metadata": {
        "colab_type": "code",
        "id": "zPAwg43S0EEg",
        "colab": {}
      },
      "source": [
        "jobs[\"Description\"] = jobs[\"Description\"].apply(strip_tags)\n"
      ],
      "execution_count": 0,
      "outputs": []
    },
    {
      "cell_type": "code",
      "metadata": {
        "colab_type": "code",
        "id": "BbtA8nxQ15a9",
        "colab": {}
      },
      "source": [
        "jobs[\"Requirements\"] = jobs[\"Requirements\"].apply(strip_tags)\n"
      ],
      "execution_count": 0,
      "outputs": []
    },
    {
      "cell_type": "code",
      "metadata": {
        "colab_type": "code",
        "id": "nWJ1OleC53QM",
        "colab": {}
      },
      "source": [
        "jobs[\"Description\"] = jobs[\"Description\"].apply(clean)\n"
      ],
      "execution_count": 0,
      "outputs": []
    },
    {
      "cell_type": "code",
      "metadata": {
        "colab_type": "code",
        "id": "wGCAY1ry55rk",
        "colab": {}
      },
      "source": [
        "jobs[\"Requirements\"] = jobs[\"Requirements\"].apply(clean)"
      ],
      "execution_count": 0,
      "outputs": []
    },
    {
      "cell_type": "code",
      "metadata": {
        "colab_type": "code",
        "id": "1e-Gw2jn7Xiu",
        "colab": {}
      },
      "source": [
        "def funcs(df):\n",
        "  jobs[\"Description\"] = jobs[\"Description\"].apply(strip_tags)\n",
        "  jobs[\"Requirements\"] = jobs[\"Requirements\"].apply(strip_tags)\n",
        "  \n",
        "\n",
        "\n"
      ],
      "execution_count": 0,
      "outputs": []
    },
    {
      "cell_type": "code",
      "metadata": {
        "colab_type": "code",
        "id": "xZ9KUttubEcq",
        "colab": {}
      },
      "source": [
        "import spacy \n",
        "import numpy as np \n",
        "import pandas as pd\n",
        "import math \n",
        "import gensim\n",
        "from gensim.models import Word2Vec as wvec\n",
        "from gensim.models import KeyedVectors\n",
        "from spacy.tokens import Span \n",
        "import os\n",
        "from google.colab import drive\n",
        "import math\n",
        "import string\n",
        "import datetime\n",
        "import pandas as pd\n",
        "from html.parser import HTMLParser"
      ],
      "execution_count": 0,
      "outputs": []
    },
    {
      "cell_type": "code",
      "metadata": {
        "colab_type": "code",
        "id": "sAl6IA5sLhP7",
        "colab": {}
      },
      "source": [
        "from collections import Counter"
      ],
      "execution_count": 0,
      "outputs": []
    },
    {
      "cell_type": "code",
      "metadata": {
        "colab_type": "code",
        "id": "S0yU1n4v8STV",
        "colab": {}
      },
      "source": [
        "users= pd.read_csv('final_userdata.csv')\n",
        "jobs = pd.read_csv('jobs_current.csv')"
      ],
      "execution_count": 0,
      "outputs": []
    },
    {
      "cell_type": "code",
      "metadata": {
        "colab_type": "code",
        "id": "5cbk7RuM8bNc",
        "colab": {}
      },
      "source": [
        "jobs['Title'] = jobs['Title'].apply(clean)"
      ],
      "execution_count": 0,
      "outputs": []
    },
    {
      "cell_type": "code",
      "metadata": {
        "colab_type": "code",
        "id": "c4E_O_8MLhQR",
        "colab": {}
      },
      "source": [
        "qual_types = {'None':0, 'High School':1,'Vocational':2,\"Associate's\":3,\"Bachelor's\":4,\"Master's\":5,\"PhD\":6}\n",
        "qual_types = {v:k for k,v in qual_types.items()}"
      ],
      "execution_count": 0,
      "outputs": []
    },
    {
      "cell_type": "code",
      "metadata": {
        "colab_type": "code",
        "id": "HTVyfefpLhQU",
        "colab": {}
      },
      "source": [
        "''' 0 - None\n",
        "1 - High School \n",
        "2 - Vocational\n",
        "3- Associate's\n",
        "4- Bachelor's\n",
        "5 - Master's\n",
        "6- Phd '''\n",
        "def qual(x):\n",
        "  for i in qual_types.keys():\n",
        "    if x == i:\n",
        "      return qual_types[x]\n",
        "\n"
      ],
      "execution_count": 0,
      "outputs": []
    },
    {
      "cell_type": "code",
      "metadata": {
        "colab_type": "code",
        "id": "Hga6sDU3q7fR",
        "colab": {}
      },
      "source": [
        "users[\"Qualification\"] = users[\"Qualification\"].apply(qual)"
      ],
      "execution_count": 0,
      "outputs": []
    },
    {
      "cell_type": "code",
      "metadata": {
        "colab_type": "code",
        "id": "2yG3LmP3raA2",
        "colab": {}
      },
      "source": [
        "def manager(x):\n",
        "  txt = \"\"\n",
        "  if x.ManagedOthers == \"True\":\n",
        "    txt = \"Manager\"\n",
        "  if x.ManagedHowMany>5:\n",
        "    txt = \"Senior Manager\"\n",
        "  return txt\n",
        "users[\"Manager\"] = users.apply(manager,axis=1)"
      ],
      "execution_count": 0,
      "outputs": []
    },
    {
      "cell_type": "code",
      "metadata": {
        "colab_type": "code",
        "id": "yOWRUFSCLhQf",
        "colab": {}
      },
      "source": [
        "nlp = spacy.load(\"en_core_web_sm\")"
      ],
      "execution_count": 0,
      "outputs": []
    },
    {
      "cell_type": "code",
      "metadata": {
        "colab_type": "code",
        "id": "3IvYLhwXf0-K",
        "colab": {}
      },
      "source": [
        "jobs[\"Requirements\"] = jobs[\"Requirements\"].apply(lambda x: \"\" if isinstance(x,float) else x)"
      ],
      "execution_count": 0,
      "outputs": []
    },
    {
      "cell_type": "code",
      "metadata": {
        "colab_type": "code",
        "id": "1xW8LJ5zulqG",
        "colab": {}
      },
      "source": [
        "def join(x):\n",
        "  txt = \"\"\n",
        "  cols = users.columns\n",
        "  for cl in cols:\n",
        "    if cl != \"UserID\":\n",
        "      if x.cl != '0':\n",
        "        txt = txt + \" \" + x.cl\n",
        "\n",
        "  return txt"
      ],
      "execution_count": 0,
      "outputs": []
    },
    {
      "cell_type": "code",
      "metadata": {
        "colab_type": "code",
        "id": "Vnp2bARku5NY",
        "colab": {}
      },
      "source": [
        "forb = ['DET','ADV','ADJ','VERB','PART','ADP','INTJ','CCONJ','AUX']\n",
        "def rmv(txt):\n",
        "  txt = nlp(txt)\n",
        "  revised = \"\"\n",
        "  for toc in txt:\n",
        "    if not(toc.pos_ in forb):\n",
        "      revised= revised + toc.text + \" \"\n",
        "    \n",
        "  return revised"
      ],
      "execution_count": 0,
      "outputs": []
    },
    {
      "cell_type": "code",
      "metadata": {
        "colab_type": "code",
        "id": "rt7Y1c_Du8HY",
        "colab": {}
      },
      "source": [
        "jobs[\"Total\"] = jobs[\"Title\"] + \" \" + jobs[\"Description\"].apply(rmv) + \" \" + jobs[\"Requirements\"].apply(rmv)"
      ],
      "execution_count": 0,
      "outputs": []
    },
    {
      "cell_type": "code",
      "metadata": {
        "colab_type": "code",
        "id": "e5QT4r8XyUy0",
        "colab": {}
      },
      "source": [
        "jobs = jobs.drop([\"WindowID\",\"Title\",\"Description\",\"Requirements\",\"City\",\"State\",\"Country\",\"Zip5\",\"StartDate\",\"EndDate\"],axis=1)"
      ],
      "execution_count": 0,
      "outputs": []
    },
    {
      "cell_type": "code",
      "metadata": {
        "colab_type": "code",
        "id": "G4umor90xCpx",
        "outputId": "fd586ca5-81d1-4ec1-e324-10ad3e153650",
        "colab": {
          "base_uri": "https://localhost:8080/",
          "height": 204
        }
      },
      "source": [
        "jobs.head()"
      ],
      "execution_count": 0,
      "outputs": [
        {
          "output_type": "execute_result",
          "data": {
            "text/html": [
              "<div>\n",
              "<style scoped>\n",
              "    .dataframe tbody tr th:only-of-type {\n",
              "        vertical-align: middle;\n",
              "    }\n",
              "\n",
              "    .dataframe tbody tr th {\n",
              "        vertical-align: top;\n",
              "    }\n",
              "\n",
              "    .dataframe thead th {\n",
              "        text-align: right;\n",
              "    }\n",
              "</style>\n",
              "<table border=\"1\" class=\"dataframe\">\n",
              "  <thead>\n",
              "    <tr style=\"text-align: right;\">\n",
              "      <th></th>\n",
              "      <th>JobID</th>\n",
              "      <th>Total</th>\n",
              "    </tr>\n",
              "  </thead>\n",
              "  <tbody>\n",
              "    <tr>\n",
              "      <th>0</th>\n",
              "      <td>10312</td>\n",
              "      <td>Receptionist departments dealership phone call...</td>\n",
              "    </tr>\n",
              "    <tr>\n",
              "      <th>1</th>\n",
              "      <td>34975</td>\n",
              "      <td>Data Entry Clerk Warehouse Associate data entr...</td>\n",
              "    </tr>\n",
              "    <tr>\n",
              "      <th>2</th>\n",
              "      <td>39361</td>\n",
              "      <td>Customer Service Representative customer servi...</td>\n",
              "    </tr>\n",
              "    <tr>\n",
              "      <th>3</th>\n",
              "      <td>65413</td>\n",
              "      <td>Medical Customer Service Representative  CSR  ...</td>\n",
              "    </tr>\n",
              "    <tr>\n",
              "      <th>4</th>\n",
              "      <td>98665</td>\n",
              "      <td>Customer Service Representative   Data Entry P...</td>\n",
              "    </tr>\n",
              "  </tbody>\n",
              "</table>\n",
              "</div>"
            ],
            "text/plain": [
              "   JobID                                              Total\n",
              "0  10312  Receptionist departments dealership phone call...\n",
              "1  34975  Data Entry Clerk Warehouse Associate data entr...\n",
              "2  39361  Customer Service Representative customer servi...\n",
              "3  65413  Medical Customer Service Representative  CSR  ...\n",
              "4  98665  Customer Service Representative   Data Entry P..."
            ]
          },
          "metadata": {
            "tags": []
          },
          "execution_count": 39
        }
      ]
    },
    {
      "cell_type": "code",
      "metadata": {
        "colab_type": "code",
        "id": "wJMelh4Py0Bq",
        "colab": {}
      },
      "source": [
        "jobs.to_csv('final_jobs.csv',index=False)"
      ],
      "execution_count": 0,
      "outputs": []
    },
    {
      "cell_type": "code",
      "metadata": {
        "colab_type": "code",
        "id": "IpnOqqVGy-2C",
        "colab": {}
      },
      "source": [
        "usr = pd.DataFrame()"
      ],
      "execution_count": 0,
      "outputs": []
    },
    {
      "cell_type": "code",
      "metadata": {
        "colab_type": "code",
        "id": "AAZvlXNVzK1Z",
        "colab": {}
      },
      "source": [
        "usr['UserID']=  users['UserID']"
      ],
      "execution_count": 0,
      "outputs": []
    },
    {
      "cell_type": "code",
      "metadata": {
        "colab_type": "code",
        "id": "dI2YKqvtzdl6",
        "outputId": "18c32a2e-9464-4123-d882-60e7c45fca3a",
        "colab": {
          "base_uri": "https://localhost:8080/",
          "height": 360
        }
      },
      "source": [
        "users.head()"
      ],
      "execution_count": 0,
      "outputs": [
        {
          "output_type": "execute_result",
          "data": {
            "text/html": [
              "<div>\n",
              "<style scoped>\n",
              "    .dataframe tbody tr th:only-of-type {\n",
              "        vertical-align: middle;\n",
              "    }\n",
              "\n",
              "    .dataframe tbody tr th {\n",
              "        vertical-align: top;\n",
              "    }\n",
              "\n",
              "    .dataframe thead th {\n",
              "        text-align: right;\n",
              "    }\n",
              "</style>\n",
              "<table border=\"1\" class=\"dataframe\">\n",
              "  <thead>\n",
              "    <tr style=\"text-align: right;\">\n",
              "      <th></th>\n",
              "      <th>UserID</th>\n",
              "      <th>WorkHistoryCount</th>\n",
              "      <th>TotalYearsExperience</th>\n",
              "      <th>CurrentlyEmployed</th>\n",
              "      <th>ManagedOthers</th>\n",
              "      <th>ManagedHowMany</th>\n",
              "      <th>Studying</th>\n",
              "      <th>Qualification</th>\n",
              "      <th>Majorx</th>\n",
              "      <th>0</th>\n",
              "      <th>1</th>\n",
              "      <th>2</th>\n",
              "      <th>3</th>\n",
              "      <th>4</th>\n",
              "      <th>5</th>\n",
              "      <th>6</th>\n",
              "    </tr>\n",
              "  </thead>\n",
              "  <tbody>\n",
              "    <tr>\n",
              "      <th>0</th>\n",
              "      <td>554</td>\n",
              "      <td>2</td>\n",
              "      <td>4.0</td>\n",
              "      <td>True</td>\n",
              "      <td>True</td>\n",
              "      <td>0</td>\n",
              "      <td>0</td>\n",
              "      <td>4</td>\n",
              "      <td>legal studies</td>\n",
              "      <td>0</td>\n",
              "      <td>auditor</td>\n",
              "      <td>0</td>\n",
              "      <td>0</td>\n",
              "      <td>0</td>\n",
              "      <td>0</td>\n",
              "      <td>0</td>\n",
              "    </tr>\n",
              "    <tr>\n",
              "      <th>1</th>\n",
              "      <td>769</td>\n",
              "      <td>5</td>\n",
              "      <td>5.0</td>\n",
              "      <td>True</td>\n",
              "      <td>True</td>\n",
              "      <td>0</td>\n",
              "      <td>0</td>\n",
              "      <td>4</td>\n",
              "      <td>radio television</td>\n",
              "      <td>shoe fit specialist</td>\n",
              "      <td>wgci  programming intern</td>\n",
              "      <td>hip hop director dj</td>\n",
              "      <td>teller</td>\n",
              "      <td>head cashier</td>\n",
              "      <td>0</td>\n",
              "      <td>0</td>\n",
              "    </tr>\n",
              "    <tr>\n",
              "      <th>2</th>\n",
              "      <td>1697</td>\n",
              "      <td>4</td>\n",
              "      <td>6.0</td>\n",
              "      <td>False</td>\n",
              "      <td>True</td>\n",
              "      <td>0</td>\n",
              "      <td>0</td>\n",
              "      <td>1</td>\n",
              "      <td>0</td>\n",
              "      <td>0</td>\n",
              "      <td>cocktail waitress</td>\n",
              "      <td>0</td>\n",
              "      <td>0</td>\n",
              "      <td>0</td>\n",
              "      <td>0</td>\n",
              "      <td>0</td>\n",
              "    </tr>\n",
              "    <tr>\n",
              "      <th>3</th>\n",
              "      <td>4366</td>\n",
              "      <td>3</td>\n",
              "      <td>9.0</td>\n",
              "      <td>False</td>\n",
              "      <td>True</td>\n",
              "      <td>0</td>\n",
              "      <td>-1</td>\n",
              "      <td>0</td>\n",
              "      <td>0</td>\n",
              "      <td>office manager</td>\n",
              "      <td>account manager</td>\n",
              "      <td>promotional manager</td>\n",
              "      <td>0</td>\n",
              "      <td>0</td>\n",
              "      <td>0</td>\n",
              "      <td>0</td>\n",
              "    </tr>\n",
              "    <tr>\n",
              "      <th>4</th>\n",
              "      <td>4368</td>\n",
              "      <td>5</td>\n",
              "      <td>45.0</td>\n",
              "      <td>True</td>\n",
              "      <td>True</td>\n",
              "      <td>0</td>\n",
              "      <td>-1</td>\n",
              "      <td>1</td>\n",
              "      <td>0</td>\n",
              "      <td>administrative wage garnishment specialist</td>\n",
              "      <td>cashier</td>\n",
              "      <td>sales associate</td>\n",
              "      <td>sales associate</td>\n",
              "      <td>0</td>\n",
              "      <td>0</td>\n",
              "      <td>0</td>\n",
              "    </tr>\n",
              "  </tbody>\n",
              "</table>\n",
              "</div>"
            ],
            "text/plain": [
              "   UserID  WorkHistoryCount  TotalYearsExperience  ...             4  5  6\n",
              "0     554                 2                   4.0  ...             0  0  0\n",
              "1     769                 5                   5.0  ...  head cashier  0  0\n",
              "2    1697                 4                   6.0  ...             0  0  0\n",
              "3    4366                 3                   9.0  ...             0  0  0\n",
              "4    4368                 5                  45.0  ...             0  0  0\n",
              "\n",
              "[5 rows x 16 columns]"
            ]
          },
          "metadata": {
            "tags": []
          },
          "execution_count": 43
        }
      ]
    },
    {
      "cell_type": "code",
      "metadata": {
        "colab_type": "code",
        "id": "vIruMvdK_bEp",
        "colab": {}
      },
      "source": [
        "num2words = {1: 'One', 2: 'Two', 3: 'Three', 4: 'Four', 5: 'Five', \\\n",
        "             6: 'Six', 7: 'Seven', 8: 'Eight', 9: 'Nine', 10: 'Ten', \\\n",
        "            11: 'Eleven', 12: 'Twelve', 13: 'Thirteen', 14: 'Fourteen', \\\n",
        "            15: 'Fifteen', 16: 'Sixteen', 17: 'Seventeen', 18: 'Eighteen', \\\n",
        "            19: 'Nineteen', 20: 'Twenty', 30: 'Thirty', 40: 'Forty', \\\n",
        "            50: 'Fifty', 60: 'Sixty', 70: 'Seventy', 80: 'Eighty', \\\n",
        "            90: 'Ninety', 0: 'Zero'}\n",
        "\n",
        "\n",
        "            "
      ],
      "execution_count": 0,
      "outputs": []
    },
    {
      "cell_type": "code",
      "metadata": {
        "colab_type": "code",
        "id": "CFO-JsyuAMrh",
        "colab": {}
      },
      "source": [
        "def n2w(n):\n",
        "  try:\n",
        "    return num2words[n]\n",
        "  except KeyError:\n",
        "    try:\n",
        "      return num2words[n-n%10] +\" \"+ num2words[n%10].lower()\n",
        "    except KeyError:\n",
        "      pass"
      ],
      "execution_count": 0,
      "outputs": []
    },
    {
      "cell_type": "code",
      "metadata": {
        "colab_type": "code",
        "id": "ZjbhmECyAgwl",
        "colab": {}
      },
      "source": [
        "users[\"TotalYearsExperience\"]  = (users[\"TotalYearsExperience\"].apply(n2w)).apply(lambda x : x.lower() + \" years experience\" if x!= None else \"\")"
      ],
      "execution_count": 0,
      "outputs": []
    },
    {
      "cell_type": "code",
      "metadata": {
        "colab_type": "code",
        "id": "iX0PqANOA9zv",
        "colab": {}
      },
      "source": [
        "def mang(x):\n",
        "  if x>10:\n",
        "    return \"senior manager\"\n",
        "  if x>0:\n",
        "    return \"manager\"\n",
        "  return \"\""
      ],
      "execution_count": 0,
      "outputs": []
    },
    {
      "cell_type": "code",
      "metadata": {
        "colab_type": "code",
        "id": "ZueOyKeqBeEq",
        "colab": {}
      },
      "source": [
        "users[\"ManagedOthers\"] = users[\"ManagedHowMany\"].apply(mang)"
      ],
      "execution_count": 0,
      "outputs": []
    },
    {
      "cell_type": "code",
      "metadata": {
        "colab_type": "code",
        "id": "udLmtkuTC6Lo",
        "colab": {}
      },
      "source": [
        "users[\"WorkHistoryCount\"] = (users[\"WorkHistoryCount\"].apply(n2w)).apply(lambda x : x.lower() + \" previous jobs\" if x!= None else \"\")"
      ],
      "execution_count": 0,
      "outputs": []
    },
    {
      "cell_type": "code",
      "metadata": {
        "colab_type": "code",
        "id": "Nm-pv1cW0AQF",
        "colab": {}
      },
      "source": [
        "users[\"Text\"] = \"\"\n"
      ],
      "execution_count": 0,
      "outputs": []
    },
    {
      "cell_type": "code",
      "metadata": {
        "colab_type": "code",
        "id": "98dexE2lEr-S",
        "colab": {}
      },
      "source": [
        "users[\"Qualification\"] = users[\"Qualification\"].apply(lambda x: x.strip(\"'s\"))"
      ],
      "execution_count": 0,
      "outputs": []
    },
    {
      "cell_type": "code",
      "metadata": {
        "colab_type": "code",
        "id": "z_Yl2wyc0fcc",
        "colab": {}
      },
      "source": [
        "users[\"Text\"] = users[\"Qualification\"] + \" \" + users[\"Majorx\"] + \" \"  + users[\"0\"]  + \" \"  + users[\"1\"] + \" \"  + users[\"2\"] + \" \"  + users[\"3\"] + \" \"  + users[\"4\"] + \" \"  + users[\"5\"] + \" \"  + users[\"6\"] +  \" \" + users[\"ManagedOthers\"] + \" \" +  users[\"TotalYearsExperience\"] + \" \" +  users[\"WorkHistoryCount\"]"
      ],
      "execution_count": 0,
      "outputs": []
    },
    {
      "cell_type": "code",
      "metadata": {
        "colab_type": "code",
        "id": "cG3jjny81NUd",
        "colab": {}
      },
      "source": [
        "users[\"Text\"] = users[\"Text\"].apply(lambda x: x.replace('0',\"\"))"
      ],
      "execution_count": 0,
      "outputs": []
    },
    {
      "cell_type": "code",
      "metadata": {
        "colab_type": "code",
        "id": "xfw4p1Gh1Vc_",
        "colab": {}
      },
      "source": [
        "usr[\"Text\"] = users[\"Text\"]"
      ],
      "execution_count": 0,
      "outputs": []
    },
    {
      "cell_type": "code",
      "metadata": {
        "colab_type": "code",
        "id": "G2CuAGuE1ox3",
        "outputId": "06a9429c-698a-4482-9651-37339b2efe45",
        "colab": {
          "base_uri": "https://localhost:8080/",
          "height": 204
        }
      },
      "source": [
        "usr.head()"
      ],
      "execution_count": 0,
      "outputs": [
        {
          "output_type": "execute_result",
          "data": {
            "text/html": [
              "<div>\n",
              "<style scoped>\n",
              "    .dataframe tbody tr th:only-of-type {\n",
              "        vertical-align: middle;\n",
              "    }\n",
              "\n",
              "    .dataframe tbody tr th {\n",
              "        vertical-align: top;\n",
              "    }\n",
              "\n",
              "    .dataframe thead th {\n",
              "        text-align: right;\n",
              "    }\n",
              "</style>\n",
              "<table border=\"1\" class=\"dataframe\">\n",
              "  <thead>\n",
              "    <tr style=\"text-align: right;\">\n",
              "      <th></th>\n",
              "      <th>UserID</th>\n",
              "      <th>Text</th>\n",
              "    </tr>\n",
              "  </thead>\n",
              "  <tbody>\n",
              "    <tr>\n",
              "      <th>0</th>\n",
              "      <td>554</td>\n",
              "      <td>Bachelor legal studies  auditor       four yea...</td>\n",
              "    </tr>\n",
              "    <tr>\n",
              "      <th>1</th>\n",
              "      <td>769</td>\n",
              "      <td>Bachelor radio television shoe fit specialist ...</td>\n",
              "    </tr>\n",
              "    <tr>\n",
              "      <th>2</th>\n",
              "      <td>1697</td>\n",
              "      <td>High School   cocktail waitress       six year...</td>\n",
              "    </tr>\n",
              "    <tr>\n",
              "      <th>3</th>\n",
              "      <td>4366</td>\n",
              "      <td>None  office manager account manager promotion...</td>\n",
              "    </tr>\n",
              "    <tr>\n",
              "      <th>4</th>\n",
              "      <td>4368</td>\n",
              "      <td>High School  administrative wage garnishment s...</td>\n",
              "    </tr>\n",
              "  </tbody>\n",
              "</table>\n",
              "</div>"
            ],
            "text/plain": [
              "   UserID                                               Text\n",
              "0     554  Bachelor legal studies  auditor       four yea...\n",
              "1     769  Bachelor radio television shoe fit specialist ...\n",
              "2    1697  High School   cocktail waitress       six year...\n",
              "3    4366  None  office manager account manager promotion...\n",
              "4    4368  High School  administrative wage garnishment s..."
            ]
          },
          "metadata": {
            "tags": []
          },
          "execution_count": 103
        }
      ]
    },
    {
      "cell_type": "code",
      "metadata": {
        "colab_type": "code",
        "id": "VbxaZKna1j7K",
        "colab": {}
      },
      "source": [
        "usr.to_csv(\"users_final.csv\",index=False)"
      ],
      "execution_count": 0,
      "outputs": []
    },
    {
      "cell_type": "code",
      "metadata": {
        "colab_type": "code",
        "id": "uPN1gOxLFDj7",
        "colab": {}
      },
      "source": [
        ""
      ],
      "execution_count": 0,
      "outputs": []
    },
    {
      "cell_type": "markdown",
      "metadata": {
        "colab_type": "text",
        "id": "n3hZOaviJ9l7"
      },
      "source": [
        "#                          Job Matching\n",
        "\n"
      ]
    },
    {
      "cell_type": "code",
      "metadata": {
        "colab_type": "code",
        "id": "YOnyzHP8LhRj",
        "colab": {}
      },
      "source": [
        "import os\n",
        "from google.colab import drive\n",
        "import math"
      ],
      "execution_count": 0,
      "outputs": []
    },
    {
      "cell_type": "markdown",
      "metadata": {
        "colab_type": "text",
        "id": "TE5E4O8cKWhr"
      },
      "source": [
        "Connect to Google Drive and load the data"
      ]
    },
    {
      "cell_type": "code",
      "metadata": {
        "colab_type": "code",
        "outputId": "15db818a-8b0b-4b87-b23d-266c0c327e6f",
        "id": "RoWcUPj4LhRm",
        "colab": {
          "base_uri": "https://localhost:8080/",
          "height": 122
        }
      },
      "source": [
        "drive.mount('/content/drive')"
      ],
      "execution_count": 0,
      "outputs": [
        {
          "output_type": "stream",
          "text": [
            "Go to this URL in a browser: https://accounts.google.com/o/oauth2/auth?client_id=947318989803-6bn6qk8qdgf4n4g3pfee6491hc0brc4i.apps.googleusercontent.com&redirect_uri=urn%3aietf%3awg%3aoauth%3a2.0%3aoob&response_type=code&scope=email%20https%3a%2f%2fwww.googleapis.com%2fauth%2fdocs.test%20https%3a%2f%2fwww.googleapis.com%2fauth%2fdrive%20https%3a%2f%2fwww.googleapis.com%2fauth%2fdrive.photos.readonly%20https%3a%2f%2fwww.googleapis.com%2fauth%2fpeopleapi.readonly\n",
            "\n",
            "Enter your authorization code:\n",
            "··········\n",
            "Mounted at /content/drive\n"
          ],
          "name": "stdout"
        }
      ]
    },
    {
      "cell_type": "code",
      "metadata": {
        "colab_type": "code",
        "id": "r3v99BrZLhRo",
        "colab": {}
      },
      "source": [
        "os.chdir('drive/My Drive/job_rec')"
      ],
      "execution_count": 0,
      "outputs": []
    },
    {
      "cell_type": "code",
      "metadata": {
        "colab_type": "code",
        "outputId": "8b8700f7-e24f-4c44-c79d-b312bd2f4e32",
        "id": "vueM8dTQLhRq",
        "colab": {
          "base_uri": "https://localhost:8080/",
          "height": 215
        }
      },
      "source": [
        "application_data = pd.read_csv('applicants.csv',error_bad_lines=False)\n",
        "users = pd.read_csv('users_final.csv')\n",
        "users_unproc = pd.read_csv('final_userdata.csv')\n",
        "jobs = pd.read_csv('final_jobs.csv')"
      ],
      "execution_count": 0,
      "outputs": [
        {
          "output_type": "error",
          "ename": "NameError",
          "evalue": "ignored",
          "traceback": [
            "\u001b[0;31m---------------------------------------------------------------------------\u001b[0m",
            "\u001b[0;31mNameError\u001b[0m                                 Traceback (most recent call last)",
            "\u001b[0;32m<ipython-input-5-bab3820900b7>\u001b[0m in \u001b[0;36m<module>\u001b[0;34m()\u001b[0m\n\u001b[0;32m----> 1\u001b[0;31m \u001b[0mapplication_data\u001b[0m \u001b[0;34m=\u001b[0m \u001b[0mpd\u001b[0m\u001b[0;34m.\u001b[0m\u001b[0mread_csv\u001b[0m\u001b[0;34m(\u001b[0m\u001b[0;34m'applicants.csv'\u001b[0m\u001b[0;34m,\u001b[0m\u001b[0merror_bad_lines\u001b[0m\u001b[0;34m=\u001b[0m\u001b[0;32mFalse\u001b[0m\u001b[0;34m)\u001b[0m\u001b[0;34m\u001b[0m\u001b[0;34m\u001b[0m\u001b[0m\n\u001b[0m\u001b[1;32m      2\u001b[0m \u001b[0musers\u001b[0m \u001b[0;34m=\u001b[0m \u001b[0mpd\u001b[0m\u001b[0;34m.\u001b[0m\u001b[0mread_csv\u001b[0m\u001b[0;34m(\u001b[0m\u001b[0;34m'users_final.csv'\u001b[0m\u001b[0;34m)\u001b[0m\u001b[0;34m\u001b[0m\u001b[0;34m\u001b[0m\u001b[0m\n\u001b[1;32m      3\u001b[0m \u001b[0musers_unproc\u001b[0m \u001b[0;34m=\u001b[0m \u001b[0mpd\u001b[0m\u001b[0;34m.\u001b[0m\u001b[0mread_csv\u001b[0m\u001b[0;34m(\u001b[0m\u001b[0;34m'final_userdata.csv'\u001b[0m\u001b[0;34m)\u001b[0m\u001b[0;34m\u001b[0m\u001b[0;34m\u001b[0m\u001b[0m\n\u001b[1;32m      4\u001b[0m \u001b[0mjobs\u001b[0m \u001b[0;34m=\u001b[0m \u001b[0mpd\u001b[0m\u001b[0;34m.\u001b[0m\u001b[0mread_csv\u001b[0m\u001b[0;34m(\u001b[0m\u001b[0;34m'final_jobs.csv'\u001b[0m\u001b[0;34m)\u001b[0m\u001b[0;34m\u001b[0m\u001b[0;34m\u001b[0m\u001b[0m\n",
            "\u001b[0;31mNameError\u001b[0m: name 'pd' is not defined"
          ]
        }
      ]
    },
    {
      "cell_type": "markdown",
      "metadata": {
        "colab_type": "text",
        "id": "hrlAnAOxKdx4"
      },
      "source": [
        "Load the vectors for the Word2Vec model. We are using GoogleNews vectors which contain 3m tokens."
      ]
    },
    {
      "cell_type": "code",
      "metadata": {
        "colab_type": "code",
        "id": "PtzhgICX2aqJ",
        "outputId": "448c1542-2e48-4cbf-eb15-50b42e00ee2a",
        "colab": {
          "base_uri": "https://localhost:8080/",
          "height": 71
        }
      },
      "source": [
        "model = KeyedVectors.load_word2vec_format('GoogleNews-vectors-negative300.bin',binary=True)"
      ],
      "execution_count": 0,
      "outputs": [
        {
          "output_type": "stream",
          "text": [
            "/usr/local/lib/python3.6/dist-packages/smart_open/smart_open_lib.py:410: UserWarning: This function is deprecated, use smart_open.open instead. See the migration notes for details: https://github.com/RaRe-Technologies/smart_open/blob/master/README.rst#migrating-to-the-new-open-function\n",
            "  'See the migration notes for details: %s' % _MIGRATION_NOTES_URL\n"
          ],
          "name": "stderr"
        }
      ]
    },
    {
      "cell_type": "markdown",
      "metadata": {
        "colab_type": "text",
        "id": "3Gtj99mAKodc"
      },
      "source": [
        "The data we are using - <br>\n",
        "users - >  Processed applicants data that contains degree type degree major and last 7 jobs<br>\n",
        "jobs - > Job data that contains title description and requirements<br>\n",
        "application_data - > which users applied to which jobs\n"
      ]
    },
    {
      "cell_type": "code",
      "metadata": {
        "colab_type": "code",
        "id": "5JuEE9eK3an9",
        "outputId": "6030bf21-544b-4d35-bbbc-001b688b9f6f",
        "colab": {
          "base_uri": "https://localhost:8080/",
          "height": 204
        }
      },
      "source": [
        "users.head()"
      ],
      "execution_count": 0,
      "outputs": [
        {
          "output_type": "execute_result",
          "data": {
            "text/html": [
              "<div>\n",
              "<style scoped>\n",
              "    .dataframe tbody tr th:only-of-type {\n",
              "        vertical-align: middle;\n",
              "    }\n",
              "\n",
              "    .dataframe tbody tr th {\n",
              "        vertical-align: top;\n",
              "    }\n",
              "\n",
              "    .dataframe thead th {\n",
              "        text-align: right;\n",
              "    }\n",
              "</style>\n",
              "<table border=\"1\" class=\"dataframe\">\n",
              "  <thead>\n",
              "    <tr style=\"text-align: right;\">\n",
              "      <th></th>\n",
              "      <th>UserID</th>\n",
              "      <th>Text</th>\n",
              "    </tr>\n",
              "  </thead>\n",
              "  <tbody>\n",
              "    <tr>\n",
              "      <th>0</th>\n",
              "      <td>554</td>\n",
              "      <td>Bachelor legal studies  auditor       four yea...</td>\n",
              "    </tr>\n",
              "    <tr>\n",
              "      <th>1</th>\n",
              "      <td>769</td>\n",
              "      <td>Bachelor radio television shoe fit specialist ...</td>\n",
              "    </tr>\n",
              "    <tr>\n",
              "      <th>2</th>\n",
              "      <td>1697</td>\n",
              "      <td>High School   cocktail waitress       six year...</td>\n",
              "    </tr>\n",
              "    <tr>\n",
              "      <th>3</th>\n",
              "      <td>4366</td>\n",
              "      <td>None  office manager account manager promotion...</td>\n",
              "    </tr>\n",
              "    <tr>\n",
              "      <th>4</th>\n",
              "      <td>4368</td>\n",
              "      <td>High School  administrative wage garnishment s...</td>\n",
              "    </tr>\n",
              "  </tbody>\n",
              "</table>\n",
              "</div>"
            ],
            "text/plain": [
              "   UserID                                               Text\n",
              "0     554  Bachelor legal studies  auditor       four yea...\n",
              "1     769  Bachelor radio television shoe fit specialist ...\n",
              "2    1697  High School   cocktail waitress       six year...\n",
              "3    4366  None  office manager account manager promotion...\n",
              "4    4368  High School  administrative wage garnishment s..."
            ]
          },
          "metadata": {
            "tags": []
          },
          "execution_count": 6
        }
      ]
    },
    {
      "cell_type": "code",
      "metadata": {
        "colab_type": "code",
        "id": "U7iaZMqU3dXC",
        "outputId": "9fa3d803-915f-4fc8-8e6f-6fd47107ad3f",
        "colab": {
          "base_uri": "https://localhost:8080/",
          "height": 204
        }
      },
      "source": [
        "jobs.head()"
      ],
      "execution_count": 0,
      "outputs": [
        {
          "output_type": "execute_result",
          "data": {
            "text/html": [
              "<div>\n",
              "<style scoped>\n",
              "    .dataframe tbody tr th:only-of-type {\n",
              "        vertical-align: middle;\n",
              "    }\n",
              "\n",
              "    .dataframe tbody tr th {\n",
              "        vertical-align: top;\n",
              "    }\n",
              "\n",
              "    .dataframe thead th {\n",
              "        text-align: right;\n",
              "    }\n",
              "</style>\n",
              "<table border=\"1\" class=\"dataframe\">\n",
              "  <thead>\n",
              "    <tr style=\"text-align: right;\">\n",
              "      <th></th>\n",
              "      <th>JobID</th>\n",
              "      <th>Total</th>\n",
              "    </tr>\n",
              "  </thead>\n",
              "  <tbody>\n",
              "    <tr>\n",
              "      <th>0</th>\n",
              "      <td>10312</td>\n",
              "      <td>Receptionist departments dealership phone call...</td>\n",
              "    </tr>\n",
              "    <tr>\n",
              "      <th>1</th>\n",
              "      <td>34975</td>\n",
              "      <td>Data Entry Clerk Warehouse Associate data entr...</td>\n",
              "    </tr>\n",
              "    <tr>\n",
              "      <th>2</th>\n",
              "      <td>39361</td>\n",
              "      <td>Customer Service Representative customer servi...</td>\n",
              "    </tr>\n",
              "    <tr>\n",
              "      <th>3</th>\n",
              "      <td>65413</td>\n",
              "      <td>Medical Customer Service Representative  CSR  ...</td>\n",
              "    </tr>\n",
              "    <tr>\n",
              "      <th>4</th>\n",
              "      <td>98665</td>\n",
              "      <td>Customer Service Representative   Data Entry P...</td>\n",
              "    </tr>\n",
              "  </tbody>\n",
              "</table>\n",
              "</div>"
            ],
            "text/plain": [
              "   JobID                                              Total\n",
              "0  10312  Receptionist departments dealership phone call...\n",
              "1  34975  Data Entry Clerk Warehouse Associate data entr...\n",
              "2  39361  Customer Service Representative customer servi...\n",
              "3  65413  Medical Customer Service Representative  CSR  ...\n",
              "4  98665  Customer Service Representative   Data Entry P..."
            ]
          },
          "metadata": {
            "tags": []
          },
          "execution_count": 7
        }
      ]
    },
    {
      "cell_type": "code",
      "metadata": {
        "colab_type": "code",
        "id": "noJEp0he6nol",
        "outputId": "d545c934-e6c4-463a-ce55-0a3e16f0ba11",
        "colab": {
          "base_uri": "https://localhost:8080/",
          "height": 204
        }
      },
      "source": [
        "application_data.head()"
      ],
      "execution_count": 0,
      "outputs": [
        {
          "output_type": "execute_result",
          "data": {
            "text/html": [
              "<div>\n",
              "<style scoped>\n",
              "    .dataframe tbody tr th:only-of-type {\n",
              "        vertical-align: middle;\n",
              "    }\n",
              "\n",
              "    .dataframe tbody tr th {\n",
              "        vertical-align: top;\n",
              "    }\n",
              "\n",
              "    .dataframe thead th {\n",
              "        text-align: right;\n",
              "    }\n",
              "</style>\n",
              "<table border=\"1\" class=\"dataframe\">\n",
              "  <thead>\n",
              "    <tr style=\"text-align: right;\">\n",
              "      <th></th>\n",
              "      <th>JobID</th>\n",
              "      <th>Applicants</th>\n",
              "    </tr>\n",
              "  </thead>\n",
              "  <tbody>\n",
              "    <tr>\n",
              "      <th>0</th>\n",
              "      <td>300053</td>\n",
              "      <td>554 56490 72435 110599 121452 133014 135510 14...</td>\n",
              "    </tr>\n",
              "    <tr>\n",
              "      <th>1</th>\n",
              "      <td>584241</td>\n",
              "      <td>769 28149 41346 73964 92548 112940 116212 1233...</td>\n",
              "    </tr>\n",
              "    <tr>\n",
              "      <th>2</th>\n",
              "      <td>1032353</td>\n",
              "      <td>769 36607 39875 73964 92548 112940 113005 1350...</td>\n",
              "    </tr>\n",
              "    <tr>\n",
              "      <th>3</th>\n",
              "      <td>601021</td>\n",
              "      <td>769 1697 28149 30766 36607 41346 42494 66563 7...</td>\n",
              "    </tr>\n",
              "    <tr>\n",
              "      <th>4</th>\n",
              "      <td>512686</td>\n",
              "      <td>769 1697 39875 41346 73964 88381 92548 112940 ...</td>\n",
              "    </tr>\n",
              "  </tbody>\n",
              "</table>\n",
              "</div>"
            ],
            "text/plain": [
              "     JobID                                         Applicants\n",
              "0   300053  554 56490 72435 110599 121452 133014 135510 14...\n",
              "1   584241  769 28149 41346 73964 92548 112940 116212 1233...\n",
              "2  1032353  769 36607 39875 73964 92548 112940 113005 1350...\n",
              "3   601021  769 1697 28149 30766 36607 41346 42494 66563 7...\n",
              "4   512686  769 1697 39875 41346 73964 88381 92548 112940 ..."
            ]
          },
          "metadata": {
            "tags": []
          },
          "execution_count": 8
        }
      ]
    },
    {
      "cell_type": "markdown",
      "metadata": {
        "colab_type": "text",
        "id": "nfIxDStULJRJ"
      },
      "source": [
        "No of jobs and no of applicants"
      ]
    },
    {
      "cell_type": "code",
      "metadata": {
        "colab_type": "code",
        "id": "A0f32hyE6o1K",
        "outputId": "14bfc801-21fb-4fb0-f508-c0e59cd13e59",
        "colab": {
          "base_uri": "https://localhost:8080/",
          "height": 51
        }
      },
      "source": [
        "print(\"No of jobs\",len(jobs))\n",
        "print(\"No of applicants\",len(users))"
      ],
      "execution_count": 0,
      "outputs": [
        {
          "output_type": "stream",
          "text": [
            "No of jobs 256\n",
            "No of applicants 15932\n"
          ],
          "name": "stdout"
        }
      ]
    },
    {
      "cell_type": "markdown",
      "metadata": {
        "colab_type": "text",
        "id": "oUvw2r6GLRyS"
      },
      "source": [
        "Pick a random job and pull all the necessary data"
      ]
    },
    {
      "cell_type": "code",
      "metadata": {
        "colab_type": "code",
        "id": "OP_i5q7m6-RV",
        "colab": {}
      },
      "source": [
        ""
      ],
      "execution_count": 0,
      "outputs": []
    },
    {
      "cell_type": "markdown",
      "metadata": {
        "colab_type": "text",
        "id": "ct5KXYxWMH_P"
      },
      "source": [
        "Generate the Vector\n"
      ]
    },
    {
      "cell_type": "markdown",
      "metadata": {
        "colab_type": "text",
        "id": "f4zrjPlIMd0r"
      },
      "source": [
        "Cosine Similarity Scoring<br>\n",
        "Take transpose of Job Vector so that dot product can be taken<br>\n",
        "Then compute dot product"
      ]
    },
    {
      "cell_type": "code",
      "metadata": {
        "colab_type": "code",
        "id": "2FKvHI-8ClUH",
        "outputId": "6a2923fc-806c-4913-aa47-9c2811cb7212",
        "colab": {
          "base_uri": "https://localhost:8080/",
          "height": 34
        }
      },
      "source": [
        "job_applicants[\"Text\"].apply(generate_vec).values.shape"
      ],
      "execution_count": 0,
      "outputs": [
        {
          "output_type": "execute_result",
          "data": {
            "text/plain": [
              "(101,)"
            ]
          },
          "metadata": {
            "tags": []
          },
          "execution_count": 26
        }
      ]
    },
    {
      "cell_type": "markdown",
      "metadata": {
        "colab_type": "text",
        "id": "8wmAVXQiM1zl"
      },
      "source": [
        "#How good is our Scoring?\n",
        "Let's compare our job description and ranked list of applicants"
      ]
    },
    {
      "cell_type": "code",
      "metadata": {
        "colab_type": "code",
        "id": "DD6S2pt2Dx9z",
        "outputId": "3d63d0d7-60a6-4be6-ba80-acb1cd7348c8",
        "colab": {
          "base_uri": "https://localhost:8080/",
          "height": 34
        }
      },
      "source": [
        "job_text"
      ],
      "execution_count": 0,
      "outputs": [
        {
          "output_type": "execute_result",
          "data": {
            "text/plain": [
              "'Customer Service Receptionist Call Center Rep we need individualcandidates who job  resumes information consideration '"
            ]
          },
          "metadata": {
            "tags": []
          },
          "execution_count": 12
        }
      ]
    },
    {
      "cell_type": "code",
      "metadata": {
        "colab_type": "code",
        "id": "gVsk0d7lDog6",
        "outputId": "598a2d48-feb4-472e-877e-ab82827bf671",
        "colab": {
          "base_uri": "https://localhost:8080/",
          "height": 419
        }
      },
      "source": [
        "job_applicants = job_applicants.sort_values('Score',ascending=False)\n",
        "job_applicants"
      ],
      "execution_count": 0,
      "outputs": [
        {
          "output_type": "execute_result",
          "data": {
            "text/html": [
              "<div>\n",
              "<style scoped>\n",
              "    .dataframe tbody tr th:only-of-type {\n",
              "        vertical-align: middle;\n",
              "    }\n",
              "\n",
              "    .dataframe tbody tr th {\n",
              "        vertical-align: top;\n",
              "    }\n",
              "\n",
              "    .dataframe thead th {\n",
              "        text-align: right;\n",
              "    }\n",
              "</style>\n",
              "<table border=\"1\" class=\"dataframe\">\n",
              "  <thead>\n",
              "    <tr style=\"text-align: right;\">\n",
              "      <th></th>\n",
              "      <th>UserID</th>\n",
              "      <th>Text</th>\n",
              "      <th>Score</th>\n",
              "    </tr>\n",
              "  </thead>\n",
              "  <tbody>\n",
              "    <tr>\n",
              "      <th>2983</th>\n",
              "      <td>1417564</td>\n",
              "      <td>None  enrollment specialist customer service t...</td>\n",
              "      <td>18.169405</td>\n",
              "    </tr>\n",
              "    <tr>\n",
              "      <th>981</th>\n",
              "      <td>595917</td>\n",
              "      <td>None  customer service receptionist collector ...</td>\n",
              "      <td>17.715459</td>\n",
              "    </tr>\n",
              "    <tr>\n",
              "      <th>1498</th>\n",
              "      <td>828915</td>\n",
              "      <td>High School  receptionist receptionist pizza d...</td>\n",
              "      <td>17.695415</td>\n",
              "    </tr>\n",
              "    <tr>\n",
              "      <th>2201</th>\n",
              "      <td>1102651</td>\n",
              "      <td>Associate administration   management temporar...</td>\n",
              "      <td>17.377137</td>\n",
              "    </tr>\n",
              "    <tr>\n",
              "      <th>2405</th>\n",
              "      <td>1178195</td>\n",
              "      <td>None  customer service representative  call ce...</td>\n",
              "      <td>17.112294</td>\n",
              "    </tr>\n",
              "    <tr>\n",
              "      <th>...</th>\n",
              "      <td>...</td>\n",
              "      <td>...</td>\n",
              "      <td>...</td>\n",
              "    </tr>\n",
              "    <tr>\n",
              "      <th>999</th>\n",
              "      <td>613510</td>\n",
              "      <td>None culinary arts warehouse worker warehousem...</td>\n",
              "      <td>10.790844</td>\n",
              "    </tr>\n",
              "    <tr>\n",
              "      <th>3039</th>\n",
              "      <td>1440396</td>\n",
              "      <td>None studies in corporate makeup artist admini...</td>\n",
              "      <td>10.689065</td>\n",
              "    </tr>\n",
              "    <tr>\n",
              "      <th>2636</th>\n",
              "      <td>1265028</td>\n",
              "      <td>None   complete daily changes in promotion and...</td>\n",
              "      <td>10.525496</td>\n",
              "    </tr>\n",
              "    <tr>\n",
              "      <th>1291</th>\n",
              "      <td>750217</td>\n",
              "      <td>None  stand up forklift driver material handle...</td>\n",
              "      <td>10.296571</td>\n",
              "    </tr>\n",
              "    <tr>\n",
              "      <th>2789</th>\n",
              "      <td>1334505</td>\n",
              "      <td>Master accounting ledic management park compan...</td>\n",
              "      <td>10.217707</td>\n",
              "    </tr>\n",
              "  </tbody>\n",
              "</table>\n",
              "<p>188 rows × 3 columns</p>\n",
              "</div>"
            ],
            "text/plain": [
              "       UserID                                               Text      Score\n",
              "2983  1417564  None  enrollment specialist customer service t...  18.169405\n",
              "981    595917  None  customer service receptionist collector ...  17.715459\n",
              "1498   828915  High School  receptionist receptionist pizza d...  17.695415\n",
              "2201  1102651  Associate administration   management temporar...  17.377137\n",
              "2405  1178195  None  customer service representative  call ce...  17.112294\n",
              "...       ...                                                ...        ...\n",
              "999    613510  None culinary arts warehouse worker warehousem...  10.790844\n",
              "3039  1440396  None studies in corporate makeup artist admini...  10.689065\n",
              "2636  1265028  None   complete daily changes in promotion and...  10.525496\n",
              "1291   750217  None  stand up forklift driver material handle...  10.296571\n",
              "2789  1334505  Master accounting ledic management park compan...  10.217707\n",
              "\n",
              "[188 rows x 3 columns]"
            ]
          },
          "metadata": {
            "tags": []
          },
          "execution_count": 13
        }
      ]
    },
    {
      "cell_type": "markdown",
      "metadata": {
        "colab_type": "text",
        "id": "ERKsG7sDM_54"
      },
      "source": [
        "Applicants with customer service experience are ranked higher and the person with a degree is ranked highest.<br>\n",
        "Non relevant job experience - cook or no experience are ranked last."
      ]
    },
    {
      "cell_type": "code",
      "metadata": {
        "colab_type": "code",
        "id": "xrmj2MS6HEHC",
        "outputId": "99a6a615-0a23-4f94-c2c6-0b49fcbf5b02",
        "colab": {
          "base_uri": "https://localhost:8080/",
          "height": 181
        }
      },
      "source": [
        "print(\"Score Mean\", scores.mean())\n",
        "print('Score Deviation',scores.std())"
      ],
      "execution_count": 0,
      "outputs": [
        {
          "output_type": "error",
          "ename": "NameError",
          "evalue": "ignored",
          "traceback": [
            "\u001b[0;31m---------------------------------------------------------------------------\u001b[0m",
            "\u001b[0;31mNameError\u001b[0m                                 Traceback (most recent call last)",
            "\u001b[0;32m<ipython-input-16-1c16e62cdd9f>\u001b[0m in \u001b[0;36m<module>\u001b[0;34m()\u001b[0m\n\u001b[0;32m----> 1\u001b[0;31m \u001b[0mprint\u001b[0m\u001b[0;34m(\u001b[0m\u001b[0;34m\"Score Mean\"\u001b[0m\u001b[0;34m,\u001b[0m \u001b[0mscores\u001b[0m\u001b[0;34m.\u001b[0m\u001b[0mmean\u001b[0m\u001b[0;34m(\u001b[0m\u001b[0;34m)\u001b[0m\u001b[0;34m)\u001b[0m\u001b[0;34m\u001b[0m\u001b[0;34m\u001b[0m\u001b[0m\n\u001b[0m\u001b[1;32m      2\u001b[0m \u001b[0mprint\u001b[0m\u001b[0;34m(\u001b[0m\u001b[0;34m'Score Deviation'\u001b[0m\u001b[0;34m,\u001b[0m\u001b[0mscores\u001b[0m\u001b[0;34m.\u001b[0m\u001b[0mstd\u001b[0m\u001b[0;34m(\u001b[0m\u001b[0;34m)\u001b[0m\u001b[0;34m)\u001b[0m\u001b[0;34m\u001b[0m\u001b[0;34m\u001b[0m\u001b[0m\n",
            "\u001b[0;31mNameError\u001b[0m: name 'scores' is not defined"
          ]
        }
      ]
    },
    {
      "cell_type": "code",
      "metadata": {
        "colab_type": "code",
        "id": "mCqTgQvSHrPn",
        "outputId": "18da13cd-f6c4-47e6-b865-e305f1bf22a1",
        "colab": {
          "base_uri": "https://localhost:8080/",
          "height": 71
        }
      },
      "source": [
        "import seaborn as sns"
      ],
      "execution_count": 0,
      "outputs": [
        {
          "output_type": "stream",
          "text": [
            "/usr/local/lib/python3.6/dist-packages/statsmodels/tools/_testing.py:19: FutureWarning: pandas.util.testing is deprecated. Use the functions in the public API at pandas.testing instead.\n",
            "  import pandas.util.testing as tm\n"
          ],
          "name": "stderr"
        }
      ]
    },
    {
      "cell_type": "code",
      "metadata": {
        "colab_type": "code",
        "id": "4sOi8fsjO9T0",
        "colab": {}
      },
      "source": [
        "job_applicants[\"Score\"].skew()\n",
        "score = job_applicants[\"Score\"]"
      ],
      "execution_count": 0,
      "outputs": []
    },
    {
      "cell_type": "code",
      "metadata": {
        "colab_type": "code",
        "id": "j3Uogo6TLQka",
        "outputId": "8cc57db2-18b2-45d1-b263-9234880f9c77",
        "colab": {
          "base_uri": "https://localhost:8080/",
          "height": 296
        }
      },
      "source": [
        "sns.distplot(score)\n",
        "print(score.skew())"
      ],
      "execution_count": 0,
      "outputs": [
        {
          "output_type": "stream",
          "text": [
            "1.1060966337537197\n"
          ],
          "name": "stdout"
        },
        {
          "output_type": "display_data",
          "data": {
            "image/png": "[encoded data removed]",
            "text/plain": [
              "<Figure size 432x288 with 1 Axes>"
            ]
          },
          "metadata": {
            "tags": [],
            "needs_background": "light"
          }
        }
      ]
    },
    {
      "cell_type": "code",
      "metadata": {
        "colab_type": "code",
        "id": "-7c73CMBSCcy",
        "outputId": "e4c4765f-970c-474e-ec93-afb147ce5310",
        "colab": {
          "base_uri": "https://localhost:8080/",
          "height": 296
        }
      },
      "source": [
        "n3= np.log(score)+1\n",
        "sns.distplot(n3)\n",
        "print(n3.skew())\n"
      ],
      "execution_count": 0,
      "outputs": [
        {
          "output_type": "stream",
          "text": [
            "0.721615541913299\n"
          ],
          "name": "stdout"
        },
        {
          "output_type": "display_data",
          "data": {
            "image/png": "[encoded data removed]",
            "text/plain": [
              "<Figure size 432x288 with 1 Axes>"
            ]
          },
          "metadata": {
            "tags": [],
            "needs_background": "light"
          }
        }
      ]
    },
    {
      "cell_type": "code",
      "metadata": {
        "colab_type": "code",
        "id": "amvoG9INTORR",
        "colab": {}
      },
      "source": [
        "def normalize(x):\n",
        "  x = np.log(x)+1\n",
        "  return (x-x.min())/(x.max()-x.min())\n",
        "def generate_vec(txt):\n",
        "  vecs = []\n",
        "  for word in txt.split():\n",
        "    try:\n",
        "      vecs.append(model.get_vector(word))\n",
        "    except KeyError:\n",
        "      continue\n",
        "  return np.vstack(vecs)\n",
        "def scoring(x,y):\n",
        "  xnorm= np.linalg.norm(x)\n",
        "  ynorm = np.linalg.norm(y)\n",
        "  dot = np.dot(x,y)\n",
        "  score = np.linalg.norm(dot/(xnorm*ynorm))\n",
        "  return score\n",
        "\n",
        "def get_pairs(job_id):\n",
        "  result = []\n",
        "  userids = application_data[application_data['JobID']==(job_id)][\"Applicants\"].values[0]\n",
        "  userids = [int(i) for i in userids.split()]\n",
        "  job_applicants= users[users['UserID'].isin(userids)]\n",
        "  job_text = jobs[jobs[\"JobID\"]==job_id][\"Total\"].values[0]\n",
        "  job_vector = generate_vec(job_text) \n",
        "  job_vector_transpose = job_vector.T\n",
        "  applicant_vectors = job_applicants[\"Text\"].apply(generate_vec).values\n",
        "\n",
        "  for vec in applicant_vectors:\n",
        "    score = scoring(vec,job_vector_transpose)\n",
        "    result.append((np.vstack((vec,job_vector)),score)   )\n",
        "  return result\n",
        "  \n"
      ],
      "execution_count": 0,
      "outputs": []
    },
    {
      "cell_type": "code",
      "metadata": {
        "colab_type": "code",
        "id": "zM4d-jWabv1q",
        "colab": {}
      },
      "source": [
        "job_ids = jobs[\"JobID\"].values"
      ],
      "execution_count": 0,
      "outputs": []
    },
    {
      "cell_type": "code",
      "metadata": {
        "colab_type": "code",
        "id": "w8-49DaZb7wD",
        "colab": {}
      },
      "source": [
        "total_results = [] \n",
        "for j_id in job_ids:\n",
        "  total_results+=get_pairs(j_id)"
      ],
      "execution_count": 0,
      "outputs": []
    },
    {
      "cell_type": "code",
      "metadata": {
        "colab_type": "code",
        "id": "uB6HQ48mc5Mk",
        "colab": {}
      },
      "source": [
        "del(model)\n",
        "input_vecs = [i[0] for i in total_results]\n",
        "scores = [i[1] for i in total_results]\n",
        "del(total_results)"
      ],
      "execution_count": 0,
      "outputs": []
    },
    {
      "cell_type": "code",
      "metadata": {
        "colab_type": "code",
        "id": "sVhADuC3dsyo",
        "colab": {}
      },
      "source": [
        "scores = normalize(scores)"
      ],
      "execution_count": 0,
      "outputs": []
    },
    {
      "cell_type": "code",
      "metadata": {
        "colab_type": "code",
        "id": "dpH043C1-u_F",
        "colab": {}
      },
      "source": [
        "scores = np.float32(scores)"
      ],
      "execution_count": 0,
      "outputs": []
    },
    {
      "cell_type": "code",
      "metadata": {
        "colab_type": "code",
        "id": "L-3VuO4cfBUx",
        "colab": {}
      },
      "source": [
        "dims = [i.shape[0] for i in input_vecs  ]"
      ],
      "execution_count": 0,
      "outputs": []
    },
    {
      "cell_type": "code",
      "metadata": {
        "colab_type": "code",
        "id": "DDysoxoKj30V",
        "outputId": "9d39d76a-44d6-4e41-f764-152f567beb87",
        "colab": {
          "base_uri": "https://localhost:8080/",
          "height": 34
        }
      },
      "source": [
        "len(input_vecs)"
      ],
      "execution_count": 0,
      "outputs": [
        {
          "output_type": "execute_result",
          "data": {
            "text/plain": [
              "31373"
            ]
          },
          "metadata": {
            "tags": []
          },
          "execution_count": 17
        }
      ]
    },
    {
      "cell_type": "code",
      "metadata": {
        "colab_type": "code",
        "id": "bYQdN_96BoNl",
        "colab": {}
      },
      "source": [
        "input_vecs = np.array(input_vecs)"
      ],
      "execution_count": 0,
      "outputs": []
    },
    {
      "cell_type": "code",
      "metadata": {
        "colab_type": "code",
        "id": "CCpB7_5nCDiV",
        "colab": {}
      },
      "source": [
        ""
      ],
      "execution_count": 0,
      "outputs": []
    },
    {
      "cell_type": "code",
      "metadata": {
        "colab_type": "code",
        "id": "fFnLlGg_CQPL",
        "colab": {}
      },
      "source": [
        "x_sample,x_other,y_sample,y_other = tts(input_vecs,scores,test_size=0.9)"
      ],
      "execution_count": 0,
      "outputs": []
    },
    {
      "cell_type": "code",
      "metadata": {
        "colab_type": "code",
        "id": "Q-kFpyt2GPqc",
        "colab": {}
      },
      "source": [
        "del(input_vecs)\n",
        "del(x_other)"
      ],
      "execution_count": 0,
      "outputs": []
    },
    {
      "cell_type": "code",
      "metadata": {
        "colab_type": "code",
        "id": "PROBsP4zDed-",
        "colab": {}
      },
      "source": [
        "for i in range(x_sample.shape[0]):\n",
        "  x_sample[i] = np.vstack((  x_sample[i],np.zeros((418-x_sample[i].shape[0],300))            ))"
      ],
      "execution_count": 0,
      "outputs": []
    },
    {
      "cell_type": "code",
      "metadata": {
        "colab_type": "code",
        "id": "9RvjNjbsDbJo",
        "colab": {}
      },
      "source": [
        "dims = [i.shape[1] for i in x_sample  ]"
      ],
      "execution_count": 0,
      "outputs": []
    },
    {
      "cell_type": "code",
      "metadata": {
        "colab_type": "code",
        "id": "SaVjqBNNDqXF",
        "colab": {}
      },
      "source": [
        "x_op = np.vstack(tuple(x_sample))"
      ],
      "execution_count": 0,
      "outputs": []
    },
    {
      "cell_type": "code",
      "metadata": {
        "colab_type": "code",
        "id": "-CrZwZ0cEFme",
        "colab": {}
      },
      "source": [
        "x_op = x_op.reshape((-1,418,300))"
      ],
      "execution_count": 0,
      "outputs": []
    },
    {
      "cell_type": "code",
      "metadata": {
        "colab_type": "code",
        "id": "xm4ZgZdhERCB",
        "colab": {}
      },
      "source": [
        "from tensorflow.keras.layers import Dense,Masking,Input\n",
        "from tensorflow.keras.models import Model\n",
        "import tensorflow as tf\n",
        "import numpy as np\n",
        "from sklearn.model_selection import train_test_split as tts"
      ],
      "execution_count": 0,
      "outputs": []
    },
    {
      "cell_type": "code",
      "metadata": {
        "colab_type": "code",
        "id": "02cfyjACJ8Y6",
        "outputId": "0c812f3d-ec35-48cb-b125-81da30a98627",
        "colab": {
          "base_uri": "https://localhost:8080/",
          "height": 181
        }
      },
      "source": [
        "np.save(\"regression_training.npy\",x_op)\n",
        "np.save(\"regression_training_output\",y_sample)"
      ],
      "execution_count": 0,
      "outputs": [
        {
          "output_type": "error",
          "ename": "NameError",
          "evalue": "ignored",
          "traceback": [
            "\u001b[0;31m---------------------------------------------------------------------------\u001b[0m",
            "\u001b[0;31mNameError\u001b[0m                                 Traceback (most recent call last)",
            "\u001b[0;32m<ipython-input-5-8395029943ae>\u001b[0m in \u001b[0;36m<module>\u001b[0;34m()\u001b[0m\n\u001b[0;32m----> 1\u001b[0;31m \u001b[0mnp\u001b[0m\u001b[0;34m.\u001b[0m\u001b[0msave\u001b[0m\u001b[0;34m(\u001b[0m\u001b[0;34m\"regression_training.npy\"\u001b[0m\u001b[0;34m,\u001b[0m\u001b[0mx_op\u001b[0m\u001b[0;34m)\u001b[0m\u001b[0;34m\u001b[0m\u001b[0;34m\u001b[0m\u001b[0m\n\u001b[0m\u001b[1;32m      2\u001b[0m \u001b[0mnp\u001b[0m\u001b[0;34m.\u001b[0m\u001b[0msave\u001b[0m\u001b[0;34m(\u001b[0m\u001b[0;34m\"regression_training_output\"\u001b[0m\u001b[0;34m,\u001b[0m\u001b[0my_sample\u001b[0m\u001b[0;34m)\u001b[0m\u001b[0;34m\u001b[0m\u001b[0;34m\u001b[0m\u001b[0m\n",
            "\u001b[0;31mNameError\u001b[0m: name 'x_op' is not defined"
          ]
        }
      ]
    },
    {
      "cell_type": "code",
      "metadata": {
        "colab_type": "code",
        "id": "PcaK5HuoUZxS",
        "colab": {}
      },
      "source": [
        "x_op = np.load(\"regression_training.npy\")\n",
        "y_sample = np.load(\"regression_training_output.npy\")"
      ],
      "execution_count": 0,
      "outputs": []
    },
    {
      "cell_type": "code",
      "metadata": {
        "colab_type": "code",
        "id": "JS80D7XZDU0U",
        "colab": {}
      },
      "source": [
        "x_train,x_test,y_train,y_test = tts(x_op,y_sample,test_size=0.1)"
      ],
      "execution_count": 0,
      "outputs": []
    },
    {
      "cell_type": "markdown",
      "metadata": {
        "colab_type": "text",
        "id": "G_iAizB8mMiR"
      },
      "source": [
        ""
      ]
    },
    {
      "cell_type": "code",
      "metadata": {
        "colab_type": "code",
        "id": "TyhgdEUvKbm2",
        "colab": {}
      },
      "source": [
        "del(x_op)"
      ],
      "execution_count": 0,
      "outputs": []
    },
    {
      "cell_type": "code",
      "metadata": {
        "colab_type": "code",
        "id": "jNsrfPgYKhKj",
        "colab": {}
      },
      "source": [
        "del(y_sample)"
      ],
      "execution_count": 0,
      "outputs": []
    },
    {
      "cell_type": "code",
      "metadata": {
        "colab_type": "code",
        "id": "3v4ac0u8KrnM",
        "outputId": "3e56ff72-0d29-4189-8557-28871184d3dc",
        "colab": {
          "base_uri": "https://localhost:8080/",
          "height": 34
        }
      },
      "source": [
        "import gc\n",
        "gc.collect()"
      ],
      "execution_count": 0,
      "outputs": [
        {
          "output_type": "execute_result",
          "data": {
            "text/plain": [
              "5130"
            ]
          },
          "metadata": {
            "tags": []
          },
          "execution_count": 36
        }
      ]
    },
    {
      "cell_type": "code",
      "metadata": {
        "colab_type": "code",
        "id": "XLpNO4enmrGQ",
        "outputId": "69229351-6bfd-4e77-a063-5acfc5086ddb",
        "colab": {
          "base_uri": "https://localhost:8080/",
          "height": 34
        }
      },
      "source": [
        "import sys\n",
        "sys.getsizeof(x_train)/(1024**3)"
      ],
      "execution_count": 0,
      "outputs": [
        {
          "output_type": "execute_result",
          "data": {
            "text/plain": [
              "2.637536942958832"
            ]
          },
          "metadata": {
            "tags": []
          },
          "execution_count": 18
        }
      ]
    },
    {
      "cell_type": "code",
      "metadata": {
        "colab_type": "code",
        "id": "dyip3WeuJGKq",
        "colab": {}
      },
      "source": [
        "x_train,x_val,y_train,y_val = tts(x_train,y_train,test_size=0.05)"
      ],
      "execution_count": 0,
      "outputs": []
    },
    {
      "cell_type": "code",
      "metadata": {
        "colab_type": "code",
        "id": "DXj0hvn5g_Zk",
        "colab": {}
      },
      "source": [
        "x_train = x_train.reshape((-1,418,300,1))\n",
        "x_val = x_val.reshape((-1,418,300,1))"
      ],
      "execution_count": 0,
      "outputs": []
    },
    {
      "cell_type": "code",
      "metadata": {
        "colab_type": "code",
        "id": "hEDDbrx7IqQP",
        "colab": {}
      },
      "source": [
        "inp = Input(shape=(418,300,1))\n",
        "m = Masking()(inp)\n",
        "conv = tf.keras.layers.Conv2D(filters = 3,kernel_size=(5,5),strides=(5,5),data_format='channels_last',activation='relu')(m)\n",
        "conv2 = tf.keras.layers.Conv2D(filters = 1,kernel_size=(3,3),strides=(5,5),data_format='channels_last',activation='relu')(conv)\n",
        "flatten = tf.keras.layers.Flatten()(conv2)\n",
        "d1 = Dense(100,activation='relu')(flatten)\n",
        "d2 = Dense(10,activation='relu')(d1)\n",
        "d3 = Dense(1,activation='sigmoid')(d2)\n",
        "model=Model(inp,d3)"
      ],
      "execution_count": 0,
      "outputs": []
    },
    {
      "cell_type": "code",
      "metadata": {
        "colab_type": "code",
        "id": "L7FV-d89I8I-",
        "colab": {}
      },
      "source": [
        "model.compile(loss='mean_squared_logarithmic_error',optimizer='adam',metrics=[tf.keras.metrics.RootMeanSquaredError()])"
      ],
      "execution_count": 0,
      "outputs": []
    },
    {
      "cell_type": "code",
      "metadata": {
        "colab_type": "code",
        "id": "kgOptifDLaR8",
        "outputId": "e7671a98-3bb0-4aff-8dca-ce6d94567a90",
        "colab": {
          "base_uri": "https://localhost:8080/",
          "height": 425
        }
      },
      "source": [
        "model.summary()"
      ],
      "execution_count": 0,
      "outputs": [
        {
          "output_type": "stream",
          "text": [
            "Model: \"model\"\n",
            "_________________________________________________________________\n",
            "Layer (type)                 Output Shape              Param #   \n",
            "=================================================================\n",
            "input_1 (InputLayer)         [(None, 418, 300, 1)]     0         \n",
            "_________________________________________________________________\n",
            "masking (Masking)            (None, 418, 300, 1)       0         \n",
            "_________________________________________________________________\n",
            "conv2d (Conv2D)              (None, 83, 60, 3)         78        \n",
            "_________________________________________________________________\n",
            "conv2d_1 (Conv2D)            (None, 17, 12, 1)         28        \n",
            "_________________________________________________________________\n",
            "flatten (Flatten)            (None, 204)               0         \n",
            "_________________________________________________________________\n",
            "dense (Dense)                (None, 100)               20500     \n",
            "_________________________________________________________________\n",
            "dense_1 (Dense)              (None, 10)                1010      \n",
            "_________________________________________________________________\n",
            "dense_2 (Dense)              (None, 1)                 11        \n",
            "=================================================================\n",
            "Total params: 21,627\n",
            "Trainable params: 21,627\n",
            "Non-trainable params: 0\n",
            "_________________________________________________________________\n"
          ],
          "name": "stdout"
        }
      ]
    },
    {
      "cell_type": "code",
      "metadata": {
        "colab_type": "code",
        "id": "1mn6OjtSLVbU",
        "outputId": "6584e3f9-ae17-46d1-aa30-cbb987226d24",
        "colab": {
          "base_uri": "https://localhost:8080/",
          "height": 442
        }
      },
      "source": [
        "model.fit(x_train,y_train,epochs=12,batch_size=128)"
      ],
      "execution_count": 0,
      "outputs": [
        {
          "output_type": "stream",
          "text": [
            "Epoch 1/12\n",
            "21/21 [==============================] - 1s 31ms/step - loss: 0.0017 - root_mean_squared_error: 0.0597\n",
            "Epoch 2/12\n",
            "21/21 [==============================] - 1s 33ms/step - loss: 0.0015 - root_mean_squared_error: 0.0562\n",
            "Epoch 3/12\n",
            "21/21 [==============================] - 1s 31ms/step - loss: 0.0014 - root_mean_squared_error: 0.0545\n",
            "Epoch 4/12\n",
            "21/21 [==============================] - 1s 31ms/step - loss: 0.0013 - root_mean_squared_error: 0.0526\n",
            "Epoch 5/12\n",
            "21/21 [==============================] - 1s 30ms/step - loss: 0.0013 - root_mean_squared_error: 0.0523\n",
            "Epoch 6/12\n",
            "21/21 [==============================] - 1s 30ms/step - loss: 0.0012 - root_mean_squared_error: 0.0511\n",
            "Epoch 7/12\n",
            "21/21 [==============================] - 1s 31ms/step - loss: 0.0012 - root_mean_squared_error: 0.0498\n",
            "Epoch 8/12\n",
            "21/21 [==============================] - 1s 31ms/step - loss: 0.0011 - root_mean_squared_error: 0.0490\n",
            "Epoch 9/12\n",
            "21/21 [==============================] - 1s 31ms/step - loss: 0.0011 - root_mean_squared_error: 0.0483\n",
            "Epoch 10/12\n",
            "21/21 [==============================] - 1s 31ms/step - loss: 0.0011 - root_mean_squared_error: 0.0473\n",
            "Epoch 11/12\n",
            "21/21 [==============================] - 1s 32ms/step - loss: 0.0010 - root_mean_squared_error: 0.0469\n",
            "Epoch 12/12\n",
            "21/21 [==============================] - 1s 30ms/step - loss: 9.9838e-04 - root_mean_squared_error: 0.0458\n"
          ],
          "name": "stdout"
        },
        {
          "output_type": "execute_result",
          "data": {
            "text/plain": [
              "<tensorflow.python.keras.callbacks.History at 0x7f35600912b0>"
            ]
          },
          "metadata": {
            "tags": []
          },
          "execution_count": 30
        }
      ]
    },
    {
      "cell_type": "code",
      "metadata": {
        "colab_type": "code",
        "id": "l3JUwYiZOyvW",
        "outputId": "65de21c6-b880-432d-a0a5-273d02174e6f",
        "colab": {
          "base_uri": "https://localhost:8080/",
          "height": 51
        }
      },
      "source": [
        "model.evaluate(x_val,y_val)"
      ],
      "execution_count": 0,
      "outputs": [
        {
          "output_type": "stream",
          "text": [
            "5/5 [==============================] - 0s 6ms/step - loss: 0.0119 - root_mean_squared_error: 0.1583\n"
          ],
          "name": "stdout"
        },
        {
          "output_type": "execute_result",
          "data": {
            "text/plain": [
              "[0.011887798085808754, 0.15828628838062286]"
            ]
          },
          "metadata": {
            "tags": []
          },
          "execution_count": 31
        }
      ]
    },
    {
      "cell_type": "code",
      "metadata": {
        "colab_type": "code",
        "id": "6eJjb5-GRkVm",
        "outputId": "6c4e3a2e-1da8-4577-d6eb-00c7c8e99223",
        "colab": {
          "base_uri": "https://localhost:8080/",
          "height": 71
        }
      },
      "source": [
        "import seaborn as sns"
      ],
      "execution_count": 0,
      "outputs": [
        {
          "output_type": "stream",
          "text": [
            "/usr/local/lib/python3.6/dist-packages/statsmodels/tools/_testing.py:19: FutureWarning: pandas.util.testing is deprecated. Use the functions in the public API at pandas.testing instead.\n",
            "  import pandas.util.testing as tm\n"
          ],
          "name": "stderr"
        }
      ]
    },
    {
      "cell_type": "code",
      "metadata": {
        "colab_type": "code",
        "id": "McB0kjM7Rmwo",
        "outputId": "893a0582-127e-4497-a946-1ce2a4ec3234",
        "colab": {
          "base_uri": "https://localhost:8080/",
          "height": 282
        }
      },
      "source": [
        "sns.distplot(model.predict(x_val))"
      ],
      "execution_count": 0,
      "outputs": [
        {
          "output_type": "execute_result",
          "data": {
            "text/plain": [
              "<matplotlib.axes._subplots.AxesSubplot at 0x7f341f637c88>"
            ]
          },
          "metadata": {
            "tags": []
          },
          "execution_count": 33
        },
        {
          "output_type": "display_data",
          "data": {
            "image/png": "[encoded data removed]",
            "text/plain": [
              "<Figure size 432x288 with 1 Axes>"
            ]
          },
          "metadata": {
            "tags": [],
            "needs_background": "light"
          }
        }
      ]
    },
    {
      "cell_type": "code",
      "metadata": {
        "colab_type": "code",
        "id": "jdkOufQYRrQh",
        "outputId": "27642c6b-f025-4620-9e81-0216b761bb43",
        "colab": {
          "base_uri": "https://localhost:8080/",
          "height": 282
        }
      },
      "source": [
        "sns.distplot(y_val)"
      ],
      "execution_count": 0,
      "outputs": [
        {
          "output_type": "execute_result",
          "data": {
            "text/plain": [
              "<matplotlib.axes._subplots.AxesSubplot at 0x7fe79deee9b0>"
            ]
          },
          "metadata": {
            "tags": []
          },
          "execution_count": 20
        },
        {
          "output_type": "display_data",
          "data": {
            "image/png": "[encoded data removed]",
            "text/plain": [
              "<Figure size 432x288 with 1 Axes>"
            ]
          },
          "metadata": {
            "tags": [],
            "needs_background": "light"
          }
        }
      ]
    },
    {
      "cell_type": "code",
      "metadata": {
        "colab_type": "code",
        "id": "Fx_BpctvvKLV",
        "colab": {}
      },
      "source": [
        ""
      ],
      "execution_count": 0,
      "outputs": []
    }
  ]
}